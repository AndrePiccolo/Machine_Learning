{
 "cells": [
  {
   "cell_type": "markdown",
   "id": "a4abf21b",
   "metadata": {},
   "source": [
    "# Project - Traffic Volume Prediction - Andre Piccolo - 300347025"
   ]
  },
  {
   "cell_type": "markdown",
   "id": "c9afc65b",
   "metadata": {},
   "source": [
    "* Dataset from: https://archive.ics.uci.edu/ml/datasets/metro+interstate+traffic+volume"
   ]
  },
  {
   "cell_type": "markdown",
   "id": "d25c43d2",
   "metadata": {},
   "source": [
    "## Library import"
   ]
  },
  {
   "cell_type": "code",
   "execution_count": 1,
   "id": "7abd6282",
   "metadata": {},
   "outputs": [],
   "source": [
    "import numpy as np\n",
    "import pandas as pd\n",
    "import matplotlib.pyplot as plt\n",
    "import seaborn as sns\n",
    "from sklearn.feature_selection import VarianceThreshold\n",
    "from sklearn.feature_selection import SelectKBest\n",
    "from sklearn.feature_selection import f_regression\n",
    "from sklearn.model_selection import train_test_split\n",
    "from sklearn.linear_model import LinearRegression\n",
    "from sklearn.metrics import mean_squared_error\n",
    "from sklearn.preprocessing import PolynomialFeatures\n",
    "from sklearn.preprocessing import RobustScaler\n",
    "from sklearn.linear_model import Ridge, Lasso \n",
    "from sklearn.ensemble import RandomForestClassifier\n",
    "from sklearn.feature_selection import SelectFromModel\n",
    "from sklearn.tree import DecisionTreeRegressor\n",
    "from sklearn.ensemble import GradientBoostingRegressor\n",
    "from sklearn.ensemble import RandomForestRegressor\n",
    "from sklearn.ensemble import AdaBoostRegressor\n",
    "from catboost import CatBoostRegressor\n",
    "from sklearn.pipeline import Pipeline\n",
    "from sklearn.metrics import confusion_matrix\n",
    "from sklearn.metrics import classification_report\n",
    "from sklearn.svm import SVC\n",
    "from sklearn.model_selection import GridSearchCV\n",
    "from sklearn.neighbors import KNeighborsClassifier"
   ]
  },
  {
   "cell_type": "markdown",
   "id": "686e04e1",
   "metadata": {},
   "source": [
    "## Load dataset"
   ]
  },
  {
   "cell_type": "code",
   "execution_count": 2,
   "id": "8f9a4d49",
   "metadata": {},
   "outputs": [
    {
     "data": {
      "text/html": [
       "<div>\n",
       "<style scoped>\n",
       "    .dataframe tbody tr th:only-of-type {\n",
       "        vertical-align: middle;\n",
       "    }\n",
       "\n",
       "    .dataframe tbody tr th {\n",
       "        vertical-align: top;\n",
       "    }\n",
       "\n",
       "    .dataframe thead th {\n",
       "        text-align: right;\n",
       "    }\n",
       "</style>\n",
       "<table border=\"1\" class=\"dataframe\">\n",
       "  <thead>\n",
       "    <tr style=\"text-align: right;\">\n",
       "      <th></th>\n",
       "      <th>holiday</th>\n",
       "      <th>temp</th>\n",
       "      <th>rain_1h</th>\n",
       "      <th>snow_1h</th>\n",
       "      <th>clouds_all</th>\n",
       "      <th>weather_main</th>\n",
       "      <th>weather_description</th>\n",
       "      <th>date_time</th>\n",
       "      <th>traffic_volume</th>\n",
       "    </tr>\n",
       "  </thead>\n",
       "  <tbody>\n",
       "    <tr>\n",
       "      <th>0</th>\n",
       "      <td>None</td>\n",
       "      <td>288.28</td>\n",
       "      <td>0.0</td>\n",
       "      <td>0.0</td>\n",
       "      <td>40</td>\n",
       "      <td>Clouds</td>\n",
       "      <td>scattered clouds</td>\n",
       "      <td>2012-10-02 09:00:00</td>\n",
       "      <td>5545</td>\n",
       "    </tr>\n",
       "    <tr>\n",
       "      <th>1</th>\n",
       "      <td>None</td>\n",
       "      <td>289.36</td>\n",
       "      <td>0.0</td>\n",
       "      <td>0.0</td>\n",
       "      <td>75</td>\n",
       "      <td>Clouds</td>\n",
       "      <td>broken clouds</td>\n",
       "      <td>2012-10-02 10:00:00</td>\n",
       "      <td>4516</td>\n",
       "    </tr>\n",
       "    <tr>\n",
       "      <th>2</th>\n",
       "      <td>None</td>\n",
       "      <td>289.58</td>\n",
       "      <td>0.0</td>\n",
       "      <td>0.0</td>\n",
       "      <td>90</td>\n",
       "      <td>Clouds</td>\n",
       "      <td>overcast clouds</td>\n",
       "      <td>2012-10-02 11:00:00</td>\n",
       "      <td>4767</td>\n",
       "    </tr>\n",
       "    <tr>\n",
       "      <th>3</th>\n",
       "      <td>None</td>\n",
       "      <td>290.13</td>\n",
       "      <td>0.0</td>\n",
       "      <td>0.0</td>\n",
       "      <td>90</td>\n",
       "      <td>Clouds</td>\n",
       "      <td>overcast clouds</td>\n",
       "      <td>2012-10-02 12:00:00</td>\n",
       "      <td>5026</td>\n",
       "    </tr>\n",
       "    <tr>\n",
       "      <th>4</th>\n",
       "      <td>None</td>\n",
       "      <td>291.14</td>\n",
       "      <td>0.0</td>\n",
       "      <td>0.0</td>\n",
       "      <td>75</td>\n",
       "      <td>Clouds</td>\n",
       "      <td>broken clouds</td>\n",
       "      <td>2012-10-02 13:00:00</td>\n",
       "      <td>4918</td>\n",
       "    </tr>\n",
       "  </tbody>\n",
       "</table>\n",
       "</div>"
      ],
      "text/plain": [
       "  holiday    temp  rain_1h  snow_1h  clouds_all weather_main  \\\n",
       "0    None  288.28      0.0      0.0          40       Clouds   \n",
       "1    None  289.36      0.0      0.0          75       Clouds   \n",
       "2    None  289.58      0.0      0.0          90       Clouds   \n",
       "3    None  290.13      0.0      0.0          90       Clouds   \n",
       "4    None  291.14      0.0      0.0          75       Clouds   \n",
       "\n",
       "  weather_description            date_time  traffic_volume  \n",
       "0    scattered clouds  2012-10-02 09:00:00            5545  \n",
       "1       broken clouds  2012-10-02 10:00:00            4516  \n",
       "2     overcast clouds  2012-10-02 11:00:00            4767  \n",
       "3     overcast clouds  2012-10-02 12:00:00            5026  \n",
       "4       broken clouds  2012-10-02 13:00:00            4918  "
      ]
     },
     "execution_count": 2,
     "metadata": {},
     "output_type": "execute_result"
    }
   ],
   "source": [
    "df = pd.read_csv('Dataset/Metro_Interstate_Traffic_Volume.csv')\n",
    "df.head()"
   ]
  },
  {
   "cell_type": "code",
   "execution_count": 3,
   "id": "4f1c1af2",
   "metadata": {},
   "outputs": [
    {
     "name": "stdout",
     "output_type": "stream",
     "text": [
      "<class 'pandas.core.frame.DataFrame'>\n",
      "RangeIndex: 48204 entries, 0 to 48203\n",
      "Data columns (total 9 columns):\n",
      " #   Column               Non-Null Count  Dtype  \n",
      "---  ------               --------------  -----  \n",
      " 0   holiday              48204 non-null  object \n",
      " 1   temp                 48204 non-null  float64\n",
      " 2   rain_1h              48204 non-null  float64\n",
      " 3   snow_1h              48204 non-null  float64\n",
      " 4   clouds_all           48204 non-null  int64  \n",
      " 5   weather_main         48204 non-null  object \n",
      " 6   weather_description  48204 non-null  object \n",
      " 7   date_time            48204 non-null  object \n",
      " 8   traffic_volume       48204 non-null  int64  \n",
      "dtypes: float64(3), int64(2), object(4)\n",
      "memory usage: 3.3+ MB\n"
     ]
    }
   ],
   "source": [
    "df.info()"
   ]
  },
  {
   "cell_type": "code",
   "execution_count": 4,
   "id": "9664e310",
   "metadata": {},
   "outputs": [
    {
     "data": {
      "text/plain": [
       "(48204, 9)"
      ]
     },
     "execution_count": 4,
     "metadata": {},
     "output_type": "execute_result"
    }
   ],
   "source": [
    "df.shape"
   ]
  },
  {
   "cell_type": "code",
   "execution_count": 5,
   "id": "7e5f866f",
   "metadata": {},
   "outputs": [
    {
     "data": {
      "text/plain": [
       "holiday                0\n",
       "temp                   0\n",
       "rain_1h                0\n",
       "snow_1h                0\n",
       "clouds_all             0\n",
       "weather_main           0\n",
       "weather_description    0\n",
       "date_time              0\n",
       "traffic_volume         0\n",
       "dtype: int64"
      ]
     },
     "execution_count": 5,
     "metadata": {},
     "output_type": "execute_result"
    }
   ],
   "source": [
    "df.isnull().sum()"
   ]
  },
  {
   "cell_type": "code",
   "execution_count": 6,
   "id": "31512b73",
   "metadata": {},
   "outputs": [
    {
     "data": {
      "text/html": [
       "<div>\n",
       "<style scoped>\n",
       "    .dataframe tbody tr th:only-of-type {\n",
       "        vertical-align: middle;\n",
       "    }\n",
       "\n",
       "    .dataframe tbody tr th {\n",
       "        vertical-align: top;\n",
       "    }\n",
       "\n",
       "    .dataframe thead th {\n",
       "        text-align: right;\n",
       "    }\n",
       "</style>\n",
       "<table border=\"1\" class=\"dataframe\">\n",
       "  <thead>\n",
       "    <tr style=\"text-align: right;\">\n",
       "      <th></th>\n",
       "      <th>temp</th>\n",
       "      <th>rain_1h</th>\n",
       "      <th>snow_1h</th>\n",
       "      <th>clouds_all</th>\n",
       "      <th>traffic_volume</th>\n",
       "    </tr>\n",
       "  </thead>\n",
       "  <tbody>\n",
       "    <tr>\n",
       "      <th>count</th>\n",
       "      <td>48204.000000</td>\n",
       "      <td>48204.000000</td>\n",
       "      <td>48204.000000</td>\n",
       "      <td>48204.000000</td>\n",
       "      <td>48204.000000</td>\n",
       "    </tr>\n",
       "    <tr>\n",
       "      <th>mean</th>\n",
       "      <td>281.205870</td>\n",
       "      <td>0.334264</td>\n",
       "      <td>0.000222</td>\n",
       "      <td>49.362231</td>\n",
       "      <td>3259.818355</td>\n",
       "    </tr>\n",
       "    <tr>\n",
       "      <th>std</th>\n",
       "      <td>13.338232</td>\n",
       "      <td>44.789133</td>\n",
       "      <td>0.008168</td>\n",
       "      <td>39.015750</td>\n",
       "      <td>1986.860670</td>\n",
       "    </tr>\n",
       "    <tr>\n",
       "      <th>min</th>\n",
       "      <td>0.000000</td>\n",
       "      <td>0.000000</td>\n",
       "      <td>0.000000</td>\n",
       "      <td>0.000000</td>\n",
       "      <td>0.000000</td>\n",
       "    </tr>\n",
       "    <tr>\n",
       "      <th>25%</th>\n",
       "      <td>272.160000</td>\n",
       "      <td>0.000000</td>\n",
       "      <td>0.000000</td>\n",
       "      <td>1.000000</td>\n",
       "      <td>1193.000000</td>\n",
       "    </tr>\n",
       "    <tr>\n",
       "      <th>50%</th>\n",
       "      <td>282.450000</td>\n",
       "      <td>0.000000</td>\n",
       "      <td>0.000000</td>\n",
       "      <td>64.000000</td>\n",
       "      <td>3380.000000</td>\n",
       "    </tr>\n",
       "    <tr>\n",
       "      <th>75%</th>\n",
       "      <td>291.806000</td>\n",
       "      <td>0.000000</td>\n",
       "      <td>0.000000</td>\n",
       "      <td>90.000000</td>\n",
       "      <td>4933.000000</td>\n",
       "    </tr>\n",
       "    <tr>\n",
       "      <th>max</th>\n",
       "      <td>310.070000</td>\n",
       "      <td>9831.300000</td>\n",
       "      <td>0.510000</td>\n",
       "      <td>100.000000</td>\n",
       "      <td>7280.000000</td>\n",
       "    </tr>\n",
       "  </tbody>\n",
       "</table>\n",
       "</div>"
      ],
      "text/plain": [
       "               temp       rain_1h       snow_1h    clouds_all  traffic_volume\n",
       "count  48204.000000  48204.000000  48204.000000  48204.000000    48204.000000\n",
       "mean     281.205870      0.334264      0.000222     49.362231     3259.818355\n",
       "std       13.338232     44.789133      0.008168     39.015750     1986.860670\n",
       "min        0.000000      0.000000      0.000000      0.000000        0.000000\n",
       "25%      272.160000      0.000000      0.000000      1.000000     1193.000000\n",
       "50%      282.450000      0.000000      0.000000     64.000000     3380.000000\n",
       "75%      291.806000      0.000000      0.000000     90.000000     4933.000000\n",
       "max      310.070000   9831.300000      0.510000    100.000000     7280.000000"
      ]
     },
     "execution_count": 6,
     "metadata": {},
     "output_type": "execute_result"
    }
   ],
   "source": [
    "df.describe()"
   ]
  },
  {
   "cell_type": "markdown",
   "id": "f8966d53",
   "metadata": {},
   "source": [
    "* Convert temperature from Kelvin to Celsius"
   ]
  },
  {
   "cell_type": "code",
   "execution_count": 7,
   "id": "b88e9a82",
   "metadata": {},
   "outputs": [
    {
     "data": {
      "text/html": [
       "<div>\n",
       "<style scoped>\n",
       "    .dataframe tbody tr th:only-of-type {\n",
       "        vertical-align: middle;\n",
       "    }\n",
       "\n",
       "    .dataframe tbody tr th {\n",
       "        vertical-align: top;\n",
       "    }\n",
       "\n",
       "    .dataframe thead th {\n",
       "        text-align: right;\n",
       "    }\n",
       "</style>\n",
       "<table border=\"1\" class=\"dataframe\">\n",
       "  <thead>\n",
       "    <tr style=\"text-align: right;\">\n",
       "      <th></th>\n",
       "      <th>holiday</th>\n",
       "      <th>temp</th>\n",
       "      <th>rain_1h</th>\n",
       "      <th>snow_1h</th>\n",
       "      <th>clouds_all</th>\n",
       "      <th>weather_main</th>\n",
       "      <th>weather_description</th>\n",
       "      <th>date_time</th>\n",
       "      <th>traffic_volume</th>\n",
       "    </tr>\n",
       "  </thead>\n",
       "  <tbody>\n",
       "    <tr>\n",
       "      <th>0</th>\n",
       "      <td>None</td>\n",
       "      <td>15.13</td>\n",
       "      <td>0.0</td>\n",
       "      <td>0.0</td>\n",
       "      <td>40</td>\n",
       "      <td>Clouds</td>\n",
       "      <td>scattered clouds</td>\n",
       "      <td>2012-10-02 09:00:00</td>\n",
       "      <td>5545</td>\n",
       "    </tr>\n",
       "    <tr>\n",
       "      <th>1</th>\n",
       "      <td>None</td>\n",
       "      <td>16.21</td>\n",
       "      <td>0.0</td>\n",
       "      <td>0.0</td>\n",
       "      <td>75</td>\n",
       "      <td>Clouds</td>\n",
       "      <td>broken clouds</td>\n",
       "      <td>2012-10-02 10:00:00</td>\n",
       "      <td>4516</td>\n",
       "    </tr>\n",
       "    <tr>\n",
       "      <th>2</th>\n",
       "      <td>None</td>\n",
       "      <td>16.43</td>\n",
       "      <td>0.0</td>\n",
       "      <td>0.0</td>\n",
       "      <td>90</td>\n",
       "      <td>Clouds</td>\n",
       "      <td>overcast clouds</td>\n",
       "      <td>2012-10-02 11:00:00</td>\n",
       "      <td>4767</td>\n",
       "    </tr>\n",
       "    <tr>\n",
       "      <th>3</th>\n",
       "      <td>None</td>\n",
       "      <td>16.98</td>\n",
       "      <td>0.0</td>\n",
       "      <td>0.0</td>\n",
       "      <td>90</td>\n",
       "      <td>Clouds</td>\n",
       "      <td>overcast clouds</td>\n",
       "      <td>2012-10-02 12:00:00</td>\n",
       "      <td>5026</td>\n",
       "    </tr>\n",
       "    <tr>\n",
       "      <th>4</th>\n",
       "      <td>None</td>\n",
       "      <td>17.99</td>\n",
       "      <td>0.0</td>\n",
       "      <td>0.0</td>\n",
       "      <td>75</td>\n",
       "      <td>Clouds</td>\n",
       "      <td>broken clouds</td>\n",
       "      <td>2012-10-02 13:00:00</td>\n",
       "      <td>4918</td>\n",
       "    </tr>\n",
       "  </tbody>\n",
       "</table>\n",
       "</div>"
      ],
      "text/plain": [
       "  holiday   temp  rain_1h  snow_1h  clouds_all weather_main  \\\n",
       "0    None  15.13      0.0      0.0          40       Clouds   \n",
       "1    None  16.21      0.0      0.0          75       Clouds   \n",
       "2    None  16.43      0.0      0.0          90       Clouds   \n",
       "3    None  16.98      0.0      0.0          90       Clouds   \n",
       "4    None  17.99      0.0      0.0          75       Clouds   \n",
       "\n",
       "  weather_description            date_time  traffic_volume  \n",
       "0    scattered clouds  2012-10-02 09:00:00            5545  \n",
       "1       broken clouds  2012-10-02 10:00:00            4516  \n",
       "2     overcast clouds  2012-10-02 11:00:00            4767  \n",
       "3     overcast clouds  2012-10-02 12:00:00            5026  \n",
       "4       broken clouds  2012-10-02 13:00:00            4918  "
      ]
     },
     "execution_count": 7,
     "metadata": {},
     "output_type": "execute_result"
    }
   ],
   "source": [
    "# Convert temperature from kelvin to celsius\n",
    "df.temp = df.temp - 273.15\n",
    "df.head()"
   ]
  },
  {
   "cell_type": "code",
   "execution_count": 8,
   "id": "6f00f434",
   "metadata": {},
   "outputs": [
    {
     "data": {
      "text/html": [
       "<div>\n",
       "<style scoped>\n",
       "    .dataframe tbody tr th:only-of-type {\n",
       "        vertical-align: middle;\n",
       "    }\n",
       "\n",
       "    .dataframe tbody tr th {\n",
       "        vertical-align: top;\n",
       "    }\n",
       "\n",
       "    .dataframe thead th {\n",
       "        text-align: right;\n",
       "    }\n",
       "</style>\n",
       "<table border=\"1\" class=\"dataframe\">\n",
       "  <thead>\n",
       "    <tr style=\"text-align: right;\">\n",
       "      <th></th>\n",
       "      <th>holiday</th>\n",
       "      <th>temp</th>\n",
       "      <th>rain_1h</th>\n",
       "      <th>snow_1h</th>\n",
       "      <th>clouds_all</th>\n",
       "      <th>weather_main</th>\n",
       "      <th>weather_description</th>\n",
       "      <th>date_time</th>\n",
       "      <th>traffic_volume</th>\n",
       "    </tr>\n",
       "  </thead>\n",
       "  <tbody>\n",
       "    <tr>\n",
       "      <th>0</th>\n",
       "      <td>None</td>\n",
       "      <td>15.0</td>\n",
       "      <td>0.0</td>\n",
       "      <td>0.0</td>\n",
       "      <td>40</td>\n",
       "      <td>Clouds</td>\n",
       "      <td>scattered clouds</td>\n",
       "      <td>2012-10-02 09:00:00</td>\n",
       "      <td>5545</td>\n",
       "    </tr>\n",
       "    <tr>\n",
       "      <th>1</th>\n",
       "      <td>None</td>\n",
       "      <td>16.0</td>\n",
       "      <td>0.0</td>\n",
       "      <td>0.0</td>\n",
       "      <td>75</td>\n",
       "      <td>Clouds</td>\n",
       "      <td>broken clouds</td>\n",
       "      <td>2012-10-02 10:00:00</td>\n",
       "      <td>4516</td>\n",
       "    </tr>\n",
       "    <tr>\n",
       "      <th>2</th>\n",
       "      <td>None</td>\n",
       "      <td>16.0</td>\n",
       "      <td>0.0</td>\n",
       "      <td>0.0</td>\n",
       "      <td>90</td>\n",
       "      <td>Clouds</td>\n",
       "      <td>overcast clouds</td>\n",
       "      <td>2012-10-02 11:00:00</td>\n",
       "      <td>4767</td>\n",
       "    </tr>\n",
       "    <tr>\n",
       "      <th>3</th>\n",
       "      <td>None</td>\n",
       "      <td>17.0</td>\n",
       "      <td>0.0</td>\n",
       "      <td>0.0</td>\n",
       "      <td>90</td>\n",
       "      <td>Clouds</td>\n",
       "      <td>overcast clouds</td>\n",
       "      <td>2012-10-02 12:00:00</td>\n",
       "      <td>5026</td>\n",
       "    </tr>\n",
       "    <tr>\n",
       "      <th>4</th>\n",
       "      <td>None</td>\n",
       "      <td>18.0</td>\n",
       "      <td>0.0</td>\n",
       "      <td>0.0</td>\n",
       "      <td>75</td>\n",
       "      <td>Clouds</td>\n",
       "      <td>broken clouds</td>\n",
       "      <td>2012-10-02 13:00:00</td>\n",
       "      <td>4918</td>\n",
       "    </tr>\n",
       "  </tbody>\n",
       "</table>\n",
       "</div>"
      ],
      "text/plain": [
       "  holiday  temp  rain_1h  snow_1h  clouds_all weather_main  \\\n",
       "0    None  15.0      0.0      0.0          40       Clouds   \n",
       "1    None  16.0      0.0      0.0          75       Clouds   \n",
       "2    None  16.0      0.0      0.0          90       Clouds   \n",
       "3    None  17.0      0.0      0.0          90       Clouds   \n",
       "4    None  18.0      0.0      0.0          75       Clouds   \n",
       "\n",
       "  weather_description            date_time  traffic_volume  \n",
       "0    scattered clouds  2012-10-02 09:00:00            5545  \n",
       "1       broken clouds  2012-10-02 10:00:00            4516  \n",
       "2     overcast clouds  2012-10-02 11:00:00            4767  \n",
       "3     overcast clouds  2012-10-02 12:00:00            5026  \n",
       "4       broken clouds  2012-10-02 13:00:00            4918  "
      ]
     },
     "execution_count": 8,
     "metadata": {},
     "output_type": "execute_result"
    }
   ],
   "source": [
    "# Round temperature to consider only integer values\n",
    "df.temp = df.temp.round(0)\n",
    "df.head()"
   ]
  },
  {
   "cell_type": "markdown",
   "id": "8c4d4827",
   "metadata": {},
   "source": [
    "* split date_time features in two new features"
   ]
  },
  {
   "cell_type": "code",
   "execution_count": 9,
   "id": "667c0086",
   "metadata": {},
   "outputs": [
    {
     "data": {
      "text/html": [
       "<div>\n",
       "<style scoped>\n",
       "    .dataframe tbody tr th:only-of-type {\n",
       "        vertical-align: middle;\n",
       "    }\n",
       "\n",
       "    .dataframe tbody tr th {\n",
       "        vertical-align: top;\n",
       "    }\n",
       "\n",
       "    .dataframe thead th {\n",
       "        text-align: right;\n",
       "    }\n",
       "</style>\n",
       "<table border=\"1\" class=\"dataframe\">\n",
       "  <thead>\n",
       "    <tr style=\"text-align: right;\">\n",
       "      <th></th>\n",
       "      <th>holiday</th>\n",
       "      <th>temp</th>\n",
       "      <th>rain_1h</th>\n",
       "      <th>snow_1h</th>\n",
       "      <th>clouds_all</th>\n",
       "      <th>weather_main</th>\n",
       "      <th>weather_description</th>\n",
       "      <th>date_time</th>\n",
       "      <th>traffic_volume</th>\n",
       "      <th>date</th>\n",
       "      <th>time</th>\n",
       "    </tr>\n",
       "  </thead>\n",
       "  <tbody>\n",
       "    <tr>\n",
       "      <th>0</th>\n",
       "      <td>None</td>\n",
       "      <td>15.0</td>\n",
       "      <td>0.0</td>\n",
       "      <td>0.0</td>\n",
       "      <td>40</td>\n",
       "      <td>Clouds</td>\n",
       "      <td>scattered clouds</td>\n",
       "      <td>2012-10-02 09:00:00</td>\n",
       "      <td>5545</td>\n",
       "      <td>2012-10-02</td>\n",
       "      <td>09:00:00</td>\n",
       "    </tr>\n",
       "    <tr>\n",
       "      <th>1</th>\n",
       "      <td>None</td>\n",
       "      <td>16.0</td>\n",
       "      <td>0.0</td>\n",
       "      <td>0.0</td>\n",
       "      <td>75</td>\n",
       "      <td>Clouds</td>\n",
       "      <td>broken clouds</td>\n",
       "      <td>2012-10-02 10:00:00</td>\n",
       "      <td>4516</td>\n",
       "      <td>2012-10-02</td>\n",
       "      <td>10:00:00</td>\n",
       "    </tr>\n",
       "    <tr>\n",
       "      <th>2</th>\n",
       "      <td>None</td>\n",
       "      <td>16.0</td>\n",
       "      <td>0.0</td>\n",
       "      <td>0.0</td>\n",
       "      <td>90</td>\n",
       "      <td>Clouds</td>\n",
       "      <td>overcast clouds</td>\n",
       "      <td>2012-10-02 11:00:00</td>\n",
       "      <td>4767</td>\n",
       "      <td>2012-10-02</td>\n",
       "      <td>11:00:00</td>\n",
       "    </tr>\n",
       "    <tr>\n",
       "      <th>3</th>\n",
       "      <td>None</td>\n",
       "      <td>17.0</td>\n",
       "      <td>0.0</td>\n",
       "      <td>0.0</td>\n",
       "      <td>90</td>\n",
       "      <td>Clouds</td>\n",
       "      <td>overcast clouds</td>\n",
       "      <td>2012-10-02 12:00:00</td>\n",
       "      <td>5026</td>\n",
       "      <td>2012-10-02</td>\n",
       "      <td>12:00:00</td>\n",
       "    </tr>\n",
       "    <tr>\n",
       "      <th>4</th>\n",
       "      <td>None</td>\n",
       "      <td>18.0</td>\n",
       "      <td>0.0</td>\n",
       "      <td>0.0</td>\n",
       "      <td>75</td>\n",
       "      <td>Clouds</td>\n",
       "      <td>broken clouds</td>\n",
       "      <td>2012-10-02 13:00:00</td>\n",
       "      <td>4918</td>\n",
       "      <td>2012-10-02</td>\n",
       "      <td>13:00:00</td>\n",
       "    </tr>\n",
       "  </tbody>\n",
       "</table>\n",
       "</div>"
      ],
      "text/plain": [
       "  holiday  temp  rain_1h  snow_1h  clouds_all weather_main  \\\n",
       "0    None  15.0      0.0      0.0          40       Clouds   \n",
       "1    None  16.0      0.0      0.0          75       Clouds   \n",
       "2    None  16.0      0.0      0.0          90       Clouds   \n",
       "3    None  17.0      0.0      0.0          90       Clouds   \n",
       "4    None  18.0      0.0      0.0          75       Clouds   \n",
       "\n",
       "  weather_description            date_time  traffic_volume        date  \\\n",
       "0    scattered clouds  2012-10-02 09:00:00            5545  2012-10-02   \n",
       "1       broken clouds  2012-10-02 10:00:00            4516  2012-10-02   \n",
       "2     overcast clouds  2012-10-02 11:00:00            4767  2012-10-02   \n",
       "3     overcast clouds  2012-10-02 12:00:00            5026  2012-10-02   \n",
       "4       broken clouds  2012-10-02 13:00:00            4918  2012-10-02   \n",
       "\n",
       "       time  \n",
       "0  09:00:00  \n",
       "1  10:00:00  \n",
       "2  11:00:00  \n",
       "3  12:00:00  \n",
       "4  13:00:00  "
      ]
     },
     "execution_count": 9,
     "metadata": {},
     "output_type": "execute_result"
    }
   ],
   "source": [
    "# split date_time in 2 columns\n",
    "df[['date','time']] = df.date_time.str.split(' ', expand=True)\n",
    "df.head()"
   ]
  },
  {
   "cell_type": "code",
   "execution_count": 10,
   "id": "4a7d979e",
   "metadata": {},
   "outputs": [
    {
     "data": {
      "text/html": [
       "<div>\n",
       "<style scoped>\n",
       "    .dataframe tbody tr th:only-of-type {\n",
       "        vertical-align: middle;\n",
       "    }\n",
       "\n",
       "    .dataframe tbody tr th {\n",
       "        vertical-align: top;\n",
       "    }\n",
       "\n",
       "    .dataframe thead th {\n",
       "        text-align: right;\n",
       "    }\n",
       "</style>\n",
       "<table border=\"1\" class=\"dataframe\">\n",
       "  <thead>\n",
       "    <tr style=\"text-align: right;\">\n",
       "      <th></th>\n",
       "      <th>holiday</th>\n",
       "      <th>temp</th>\n",
       "      <th>rain_1h</th>\n",
       "      <th>snow_1h</th>\n",
       "      <th>clouds_all</th>\n",
       "      <th>weather_main</th>\n",
       "      <th>weather_description</th>\n",
       "      <th>traffic_volume</th>\n",
       "      <th>date</th>\n",
       "      <th>time</th>\n",
       "    </tr>\n",
       "  </thead>\n",
       "  <tbody>\n",
       "    <tr>\n",
       "      <th>0</th>\n",
       "      <td>None</td>\n",
       "      <td>15.0</td>\n",
       "      <td>0.0</td>\n",
       "      <td>0.0</td>\n",
       "      <td>40</td>\n",
       "      <td>Clouds</td>\n",
       "      <td>scattered clouds</td>\n",
       "      <td>5545</td>\n",
       "      <td>2012-10-02</td>\n",
       "      <td>09:00:00</td>\n",
       "    </tr>\n",
       "    <tr>\n",
       "      <th>1</th>\n",
       "      <td>None</td>\n",
       "      <td>16.0</td>\n",
       "      <td>0.0</td>\n",
       "      <td>0.0</td>\n",
       "      <td>75</td>\n",
       "      <td>Clouds</td>\n",
       "      <td>broken clouds</td>\n",
       "      <td>4516</td>\n",
       "      <td>2012-10-02</td>\n",
       "      <td>10:00:00</td>\n",
       "    </tr>\n",
       "    <tr>\n",
       "      <th>2</th>\n",
       "      <td>None</td>\n",
       "      <td>16.0</td>\n",
       "      <td>0.0</td>\n",
       "      <td>0.0</td>\n",
       "      <td>90</td>\n",
       "      <td>Clouds</td>\n",
       "      <td>overcast clouds</td>\n",
       "      <td>4767</td>\n",
       "      <td>2012-10-02</td>\n",
       "      <td>11:00:00</td>\n",
       "    </tr>\n",
       "    <tr>\n",
       "      <th>3</th>\n",
       "      <td>None</td>\n",
       "      <td>17.0</td>\n",
       "      <td>0.0</td>\n",
       "      <td>0.0</td>\n",
       "      <td>90</td>\n",
       "      <td>Clouds</td>\n",
       "      <td>overcast clouds</td>\n",
       "      <td>5026</td>\n",
       "      <td>2012-10-02</td>\n",
       "      <td>12:00:00</td>\n",
       "    </tr>\n",
       "    <tr>\n",
       "      <th>4</th>\n",
       "      <td>None</td>\n",
       "      <td>18.0</td>\n",
       "      <td>0.0</td>\n",
       "      <td>0.0</td>\n",
       "      <td>75</td>\n",
       "      <td>Clouds</td>\n",
       "      <td>broken clouds</td>\n",
       "      <td>4918</td>\n",
       "      <td>2012-10-02</td>\n",
       "      <td>13:00:00</td>\n",
       "    </tr>\n",
       "  </tbody>\n",
       "</table>\n",
       "</div>"
      ],
      "text/plain": [
       "  holiday  temp  rain_1h  snow_1h  clouds_all weather_main  \\\n",
       "0    None  15.0      0.0      0.0          40       Clouds   \n",
       "1    None  16.0      0.0      0.0          75       Clouds   \n",
       "2    None  16.0      0.0      0.0          90       Clouds   \n",
       "3    None  17.0      0.0      0.0          90       Clouds   \n",
       "4    None  18.0      0.0      0.0          75       Clouds   \n",
       "\n",
       "  weather_description  traffic_volume        date      time  \n",
       "0    scattered clouds            5545  2012-10-02  09:00:00  \n",
       "1       broken clouds            4516  2012-10-02  10:00:00  \n",
       "2     overcast clouds            4767  2012-10-02  11:00:00  \n",
       "3     overcast clouds            5026  2012-10-02  12:00:00  \n",
       "4       broken clouds            4918  2012-10-02  13:00:00  "
      ]
     },
     "execution_count": 10,
     "metadata": {},
     "output_type": "execute_result"
    }
   ],
   "source": [
    "# drop date_time\n",
    "df.drop(columns=['date_time'], axis=1, inplace=True)\n",
    "df.head()"
   ]
  },
  {
   "cell_type": "code",
   "execution_count": 11,
   "id": "01e5b021",
   "metadata": {},
   "outputs": [
    {
     "data": {
      "text/plain": [
       "array(['09:00:00', '10:00:00', '11:00:00', '12:00:00', '13:00:00',\n",
       "       '14:00:00', '15:00:00', '16:00:00', '17:00:00', '18:00:00',\n",
       "       '19:00:00', '20:00:00', '21:00:00', '22:00:00', '23:00:00',\n",
       "       '00:00:00', '01:00:00', '02:00:00', '03:00:00', '04:00:00',\n",
       "       '05:00:00', '06:00:00', '08:00:00', '07:00:00'], dtype=object)"
      ]
     },
     "execution_count": 11,
     "metadata": {},
     "output_type": "execute_result"
    }
   ],
   "source": [
    "df.time.unique()"
   ]
  },
  {
   "cell_type": "code",
   "execution_count": 12,
   "id": "d632a6b3",
   "metadata": {},
   "outputs": [
    {
     "data": {
      "text/plain": [
       "array(['09', '10', '11', '12', '13', '14', '15', '16', '17', '18', '19',\n",
       "       '20', '21', '22', '23', '00', '01', '02', '03', '04', '05', '06',\n",
       "       '08', '07'], dtype=object)"
      ]
     },
     "execution_count": 12,
     "metadata": {},
     "output_type": "execute_result"
    }
   ],
   "source": [
    "# convert time to show only hour\n",
    "df.time = df.time.apply(lambda x: x[0:2])\n",
    "df.time.unique()"
   ]
  },
  {
   "cell_type": "code",
   "execution_count": 13,
   "id": "1f03e8e6",
   "metadata": {},
   "outputs": [
    {
     "data": {
      "text/plain": [
       "array([ 9, 10, 11, 12, 13, 14, 15, 16, 17, 18, 19, 20, 21, 22, 23,  0,  1,\n",
       "        2,  3,  4,  5,  6,  8,  7])"
      ]
     },
     "execution_count": 13,
     "metadata": {},
     "output_type": "execute_result"
    }
   ],
   "source": [
    "# convert time to int\n",
    "df.time = df.time.astype('int32')\n",
    "df.time.unique()"
   ]
  },
  {
   "cell_type": "code",
   "execution_count": 14,
   "id": "1c2909fc",
   "metadata": {},
   "outputs": [],
   "source": [
    "# Split date to get information about month\n",
    "df[['year','month', 'day']] = df.date.str.split('-', expand=True)"
   ]
  },
  {
   "cell_type": "markdown",
   "id": "6105eb76",
   "metadata": {},
   "source": [
    "* Change date for a meanning value, days of week is beeter aproach to know the traffic volume.\n",
    "* If a road is used from monday to friday, means that people use it to commuting to work or school\n",
    "* If a road is used on weekends, this means that is a road for free time activities"
   ]
  },
  {
   "cell_type": "code",
   "execution_count": 15,
   "id": "7d8c71b7",
   "metadata": {},
   "outputs": [
    {
     "data": {
      "text/plain": [
       "array([1, 2, 3, 4, 5, 6, 0], dtype=int64)"
      ]
     },
     "execution_count": 15,
     "metadata": {},
     "output_type": "execute_result"
    }
   ],
   "source": [
    "# Monday=0..., Sunday=6.\n",
    "df.date = df.date.apply(lambda x: pd.Timestamp(x).dayofweek)\n",
    "df.date.unique()\n"
   ]
  },
  {
   "cell_type": "code",
   "execution_count": 16,
   "id": "97781941",
   "metadata": {},
   "outputs": [
    {
     "data": {
      "text/html": [
       "<div>\n",
       "<style scoped>\n",
       "    .dataframe tbody tr th:only-of-type {\n",
       "        vertical-align: middle;\n",
       "    }\n",
       "\n",
       "    .dataframe tbody tr th {\n",
       "        vertical-align: top;\n",
       "    }\n",
       "\n",
       "    .dataframe thead th {\n",
       "        text-align: right;\n",
       "    }\n",
       "</style>\n",
       "<table border=\"1\" class=\"dataframe\">\n",
       "  <thead>\n",
       "    <tr style=\"text-align: right;\">\n",
       "      <th></th>\n",
       "      <th>holiday</th>\n",
       "      <th>temp</th>\n",
       "      <th>rain_1h</th>\n",
       "      <th>snow_1h</th>\n",
       "      <th>clouds_all</th>\n",
       "      <th>weather_main</th>\n",
       "      <th>weather_description</th>\n",
       "      <th>traffic_volume</th>\n",
       "      <th>date</th>\n",
       "      <th>time</th>\n",
       "      <th>year</th>\n",
       "      <th>month</th>\n",
       "      <th>day</th>\n",
       "    </tr>\n",
       "  </thead>\n",
       "  <tbody>\n",
       "    <tr>\n",
       "      <th>0</th>\n",
       "      <td>None</td>\n",
       "      <td>15.0</td>\n",
       "      <td>0.0</td>\n",
       "      <td>0.0</td>\n",
       "      <td>40</td>\n",
       "      <td>Clouds</td>\n",
       "      <td>scattered clouds</td>\n",
       "      <td>5545</td>\n",
       "      <td>1</td>\n",
       "      <td>9</td>\n",
       "      <td>2012</td>\n",
       "      <td>10</td>\n",
       "      <td>02</td>\n",
       "    </tr>\n",
       "    <tr>\n",
       "      <th>1</th>\n",
       "      <td>None</td>\n",
       "      <td>16.0</td>\n",
       "      <td>0.0</td>\n",
       "      <td>0.0</td>\n",
       "      <td>75</td>\n",
       "      <td>Clouds</td>\n",
       "      <td>broken clouds</td>\n",
       "      <td>4516</td>\n",
       "      <td>1</td>\n",
       "      <td>10</td>\n",
       "      <td>2012</td>\n",
       "      <td>10</td>\n",
       "      <td>02</td>\n",
       "    </tr>\n",
       "    <tr>\n",
       "      <th>2</th>\n",
       "      <td>None</td>\n",
       "      <td>16.0</td>\n",
       "      <td>0.0</td>\n",
       "      <td>0.0</td>\n",
       "      <td>90</td>\n",
       "      <td>Clouds</td>\n",
       "      <td>overcast clouds</td>\n",
       "      <td>4767</td>\n",
       "      <td>1</td>\n",
       "      <td>11</td>\n",
       "      <td>2012</td>\n",
       "      <td>10</td>\n",
       "      <td>02</td>\n",
       "    </tr>\n",
       "    <tr>\n",
       "      <th>3</th>\n",
       "      <td>None</td>\n",
       "      <td>17.0</td>\n",
       "      <td>0.0</td>\n",
       "      <td>0.0</td>\n",
       "      <td>90</td>\n",
       "      <td>Clouds</td>\n",
       "      <td>overcast clouds</td>\n",
       "      <td>5026</td>\n",
       "      <td>1</td>\n",
       "      <td>12</td>\n",
       "      <td>2012</td>\n",
       "      <td>10</td>\n",
       "      <td>02</td>\n",
       "    </tr>\n",
       "    <tr>\n",
       "      <th>4</th>\n",
       "      <td>None</td>\n",
       "      <td>18.0</td>\n",
       "      <td>0.0</td>\n",
       "      <td>0.0</td>\n",
       "      <td>75</td>\n",
       "      <td>Clouds</td>\n",
       "      <td>broken clouds</td>\n",
       "      <td>4918</td>\n",
       "      <td>1</td>\n",
       "      <td>13</td>\n",
       "      <td>2012</td>\n",
       "      <td>10</td>\n",
       "      <td>02</td>\n",
       "    </tr>\n",
       "  </tbody>\n",
       "</table>\n",
       "</div>"
      ],
      "text/plain": [
       "  holiday  temp  rain_1h  snow_1h  clouds_all weather_main  \\\n",
       "0    None  15.0      0.0      0.0          40       Clouds   \n",
       "1    None  16.0      0.0      0.0          75       Clouds   \n",
       "2    None  16.0      0.0      0.0          90       Clouds   \n",
       "3    None  17.0      0.0      0.0          90       Clouds   \n",
       "4    None  18.0      0.0      0.0          75       Clouds   \n",
       "\n",
       "  weather_description  traffic_volume  date  time  year month day  \n",
       "0    scattered clouds            5545     1     9  2012    10  02  \n",
       "1       broken clouds            4516     1    10  2012    10  02  \n",
       "2     overcast clouds            4767     1    11  2012    10  02  \n",
       "3     overcast clouds            5026     1    12  2012    10  02  \n",
       "4       broken clouds            4918     1    13  2012    10  02  "
      ]
     },
     "execution_count": 16,
     "metadata": {},
     "output_type": "execute_result"
    }
   ],
   "source": [
    "df.head()"
   ]
  },
  {
   "cell_type": "markdown",
   "id": "eef8abd6",
   "metadata": {},
   "source": [
    "* Year and day is not significant, just month is relevant.\n",
    "* Example, december and july can be the months with more traffic volume related to vacations. For this reason I will drop year and day"
   ]
  },
  {
   "cell_type": "code",
   "execution_count": 17,
   "id": "996ffc6e",
   "metadata": {},
   "outputs": [
    {
     "data": {
      "text/html": [
       "<div>\n",
       "<style scoped>\n",
       "    .dataframe tbody tr th:only-of-type {\n",
       "        vertical-align: middle;\n",
       "    }\n",
       "\n",
       "    .dataframe tbody tr th {\n",
       "        vertical-align: top;\n",
       "    }\n",
       "\n",
       "    .dataframe thead th {\n",
       "        text-align: right;\n",
       "    }\n",
       "</style>\n",
       "<table border=\"1\" class=\"dataframe\">\n",
       "  <thead>\n",
       "    <tr style=\"text-align: right;\">\n",
       "      <th></th>\n",
       "      <th>holiday</th>\n",
       "      <th>temp</th>\n",
       "      <th>rain_1h</th>\n",
       "      <th>snow_1h</th>\n",
       "      <th>clouds_all</th>\n",
       "      <th>weather_main</th>\n",
       "      <th>weather_description</th>\n",
       "      <th>traffic_volume</th>\n",
       "      <th>date</th>\n",
       "      <th>time</th>\n",
       "      <th>month</th>\n",
       "    </tr>\n",
       "  </thead>\n",
       "  <tbody>\n",
       "    <tr>\n",
       "      <th>0</th>\n",
       "      <td>None</td>\n",
       "      <td>15.0</td>\n",
       "      <td>0.0</td>\n",
       "      <td>0.0</td>\n",
       "      <td>40</td>\n",
       "      <td>Clouds</td>\n",
       "      <td>scattered clouds</td>\n",
       "      <td>5545</td>\n",
       "      <td>1</td>\n",
       "      <td>9</td>\n",
       "      <td>10</td>\n",
       "    </tr>\n",
       "    <tr>\n",
       "      <th>1</th>\n",
       "      <td>None</td>\n",
       "      <td>16.0</td>\n",
       "      <td>0.0</td>\n",
       "      <td>0.0</td>\n",
       "      <td>75</td>\n",
       "      <td>Clouds</td>\n",
       "      <td>broken clouds</td>\n",
       "      <td>4516</td>\n",
       "      <td>1</td>\n",
       "      <td>10</td>\n",
       "      <td>10</td>\n",
       "    </tr>\n",
       "    <tr>\n",
       "      <th>2</th>\n",
       "      <td>None</td>\n",
       "      <td>16.0</td>\n",
       "      <td>0.0</td>\n",
       "      <td>0.0</td>\n",
       "      <td>90</td>\n",
       "      <td>Clouds</td>\n",
       "      <td>overcast clouds</td>\n",
       "      <td>4767</td>\n",
       "      <td>1</td>\n",
       "      <td>11</td>\n",
       "      <td>10</td>\n",
       "    </tr>\n",
       "    <tr>\n",
       "      <th>3</th>\n",
       "      <td>None</td>\n",
       "      <td>17.0</td>\n",
       "      <td>0.0</td>\n",
       "      <td>0.0</td>\n",
       "      <td>90</td>\n",
       "      <td>Clouds</td>\n",
       "      <td>overcast clouds</td>\n",
       "      <td>5026</td>\n",
       "      <td>1</td>\n",
       "      <td>12</td>\n",
       "      <td>10</td>\n",
       "    </tr>\n",
       "    <tr>\n",
       "      <th>4</th>\n",
       "      <td>None</td>\n",
       "      <td>18.0</td>\n",
       "      <td>0.0</td>\n",
       "      <td>0.0</td>\n",
       "      <td>75</td>\n",
       "      <td>Clouds</td>\n",
       "      <td>broken clouds</td>\n",
       "      <td>4918</td>\n",
       "      <td>1</td>\n",
       "      <td>13</td>\n",
       "      <td>10</td>\n",
       "    </tr>\n",
       "  </tbody>\n",
       "</table>\n",
       "</div>"
      ],
      "text/plain": [
       "  holiday  temp  rain_1h  snow_1h  clouds_all weather_main  \\\n",
       "0    None  15.0      0.0      0.0          40       Clouds   \n",
       "1    None  16.0      0.0      0.0          75       Clouds   \n",
       "2    None  16.0      0.0      0.0          90       Clouds   \n",
       "3    None  17.0      0.0      0.0          90       Clouds   \n",
       "4    None  18.0      0.0      0.0          75       Clouds   \n",
       "\n",
       "  weather_description  traffic_volume  date  time month  \n",
       "0    scattered clouds            5545     1     9    10  \n",
       "1       broken clouds            4516     1    10    10  \n",
       "2     overcast clouds            4767     1    11    10  \n",
       "3     overcast clouds            5026     1    12    10  \n",
       "4       broken clouds            4918     1    13    10  "
      ]
     },
     "execution_count": 17,
     "metadata": {},
     "output_type": "execute_result"
    }
   ],
   "source": [
    "df.drop(columns=['year','day'], axis=1, inplace=True)\n",
    "df.head()"
   ]
  },
  {
   "cell_type": "code",
   "execution_count": 18,
   "id": "9b7f90a9",
   "metadata": {},
   "outputs": [
    {
     "data": {
      "text/html": [
       "<div>\n",
       "<style scoped>\n",
       "    .dataframe tbody tr th:only-of-type {\n",
       "        vertical-align: middle;\n",
       "    }\n",
       "\n",
       "    .dataframe tbody tr th {\n",
       "        vertical-align: top;\n",
       "    }\n",
       "\n",
       "    .dataframe thead th {\n",
       "        text-align: right;\n",
       "    }\n",
       "</style>\n",
       "<table border=\"1\" class=\"dataframe\">\n",
       "  <thead>\n",
       "    <tr style=\"text-align: right;\">\n",
       "      <th></th>\n",
       "      <th>holiday</th>\n",
       "      <th>temp</th>\n",
       "      <th>rain_1h</th>\n",
       "      <th>snow_1h</th>\n",
       "      <th>clouds_all</th>\n",
       "      <th>weather_main</th>\n",
       "      <th>weather_description</th>\n",
       "      <th>traffic_volume</th>\n",
       "      <th>day_of_week</th>\n",
       "      <th>hour</th>\n",
       "      <th>month</th>\n",
       "    </tr>\n",
       "  </thead>\n",
       "  <tbody>\n",
       "    <tr>\n",
       "      <th>0</th>\n",
       "      <td>None</td>\n",
       "      <td>15.0</td>\n",
       "      <td>0.0</td>\n",
       "      <td>0.0</td>\n",
       "      <td>40</td>\n",
       "      <td>Clouds</td>\n",
       "      <td>scattered clouds</td>\n",
       "      <td>5545</td>\n",
       "      <td>1</td>\n",
       "      <td>9</td>\n",
       "      <td>10</td>\n",
       "    </tr>\n",
       "    <tr>\n",
       "      <th>1</th>\n",
       "      <td>None</td>\n",
       "      <td>16.0</td>\n",
       "      <td>0.0</td>\n",
       "      <td>0.0</td>\n",
       "      <td>75</td>\n",
       "      <td>Clouds</td>\n",
       "      <td>broken clouds</td>\n",
       "      <td>4516</td>\n",
       "      <td>1</td>\n",
       "      <td>10</td>\n",
       "      <td>10</td>\n",
       "    </tr>\n",
       "    <tr>\n",
       "      <th>2</th>\n",
       "      <td>None</td>\n",
       "      <td>16.0</td>\n",
       "      <td>0.0</td>\n",
       "      <td>0.0</td>\n",
       "      <td>90</td>\n",
       "      <td>Clouds</td>\n",
       "      <td>overcast clouds</td>\n",
       "      <td>4767</td>\n",
       "      <td>1</td>\n",
       "      <td>11</td>\n",
       "      <td>10</td>\n",
       "    </tr>\n",
       "    <tr>\n",
       "      <th>3</th>\n",
       "      <td>None</td>\n",
       "      <td>17.0</td>\n",
       "      <td>0.0</td>\n",
       "      <td>0.0</td>\n",
       "      <td>90</td>\n",
       "      <td>Clouds</td>\n",
       "      <td>overcast clouds</td>\n",
       "      <td>5026</td>\n",
       "      <td>1</td>\n",
       "      <td>12</td>\n",
       "      <td>10</td>\n",
       "    </tr>\n",
       "    <tr>\n",
       "      <th>4</th>\n",
       "      <td>None</td>\n",
       "      <td>18.0</td>\n",
       "      <td>0.0</td>\n",
       "      <td>0.0</td>\n",
       "      <td>75</td>\n",
       "      <td>Clouds</td>\n",
       "      <td>broken clouds</td>\n",
       "      <td>4918</td>\n",
       "      <td>1</td>\n",
       "      <td>13</td>\n",
       "      <td>10</td>\n",
       "    </tr>\n",
       "  </tbody>\n",
       "</table>\n",
       "</div>"
      ],
      "text/plain": [
       "  holiday  temp  rain_1h  snow_1h  clouds_all weather_main  \\\n",
       "0    None  15.0      0.0      0.0          40       Clouds   \n",
       "1    None  16.0      0.0      0.0          75       Clouds   \n",
       "2    None  16.0      0.0      0.0          90       Clouds   \n",
       "3    None  17.0      0.0      0.0          90       Clouds   \n",
       "4    None  18.0      0.0      0.0          75       Clouds   \n",
       "\n",
       "  weather_description  traffic_volume  day_of_week  hour month  \n",
       "0    scattered clouds            5545            1     9    10  \n",
       "1       broken clouds            4516            1    10    10  \n",
       "2     overcast clouds            4767            1    11    10  \n",
       "3     overcast clouds            5026            1    12    10  \n",
       "4       broken clouds            4918            1    13    10  "
      ]
     },
     "execution_count": 18,
     "metadata": {},
     "output_type": "execute_result"
    }
   ],
   "source": [
    "# change date column name to day_of_week\n",
    "df.columns = df.columns.str.replace(\"date\",\"day_of_week\")\n",
    "df.columns = df.columns.str.replace(\"time\",\"hour\")\n",
    "df.head()"
   ]
  },
  {
   "cell_type": "code",
   "execution_count": 19,
   "id": "dadd842c",
   "metadata": {},
   "outputs": [],
   "source": [
    "# # Round temperature to consider only integer values\n",
    "# df.temp = df.temp.round(0)\n",
    "# df.head()"
   ]
  },
  {
   "cell_type": "code",
   "execution_count": 20,
   "id": "da8f692a",
   "metadata": {},
   "outputs": [
    {
     "data": {
      "text/plain": [
       "None                         48143\n",
       "Labor Day                        7\n",
       "Thanksgiving Day                 6\n",
       "Christmas Day                    6\n",
       "New Years Day                    6\n",
       "Martin Luther King Jr Day        6\n",
       "Columbus Day                     5\n",
       "Veterans Day                     5\n",
       "Washingtons Birthday             5\n",
       "Memorial Day                     5\n",
       "Independence Day                 5\n",
       "State Fair                       5\n",
       "Name: holiday, dtype: int64"
      ]
     },
     "execution_count": 20,
     "metadata": {},
     "output_type": "execute_result"
    }
   ],
   "source": [
    "df.holiday.value_counts()"
   ]
  },
  {
   "cell_type": "markdown",
   "id": "48a72218",
   "metadata": {},
   "source": [
    "* Considering only if is a holiday or not. For this prediction, the kind of holiday will not do a difference in prediction"
   ]
  },
  {
   "cell_type": "code",
   "execution_count": 21,
   "id": "574adc45",
   "metadata": {},
   "outputs": [
    {
     "data": {
      "text/plain": [
       "array(['0', '1'], dtype=object)"
      ]
     },
     "execution_count": 21,
     "metadata": {},
     "output_type": "execute_result"
    }
   ],
   "source": [
    "def changeHolidayValue(x):\n",
    "    if(x ==  \"None\"):\n",
    "        x=\"0\"\n",
    "    else:\n",
    "        x=\"1\"\n",
    "    return x\n",
    "\n",
    "df.holiday = df.holiday.apply(lambda x: changeHolidayValue(x))\n",
    "df.holiday.unique()"
   ]
  },
  {
   "cell_type": "code",
   "execution_count": 22,
   "id": "447323e1",
   "metadata": {},
   "outputs": [
    {
     "data": {
      "text/plain": [
       "array([0, 1])"
      ]
     },
     "execution_count": 22,
     "metadata": {},
     "output_type": "execute_result"
    }
   ],
   "source": [
    "# Convert holiday from object to int\n",
    "df.holiday = df.holiday.astype('int32')\n",
    "df.holiday.unique()"
   ]
  },
  {
   "cell_type": "code",
   "execution_count": 23,
   "id": "3fe56c7d",
   "metadata": {},
   "outputs": [
    {
     "name": "stdout",
     "output_type": "stream",
     "text": [
      "<class 'pandas.core.frame.DataFrame'>\n",
      "RangeIndex: 48204 entries, 0 to 48203\n",
      "Data columns (total 11 columns):\n",
      " #   Column               Non-Null Count  Dtype  \n",
      "---  ------               --------------  -----  \n",
      " 0   holiday              48204 non-null  int32  \n",
      " 1   temp                 48204 non-null  float64\n",
      " 2   rain_1h              48204 non-null  float64\n",
      " 3   snow_1h              48204 non-null  float64\n",
      " 4   clouds_all           48204 non-null  int64  \n",
      " 5   weather_main         48204 non-null  object \n",
      " 6   weather_description  48204 non-null  object \n",
      " 7   traffic_volume       48204 non-null  int64  \n",
      " 8   day_of_week          48204 non-null  int64  \n",
      " 9   hour                 48204 non-null  int32  \n",
      " 10  month                48204 non-null  object \n",
      "dtypes: float64(3), int32(2), int64(3), object(3)\n",
      "memory usage: 3.7+ MB\n"
     ]
    }
   ],
   "source": [
    "df.info()"
   ]
  },
  {
   "cell_type": "code",
   "execution_count": 24,
   "id": "8918c3d4",
   "metadata": {},
   "outputs": [
    {
     "data": {
      "text/plain": [
       "Clouds          15164\n",
       "Clear           13391\n",
       "Mist             5950\n",
       "Rain             5672\n",
       "Snow             2876\n",
       "Drizzle          1821\n",
       "Haze             1360\n",
       "Thunderstorm     1034\n",
       "Fog               912\n",
       "Smoke              20\n",
       "Squall              4\n",
       "Name: weather_main, dtype: int64"
      ]
     },
     "execution_count": 24,
     "metadata": {},
     "output_type": "execute_result"
    }
   ],
   "source": [
    "df.weather_main.value_counts()"
   ]
  },
  {
   "cell_type": "code",
   "execution_count": 25,
   "id": "ccc4e849",
   "metadata": {},
   "outputs": [
    {
     "data": {
      "text/plain": [
       "Clouds    15164\n",
       "Clear     13391\n",
       "Mist       5950\n",
       "Rain       5672\n",
       "other      5151\n",
       "Snow       2876\n",
       "Name: weather_main, dtype: int64"
      ]
     },
     "execution_count": 25,
     "metadata": {},
     "output_type": "execute_result"
    }
   ],
   "source": [
    "# Rename values that are bellow than snow value (28756) to other\n",
    "for weatherSnow in df.weather_main.unique():\n",
    "    if((df.weather_main.values == weatherSnow).sum() < 2876):\n",
    "        df.loc[df.weather_main.str.contains(weatherSnow),'weather_main'] = 'other'\n",
    "df.weather_main.value_counts()"
   ]
  },
  {
   "cell_type": "code",
   "execution_count": 26,
   "id": "4b858cb4",
   "metadata": {},
   "outputs": [
    {
     "data": {
      "text/plain": [
       "sky is clear                           11665\n",
       "mist                                    5950\n",
       "overcast clouds                         5081\n",
       "broken clouds                           4666\n",
       "scattered clouds                        3461\n",
       "light rain                              3372\n",
       "few clouds                              1956\n",
       "light snow                              1946\n",
       "Sky is Clear                            1726\n",
       "moderate rain                           1664\n",
       "haze                                    1360\n",
       "light intensity drizzle                 1100\n",
       "fog                                      912\n",
       "proximity thunderstorm                   673\n",
       "drizzle                                  651\n",
       "heavy snow                               616\n",
       "heavy intensity rain                     467\n",
       "snow                                     293\n",
       "proximity shower rain                    136\n",
       "thunderstorm                             125\n",
       "heavy intensity drizzle                   64\n",
       "thunderstorm with heavy rain              63\n",
       "thunderstorm with light rain              54\n",
       "proximity thunderstorm with rain          52\n",
       "thunderstorm with rain                    37\n",
       "smoke                                     20\n",
       "very heavy rain                           18\n",
       "thunderstorm with light drizzle           15\n",
       "light intensity shower rain               13\n",
       "proximity thunderstorm with drizzle       13\n",
       "light shower snow                         11\n",
       "light rain and snow                        6\n",
       "shower drizzle                             6\n",
       "SQUALLS                                    4\n",
       "sleet                                      3\n",
       "thunderstorm with drizzle                  2\n",
       "freezing rain                              2\n",
       "shower snow                                1\n",
       "Name: weather_description, dtype: int64"
      ]
     },
     "execution_count": 26,
     "metadata": {},
     "output_type": "execute_result"
    }
   ],
   "source": [
    "df.weather_description.value_counts()"
   ]
  },
  {
   "cell_type": "code",
   "execution_count": 27,
   "id": "038c48e2",
   "metadata": {},
   "outputs": [
    {
     "data": {
      "text/html": [
       "<div>\n",
       "<style scoped>\n",
       "    .dataframe tbody tr th:only-of-type {\n",
       "        vertical-align: middle;\n",
       "    }\n",
       "\n",
       "    .dataframe tbody tr th {\n",
       "        vertical-align: top;\n",
       "    }\n",
       "\n",
       "    .dataframe thead th {\n",
       "        text-align: right;\n",
       "    }\n",
       "</style>\n",
       "<table border=\"1\" class=\"dataframe\">\n",
       "  <thead>\n",
       "    <tr style=\"text-align: right;\">\n",
       "      <th></th>\n",
       "      <th>holiday</th>\n",
       "      <th>temp</th>\n",
       "      <th>rain_1h</th>\n",
       "      <th>snow_1h</th>\n",
       "      <th>clouds_all</th>\n",
       "      <th>weather_main</th>\n",
       "      <th>traffic_volume</th>\n",
       "      <th>day_of_week</th>\n",
       "      <th>hour</th>\n",
       "      <th>month</th>\n",
       "    </tr>\n",
       "  </thead>\n",
       "  <tbody>\n",
       "    <tr>\n",
       "      <th>0</th>\n",
       "      <td>0</td>\n",
       "      <td>15.0</td>\n",
       "      <td>0.0</td>\n",
       "      <td>0.0</td>\n",
       "      <td>40</td>\n",
       "      <td>Clouds</td>\n",
       "      <td>5545</td>\n",
       "      <td>1</td>\n",
       "      <td>9</td>\n",
       "      <td>10</td>\n",
       "    </tr>\n",
       "    <tr>\n",
       "      <th>1</th>\n",
       "      <td>0</td>\n",
       "      <td>16.0</td>\n",
       "      <td>0.0</td>\n",
       "      <td>0.0</td>\n",
       "      <td>75</td>\n",
       "      <td>Clouds</td>\n",
       "      <td>4516</td>\n",
       "      <td>1</td>\n",
       "      <td>10</td>\n",
       "      <td>10</td>\n",
       "    </tr>\n",
       "    <tr>\n",
       "      <th>2</th>\n",
       "      <td>0</td>\n",
       "      <td>16.0</td>\n",
       "      <td>0.0</td>\n",
       "      <td>0.0</td>\n",
       "      <td>90</td>\n",
       "      <td>Clouds</td>\n",
       "      <td>4767</td>\n",
       "      <td>1</td>\n",
       "      <td>11</td>\n",
       "      <td>10</td>\n",
       "    </tr>\n",
       "    <tr>\n",
       "      <th>3</th>\n",
       "      <td>0</td>\n",
       "      <td>17.0</td>\n",
       "      <td>0.0</td>\n",
       "      <td>0.0</td>\n",
       "      <td>90</td>\n",
       "      <td>Clouds</td>\n",
       "      <td>5026</td>\n",
       "      <td>1</td>\n",
       "      <td>12</td>\n",
       "      <td>10</td>\n",
       "    </tr>\n",
       "    <tr>\n",
       "      <th>4</th>\n",
       "      <td>0</td>\n",
       "      <td>18.0</td>\n",
       "      <td>0.0</td>\n",
       "      <td>0.0</td>\n",
       "      <td>75</td>\n",
       "      <td>Clouds</td>\n",
       "      <td>4918</td>\n",
       "      <td>1</td>\n",
       "      <td>13</td>\n",
       "      <td>10</td>\n",
       "    </tr>\n",
       "  </tbody>\n",
       "</table>\n",
       "</div>"
      ],
      "text/plain": [
       "   holiday  temp  rain_1h  snow_1h  clouds_all weather_main  traffic_volume  \\\n",
       "0        0  15.0      0.0      0.0          40       Clouds            5545   \n",
       "1        0  16.0      0.0      0.0          75       Clouds            4516   \n",
       "2        0  16.0      0.0      0.0          90       Clouds            4767   \n",
       "3        0  17.0      0.0      0.0          90       Clouds            5026   \n",
       "4        0  18.0      0.0      0.0          75       Clouds            4918   \n",
       "\n",
       "   day_of_week  hour month  \n",
       "0            1     9    10  \n",
       "1            1    10    10  \n",
       "2            1    11    10  \n",
       "3            1    12    10  \n",
       "4            1    13    10  "
      ]
     },
     "execution_count": 27,
     "metadata": {},
     "output_type": "execute_result"
    }
   ],
   "source": [
    "# Drop weather description and keep only weather_main\n",
    "df.drop(columns=['weather_description'], axis=1, inplace=True)\n",
    "df.head()"
   ]
  },
  {
   "cell_type": "code",
   "execution_count": 28,
   "id": "54e2523b",
   "metadata": {},
   "outputs": [
    {
     "data": {
      "text/html": [
       "<div>\n",
       "<style scoped>\n",
       "    .dataframe tbody tr th:only-of-type {\n",
       "        vertical-align: middle;\n",
       "    }\n",
       "\n",
       "    .dataframe tbody tr th {\n",
       "        vertical-align: top;\n",
       "    }\n",
       "\n",
       "    .dataframe thead th {\n",
       "        text-align: right;\n",
       "    }\n",
       "</style>\n",
       "<table border=\"1\" class=\"dataframe\">\n",
       "  <thead>\n",
       "    <tr style=\"text-align: right;\">\n",
       "      <th></th>\n",
       "      <th>traffic_volume</th>\n",
       "      <th>hour</th>\n",
       "      <th>day_of_week</th>\n",
       "      <th>month</th>\n",
       "      <th>temp</th>\n",
       "      <th>holiday</th>\n",
       "      <th>rain_1h</th>\n",
       "      <th>snow_1h</th>\n",
       "      <th>clouds_all</th>\n",
       "      <th>weather_main</th>\n",
       "    </tr>\n",
       "  </thead>\n",
       "  <tbody>\n",
       "    <tr>\n",
       "      <th>0</th>\n",
       "      <td>5545</td>\n",
       "      <td>9</td>\n",
       "      <td>1</td>\n",
       "      <td>10</td>\n",
       "      <td>15.0</td>\n",
       "      <td>0</td>\n",
       "      <td>0.0</td>\n",
       "      <td>0.0</td>\n",
       "      <td>40</td>\n",
       "      <td>Clouds</td>\n",
       "    </tr>\n",
       "    <tr>\n",
       "      <th>1</th>\n",
       "      <td>4516</td>\n",
       "      <td>10</td>\n",
       "      <td>1</td>\n",
       "      <td>10</td>\n",
       "      <td>16.0</td>\n",
       "      <td>0</td>\n",
       "      <td>0.0</td>\n",
       "      <td>0.0</td>\n",
       "      <td>75</td>\n",
       "      <td>Clouds</td>\n",
       "    </tr>\n",
       "    <tr>\n",
       "      <th>2</th>\n",
       "      <td>4767</td>\n",
       "      <td>11</td>\n",
       "      <td>1</td>\n",
       "      <td>10</td>\n",
       "      <td>16.0</td>\n",
       "      <td>0</td>\n",
       "      <td>0.0</td>\n",
       "      <td>0.0</td>\n",
       "      <td>90</td>\n",
       "      <td>Clouds</td>\n",
       "    </tr>\n",
       "    <tr>\n",
       "      <th>3</th>\n",
       "      <td>5026</td>\n",
       "      <td>12</td>\n",
       "      <td>1</td>\n",
       "      <td>10</td>\n",
       "      <td>17.0</td>\n",
       "      <td>0</td>\n",
       "      <td>0.0</td>\n",
       "      <td>0.0</td>\n",
       "      <td>90</td>\n",
       "      <td>Clouds</td>\n",
       "    </tr>\n",
       "    <tr>\n",
       "      <th>4</th>\n",
       "      <td>4918</td>\n",
       "      <td>13</td>\n",
       "      <td>1</td>\n",
       "      <td>10</td>\n",
       "      <td>18.0</td>\n",
       "      <td>0</td>\n",
       "      <td>0.0</td>\n",
       "      <td>0.0</td>\n",
       "      <td>75</td>\n",
       "      <td>Clouds</td>\n",
       "    </tr>\n",
       "  </tbody>\n",
       "</table>\n",
       "</div>"
      ],
      "text/plain": [
       "   traffic_volume  hour  day_of_week month  temp  holiday  rain_1h  snow_1h  \\\n",
       "0            5545     9            1    10  15.0        0      0.0      0.0   \n",
       "1            4516    10            1    10  16.0        0      0.0      0.0   \n",
       "2            4767    11            1    10  16.0        0      0.0      0.0   \n",
       "3            5026    12            1    10  17.0        0      0.0      0.0   \n",
       "4            4918    13            1    10  18.0        0      0.0      0.0   \n",
       "\n",
       "   clouds_all weather_main  \n",
       "0          40       Clouds  \n",
       "1          75       Clouds  \n",
       "2          90       Clouds  \n",
       "3          90       Clouds  \n",
       "4          75       Clouds  "
      ]
     },
     "execution_count": 28,
     "metadata": {},
     "output_type": "execute_result"
    }
   ],
   "source": [
    "reorderColumns = ['traffic_volume','hour','day_of_week','month','temp','holiday','rain_1h','snow_1h','clouds_all','weather_main']\n",
    "df = df.reindex(columns=reorderColumns)\n",
    "df.head()"
   ]
  },
  {
   "cell_type": "code",
   "execution_count": 29,
   "id": "80b0863f",
   "metadata": {},
   "outputs": [
    {
     "data": {
      "text/plain": [
       "0.00    44737\n",
       "0.25      948\n",
       "0.51      256\n",
       "1.02      123\n",
       "0.30      121\n",
       "        ...  \n",
       "1.28        1\n",
       "1.47        1\n",
       "4.66        1\n",
       "2.08        1\n",
       "2.35        1\n",
       "Name: rain_1h, Length: 372, dtype: int64"
      ]
     },
     "execution_count": 29,
     "metadata": {},
     "output_type": "execute_result"
    }
   ],
   "source": [
    "df.rain_1h.value_counts()"
   ]
  },
  {
   "cell_type": "code",
   "execution_count": 30,
   "id": "8429596a",
   "metadata": {},
   "outputs": [
    {
     "data": {
      "text/plain": [
       "0.0       46080\n",
       "1.0        1070\n",
       "2.0         407\n",
       "3.0         193\n",
       "5.0          89\n",
       "4.0          87\n",
       "6.0          71\n",
       "7.0          42\n",
       "8.0          35\n",
       "9.0          21\n",
       "10.0         19\n",
       "11.0         17\n",
       "13.0         13\n",
       "12.0         11\n",
       "20.0         10\n",
       "25.0          6\n",
       "16.0          6\n",
       "15.0          5\n",
       "21.0          3\n",
       "24.0          3\n",
       "28.0          3\n",
       "14.0          3\n",
       "29.0          2\n",
       "18.0          2\n",
       "44.0          1\n",
       "56.0          1\n",
       "19.0          1\n",
       "9831.0        1\n",
       "17.0          1\n",
       "32.0          1\n",
       "Name: rain_1h, dtype: int64"
      ]
     },
     "execution_count": 30,
     "metadata": {},
     "output_type": "execute_result"
    }
   ],
   "source": [
    "# Round rain to consider only integer values\n",
    "df.rain_1h = df.rain_1h.round(0)\n",
    "df.rain_1h.value_counts()"
   ]
  },
  {
   "cell_type": "code",
   "execution_count": 31,
   "id": "78689de6",
   "metadata": {},
   "outputs": [
    {
     "data": {
      "text/plain": [
       "0.0    46080\n",
       "1.0     1070\n",
       "2.0      407\n",
       "6.0      278\n",
       "3.0      193\n",
       "5.0       89\n",
       "4.0       87\n",
       "Name: rain_1h, dtype: int64"
      ]
     },
     "execution_count": 31,
     "metadata": {},
     "output_type": "execute_result"
    }
   ],
   "source": [
    "# After 6 there are just few values, so I will consider anything more than 6, will be 6\n",
    "def changeRain1h(x):\n",
    "    if(x > 6):\n",
    "        x=6\n",
    "    else:\n",
    "        x=x\n",
    "    return x\n",
    "\n",
    "df.rain_1h = df.rain_1h.apply(lambda x: changeRain1h(x))\n",
    "df.rain_1h.value_counts()"
   ]
  },
  {
   "cell_type": "code",
   "execution_count": 32,
   "id": "2fb93ea5",
   "metadata": {},
   "outputs": [
    {
     "data": {
      "text/plain": [
       "0.00    48141\n",
       "0.05       14\n",
       "0.06       12\n",
       "0.51        6\n",
       "0.25        6\n",
       "0.13        6\n",
       "0.10        6\n",
       "0.32        5\n",
       "0.17        3\n",
       "0.44        2\n",
       "0.08        2\n",
       "0.21        1\n",
       "Name: snow_1h, dtype: int64"
      ]
     },
     "execution_count": 32,
     "metadata": {},
     "output_type": "execute_result"
    }
   ],
   "source": [
    "df.snow_1h.value_counts()"
   ]
  },
  {
   "cell_type": "markdown",
   "id": "9f369c86",
   "metadata": {},
   "source": [
    "* Snow has a minimun variance in dataset, so we can drop it"
   ]
  },
  {
   "cell_type": "code",
   "execution_count": 33,
   "id": "0dd01fc9",
   "metadata": {},
   "outputs": [
    {
     "data": {
      "text/html": [
       "<div>\n",
       "<style scoped>\n",
       "    .dataframe tbody tr th:only-of-type {\n",
       "        vertical-align: middle;\n",
       "    }\n",
       "\n",
       "    .dataframe tbody tr th {\n",
       "        vertical-align: top;\n",
       "    }\n",
       "\n",
       "    .dataframe thead th {\n",
       "        text-align: right;\n",
       "    }\n",
       "</style>\n",
       "<table border=\"1\" class=\"dataframe\">\n",
       "  <thead>\n",
       "    <tr style=\"text-align: right;\">\n",
       "      <th></th>\n",
       "      <th>traffic_volume</th>\n",
       "      <th>hour</th>\n",
       "      <th>day_of_week</th>\n",
       "      <th>month</th>\n",
       "      <th>temp</th>\n",
       "      <th>holiday</th>\n",
       "      <th>rain_1h</th>\n",
       "      <th>clouds_all</th>\n",
       "      <th>weather_main</th>\n",
       "    </tr>\n",
       "  </thead>\n",
       "  <tbody>\n",
       "    <tr>\n",
       "      <th>0</th>\n",
       "      <td>5545</td>\n",
       "      <td>9</td>\n",
       "      <td>1</td>\n",
       "      <td>10</td>\n",
       "      <td>15.0</td>\n",
       "      <td>0</td>\n",
       "      <td>0.0</td>\n",
       "      <td>40</td>\n",
       "      <td>Clouds</td>\n",
       "    </tr>\n",
       "    <tr>\n",
       "      <th>1</th>\n",
       "      <td>4516</td>\n",
       "      <td>10</td>\n",
       "      <td>1</td>\n",
       "      <td>10</td>\n",
       "      <td>16.0</td>\n",
       "      <td>0</td>\n",
       "      <td>0.0</td>\n",
       "      <td>75</td>\n",
       "      <td>Clouds</td>\n",
       "    </tr>\n",
       "    <tr>\n",
       "      <th>2</th>\n",
       "      <td>4767</td>\n",
       "      <td>11</td>\n",
       "      <td>1</td>\n",
       "      <td>10</td>\n",
       "      <td>16.0</td>\n",
       "      <td>0</td>\n",
       "      <td>0.0</td>\n",
       "      <td>90</td>\n",
       "      <td>Clouds</td>\n",
       "    </tr>\n",
       "    <tr>\n",
       "      <th>3</th>\n",
       "      <td>5026</td>\n",
       "      <td>12</td>\n",
       "      <td>1</td>\n",
       "      <td>10</td>\n",
       "      <td>17.0</td>\n",
       "      <td>0</td>\n",
       "      <td>0.0</td>\n",
       "      <td>90</td>\n",
       "      <td>Clouds</td>\n",
       "    </tr>\n",
       "    <tr>\n",
       "      <th>4</th>\n",
       "      <td>4918</td>\n",
       "      <td>13</td>\n",
       "      <td>1</td>\n",
       "      <td>10</td>\n",
       "      <td>18.0</td>\n",
       "      <td>0</td>\n",
       "      <td>0.0</td>\n",
       "      <td>75</td>\n",
       "      <td>Clouds</td>\n",
       "    </tr>\n",
       "  </tbody>\n",
       "</table>\n",
       "</div>"
      ],
      "text/plain": [
       "   traffic_volume  hour  day_of_week month  temp  holiday  rain_1h  \\\n",
       "0            5545     9            1    10  15.0        0      0.0   \n",
       "1            4516    10            1    10  16.0        0      0.0   \n",
       "2            4767    11            1    10  16.0        0      0.0   \n",
       "3            5026    12            1    10  17.0        0      0.0   \n",
       "4            4918    13            1    10  18.0        0      0.0   \n",
       "\n",
       "   clouds_all weather_main  \n",
       "0          40       Clouds  \n",
       "1          75       Clouds  \n",
       "2          90       Clouds  \n",
       "3          90       Clouds  \n",
       "4          75       Clouds  "
      ]
     },
     "execution_count": 33,
     "metadata": {},
     "output_type": "execute_result"
    }
   ],
   "source": [
    "df.drop(columns=['snow_1h'], axis=1, inplace=True)\n",
    "df.head()"
   ]
  },
  {
   "cell_type": "code",
   "execution_count": 34,
   "id": "1722a91b",
   "metadata": {},
   "outputs": [
    {
     "name": "stdout",
     "output_type": "stream",
     "text": [
      "<class 'pandas.core.frame.DataFrame'>\n",
      "RangeIndex: 48204 entries, 0 to 48203\n",
      "Data columns (total 9 columns):\n",
      " #   Column          Non-Null Count  Dtype  \n",
      "---  ------          --------------  -----  \n",
      " 0   traffic_volume  48204 non-null  int64  \n",
      " 1   hour            48204 non-null  int32  \n",
      " 2   day_of_week     48204 non-null  int64  \n",
      " 3   month           48204 non-null  object \n",
      " 4   temp            48204 non-null  float64\n",
      " 5   holiday         48204 non-null  int32  \n",
      " 6   rain_1h         48204 non-null  float64\n",
      " 7   clouds_all      48204 non-null  int64  \n",
      " 8   weather_main    48204 non-null  object \n",
      "dtypes: float64(2), int32(2), int64(3), object(2)\n",
      "memory usage: 2.9+ MB\n"
     ]
    }
   ],
   "source": [
    "df.info()"
   ]
  },
  {
   "cell_type": "code",
   "execution_count": 35,
   "id": "7e35fcbb",
   "metadata": {},
   "outputs": [
    {
     "data": {
      "text/plain": [
       "array(['10', '11', '12', '01', '02', '03', '04', '05', '06', '07', '08',\n",
       "       '09'], dtype=object)"
      ]
     },
     "execution_count": 35,
     "metadata": {},
     "output_type": "execute_result"
    }
   ],
   "source": [
    "df.month.unique()"
   ]
  },
  {
   "cell_type": "code",
   "execution_count": 36,
   "id": "e27d46be",
   "metadata": {},
   "outputs": [
    {
     "data": {
      "text/plain": [
       "array([10, 11, 12,  1,  2,  3,  4,  5,  6,  7,  8,  9])"
      ]
     },
     "execution_count": 36,
     "metadata": {},
     "output_type": "execute_result"
    }
   ],
   "source": [
    "# change month to int type\n",
    "df.month = df.month.astype('int32')\n",
    "df.month.unique()"
   ]
  },
  {
   "cell_type": "code",
   "execution_count": 37,
   "id": "0c55b3e6",
   "metadata": {},
   "outputs": [
    {
     "name": "stdout",
     "output_type": "stream",
     "text": [
      "<class 'pandas.core.frame.DataFrame'>\n",
      "RangeIndex: 48204 entries, 0 to 48203\n",
      "Data columns (total 9 columns):\n",
      " #   Column          Non-Null Count  Dtype  \n",
      "---  ------          --------------  -----  \n",
      " 0   traffic_volume  48204 non-null  int64  \n",
      " 1   hour            48204 non-null  int32  \n",
      " 2   day_of_week     48204 non-null  int64  \n",
      " 3   month           48204 non-null  int32  \n",
      " 4   temp            48204 non-null  float64\n",
      " 5   holiday         48204 non-null  int32  \n",
      " 6   rain_1h         48204 non-null  float64\n",
      " 7   clouds_all      48204 non-null  int64  \n",
      " 8   weather_main    48204 non-null  object \n",
      "dtypes: float64(2), int32(3), int64(3), object(1)\n",
      "memory usage: 2.8+ MB\n"
     ]
    }
   ],
   "source": [
    "df.info()"
   ]
  },
  {
   "cell_type": "code",
   "execution_count": 38,
   "id": "6764c7b2",
   "metadata": {},
   "outputs": [
    {
     "data": {
      "text/html": [
       "<div>\n",
       "<style scoped>\n",
       "    .dataframe tbody tr th:only-of-type {\n",
       "        vertical-align: middle;\n",
       "    }\n",
       "\n",
       "    .dataframe tbody tr th {\n",
       "        vertical-align: top;\n",
       "    }\n",
       "\n",
       "    .dataframe thead th {\n",
       "        text-align: right;\n",
       "    }\n",
       "</style>\n",
       "<table border=\"1\" class=\"dataframe\">\n",
       "  <thead>\n",
       "    <tr style=\"text-align: right;\">\n",
       "      <th></th>\n",
       "      <th>traffic_volume</th>\n",
       "      <th>hour</th>\n",
       "      <th>day_of_week</th>\n",
       "      <th>month</th>\n",
       "      <th>temp</th>\n",
       "      <th>holiday</th>\n",
       "      <th>rain_1h</th>\n",
       "      <th>clouds_all</th>\n",
       "      <th>weather_Clouds</th>\n",
       "      <th>weather_Mist</th>\n",
       "      <th>weather_Rain</th>\n",
       "      <th>weather_Snow</th>\n",
       "      <th>weather_other</th>\n",
       "    </tr>\n",
       "  </thead>\n",
       "  <tbody>\n",
       "    <tr>\n",
       "      <th>0</th>\n",
       "      <td>5545</td>\n",
       "      <td>9</td>\n",
       "      <td>1</td>\n",
       "      <td>10</td>\n",
       "      <td>15.0</td>\n",
       "      <td>0</td>\n",
       "      <td>0.0</td>\n",
       "      <td>40</td>\n",
       "      <td>1</td>\n",
       "      <td>0</td>\n",
       "      <td>0</td>\n",
       "      <td>0</td>\n",
       "      <td>0</td>\n",
       "    </tr>\n",
       "    <tr>\n",
       "      <th>1</th>\n",
       "      <td>4516</td>\n",
       "      <td>10</td>\n",
       "      <td>1</td>\n",
       "      <td>10</td>\n",
       "      <td>16.0</td>\n",
       "      <td>0</td>\n",
       "      <td>0.0</td>\n",
       "      <td>75</td>\n",
       "      <td>1</td>\n",
       "      <td>0</td>\n",
       "      <td>0</td>\n",
       "      <td>0</td>\n",
       "      <td>0</td>\n",
       "    </tr>\n",
       "    <tr>\n",
       "      <th>2</th>\n",
       "      <td>4767</td>\n",
       "      <td>11</td>\n",
       "      <td>1</td>\n",
       "      <td>10</td>\n",
       "      <td>16.0</td>\n",
       "      <td>0</td>\n",
       "      <td>0.0</td>\n",
       "      <td>90</td>\n",
       "      <td>1</td>\n",
       "      <td>0</td>\n",
       "      <td>0</td>\n",
       "      <td>0</td>\n",
       "      <td>0</td>\n",
       "    </tr>\n",
       "    <tr>\n",
       "      <th>3</th>\n",
       "      <td>5026</td>\n",
       "      <td>12</td>\n",
       "      <td>1</td>\n",
       "      <td>10</td>\n",
       "      <td>17.0</td>\n",
       "      <td>0</td>\n",
       "      <td>0.0</td>\n",
       "      <td>90</td>\n",
       "      <td>1</td>\n",
       "      <td>0</td>\n",
       "      <td>0</td>\n",
       "      <td>0</td>\n",
       "      <td>0</td>\n",
       "    </tr>\n",
       "    <tr>\n",
       "      <th>4</th>\n",
       "      <td>4918</td>\n",
       "      <td>13</td>\n",
       "      <td>1</td>\n",
       "      <td>10</td>\n",
       "      <td>18.0</td>\n",
       "      <td>0</td>\n",
       "      <td>0.0</td>\n",
       "      <td>75</td>\n",
       "      <td>1</td>\n",
       "      <td>0</td>\n",
       "      <td>0</td>\n",
       "      <td>0</td>\n",
       "      <td>0</td>\n",
       "    </tr>\n",
       "  </tbody>\n",
       "</table>\n",
       "</div>"
      ],
      "text/plain": [
       "   traffic_volume  hour  day_of_week  month  temp  holiday  rain_1h  \\\n",
       "0            5545     9            1     10  15.0        0      0.0   \n",
       "1            4516    10            1     10  16.0        0      0.0   \n",
       "2            4767    11            1     10  16.0        0      0.0   \n",
       "3            5026    12            1     10  17.0        0      0.0   \n",
       "4            4918    13            1     10  18.0        0      0.0   \n",
       "\n",
       "   clouds_all  weather_Clouds  weather_Mist  weather_Rain  weather_Snow  \\\n",
       "0          40               1             0             0             0   \n",
       "1          75               1             0             0             0   \n",
       "2          90               1             0             0             0   \n",
       "3          90               1             0             0             0   \n",
       "4          75               1             0             0             0   \n",
       "\n",
       "   weather_other  \n",
       "0              0  \n",
       "1              0  \n",
       "2              0  \n",
       "3              0  \n",
       "4              0  "
      ]
     },
     "execution_count": 38,
     "metadata": {},
     "output_type": "execute_result"
    }
   ],
   "source": [
    "# make dummies from wheather_main\n",
    "df.columns = df.columns.str.replace(\"weather_main\",\"weather\")\n",
    "df = pd.get_dummies(df, drop_first=True)\n",
    "df.head()"
   ]
  },
  {
   "cell_type": "code",
   "execution_count": 39,
   "id": "29ab519f",
   "metadata": {},
   "outputs": [
    {
     "data": {
      "text/html": [
       "<div>\n",
       "<style scoped>\n",
       "    .dataframe tbody tr th:only-of-type {\n",
       "        vertical-align: middle;\n",
       "    }\n",
       "\n",
       "    .dataframe tbody tr th {\n",
       "        vertical-align: top;\n",
       "    }\n",
       "\n",
       "    .dataframe thead th {\n",
       "        text-align: right;\n",
       "    }\n",
       "</style>\n",
       "<table border=\"1\" class=\"dataframe\">\n",
       "  <thead>\n",
       "    <tr style=\"text-align: right;\">\n",
       "      <th></th>\n",
       "      <th>traffic_volume</th>\n",
       "      <th>hour</th>\n",
       "      <th>day_of_week</th>\n",
       "      <th>month</th>\n",
       "      <th>temp</th>\n",
       "      <th>holiday</th>\n",
       "      <th>rain_1h</th>\n",
       "      <th>clouds_all</th>\n",
       "      <th>weather_Clouds</th>\n",
       "      <th>weather_Mist</th>\n",
       "      <th>weather_Rain</th>\n",
       "      <th>weather_Snow</th>\n",
       "      <th>weather_other</th>\n",
       "    </tr>\n",
       "  </thead>\n",
       "  <tbody>\n",
       "    <tr>\n",
       "      <th>count</th>\n",
       "      <td>48204.000000</td>\n",
       "      <td>48204.000000</td>\n",
       "      <td>48204.000000</td>\n",
       "      <td>48204.000000</td>\n",
       "      <td>48204.000000</td>\n",
       "      <td>48204.000000</td>\n",
       "      <td>48204.000000</td>\n",
       "      <td>48204.000000</td>\n",
       "      <td>48204.000000</td>\n",
       "      <td>48204.000000</td>\n",
       "      <td>48204.000000</td>\n",
       "      <td>48204.000000</td>\n",
       "      <td>48204.000000</td>\n",
       "    </tr>\n",
       "    <tr>\n",
       "      <th>mean</th>\n",
       "      <td>3259.818355</td>\n",
       "      <td>11.398162</td>\n",
       "      <td>2.984980</td>\n",
       "      <td>6.506037</td>\n",
       "      <td>8.054705</td>\n",
       "      <td>0.001265</td>\n",
       "      <td>0.102149</td>\n",
       "      <td>49.362231</td>\n",
       "      <td>0.314580</td>\n",
       "      <td>0.123434</td>\n",
       "      <td>0.117667</td>\n",
       "      <td>0.059663</td>\n",
       "      <td>0.106858</td>\n",
       "    </tr>\n",
       "    <tr>\n",
       "      <th>std</th>\n",
       "      <td>1986.860670</td>\n",
       "      <td>6.940238</td>\n",
       "      <td>2.005941</td>\n",
       "      <td>3.400221</td>\n",
       "      <td>13.338173</td>\n",
       "      <td>0.035551</td>\n",
       "      <td>0.603515</td>\n",
       "      <td>39.015750</td>\n",
       "      <td>0.464353</td>\n",
       "      <td>0.328938</td>\n",
       "      <td>0.322216</td>\n",
       "      <td>0.236864</td>\n",
       "      <td>0.308936</td>\n",
       "    </tr>\n",
       "    <tr>\n",
       "      <th>min</th>\n",
       "      <td>0.000000</td>\n",
       "      <td>0.000000</td>\n",
       "      <td>0.000000</td>\n",
       "      <td>1.000000</td>\n",
       "      <td>-273.000000</td>\n",
       "      <td>0.000000</td>\n",
       "      <td>0.000000</td>\n",
       "      <td>0.000000</td>\n",
       "      <td>0.000000</td>\n",
       "      <td>0.000000</td>\n",
       "      <td>0.000000</td>\n",
       "      <td>0.000000</td>\n",
       "      <td>0.000000</td>\n",
       "    </tr>\n",
       "    <tr>\n",
       "      <th>25%</th>\n",
       "      <td>1193.000000</td>\n",
       "      <td>5.000000</td>\n",
       "      <td>1.000000</td>\n",
       "      <td>4.000000</td>\n",
       "      <td>-1.000000</td>\n",
       "      <td>0.000000</td>\n",
       "      <td>0.000000</td>\n",
       "      <td>1.000000</td>\n",
       "      <td>0.000000</td>\n",
       "      <td>0.000000</td>\n",
       "      <td>0.000000</td>\n",
       "      <td>0.000000</td>\n",
       "      <td>0.000000</td>\n",
       "    </tr>\n",
       "    <tr>\n",
       "      <th>50%</th>\n",
       "      <td>3380.000000</td>\n",
       "      <td>11.000000</td>\n",
       "      <td>3.000000</td>\n",
       "      <td>7.000000</td>\n",
       "      <td>9.000000</td>\n",
       "      <td>0.000000</td>\n",
       "      <td>0.000000</td>\n",
       "      <td>64.000000</td>\n",
       "      <td>0.000000</td>\n",
       "      <td>0.000000</td>\n",
       "      <td>0.000000</td>\n",
       "      <td>0.000000</td>\n",
       "      <td>0.000000</td>\n",
       "    </tr>\n",
       "    <tr>\n",
       "      <th>75%</th>\n",
       "      <td>4933.000000</td>\n",
       "      <td>17.000000</td>\n",
       "      <td>5.000000</td>\n",
       "      <td>9.000000</td>\n",
       "      <td>19.000000</td>\n",
       "      <td>0.000000</td>\n",
       "      <td>0.000000</td>\n",
       "      <td>90.000000</td>\n",
       "      <td>1.000000</td>\n",
       "      <td>0.000000</td>\n",
       "      <td>0.000000</td>\n",
       "      <td>0.000000</td>\n",
       "      <td>0.000000</td>\n",
       "    </tr>\n",
       "    <tr>\n",
       "      <th>max</th>\n",
       "      <td>7280.000000</td>\n",
       "      <td>23.000000</td>\n",
       "      <td>6.000000</td>\n",
       "      <td>12.000000</td>\n",
       "      <td>37.000000</td>\n",
       "      <td>1.000000</td>\n",
       "      <td>6.000000</td>\n",
       "      <td>100.000000</td>\n",
       "      <td>1.000000</td>\n",
       "      <td>1.000000</td>\n",
       "      <td>1.000000</td>\n",
       "      <td>1.000000</td>\n",
       "      <td>1.000000</td>\n",
       "    </tr>\n",
       "  </tbody>\n",
       "</table>\n",
       "</div>"
      ],
      "text/plain": [
       "       traffic_volume          hour   day_of_week         month          temp  \\\n",
       "count    48204.000000  48204.000000  48204.000000  48204.000000  48204.000000   \n",
       "mean      3259.818355     11.398162      2.984980      6.506037      8.054705   \n",
       "std       1986.860670      6.940238      2.005941      3.400221     13.338173   \n",
       "min          0.000000      0.000000      0.000000      1.000000   -273.000000   \n",
       "25%       1193.000000      5.000000      1.000000      4.000000     -1.000000   \n",
       "50%       3380.000000     11.000000      3.000000      7.000000      9.000000   \n",
       "75%       4933.000000     17.000000      5.000000      9.000000     19.000000   \n",
       "max       7280.000000     23.000000      6.000000     12.000000     37.000000   \n",
       "\n",
       "            holiday       rain_1h    clouds_all  weather_Clouds  weather_Mist  \\\n",
       "count  48204.000000  48204.000000  48204.000000    48204.000000  48204.000000   \n",
       "mean       0.001265      0.102149     49.362231        0.314580      0.123434   \n",
       "std        0.035551      0.603515     39.015750        0.464353      0.328938   \n",
       "min        0.000000      0.000000      0.000000        0.000000      0.000000   \n",
       "25%        0.000000      0.000000      1.000000        0.000000      0.000000   \n",
       "50%        0.000000      0.000000     64.000000        0.000000      0.000000   \n",
       "75%        0.000000      0.000000     90.000000        1.000000      0.000000   \n",
       "max        1.000000      6.000000    100.000000        1.000000      1.000000   \n",
       "\n",
       "       weather_Rain  weather_Snow  weather_other  \n",
       "count  48204.000000  48204.000000   48204.000000  \n",
       "mean       0.117667      0.059663       0.106858  \n",
       "std        0.322216      0.236864       0.308936  \n",
       "min        0.000000      0.000000       0.000000  \n",
       "25%        0.000000      0.000000       0.000000  \n",
       "50%        0.000000      0.000000       0.000000  \n",
       "75%        0.000000      0.000000       0.000000  \n",
       "max        1.000000      1.000000       1.000000  "
      ]
     },
     "execution_count": 39,
     "metadata": {},
     "output_type": "execute_result"
    }
   ],
   "source": [
    "df.describe()"
   ]
  },
  {
   "cell_type": "code",
   "execution_count": 40,
   "id": "582a4867",
   "metadata": {},
   "outputs": [
    {
     "data": {
      "text/plain": [
       " 18.0    1840\n",
       " 1.0     1720\n",
       " 2.0     1628\n",
       " 19.0    1590\n",
       " 21.0    1575\n",
       "         ... \n",
       "-28.0       5\n",
       " 36.0       4\n",
       "-30.0       2\n",
       "-29.0       1\n",
       " 37.0       1\n",
       "Name: temp, Length: 69, dtype: int64"
      ]
     },
     "execution_count": 40,
     "metadata": {},
     "output_type": "execute_result"
    }
   ],
   "source": [
    "df.temp.value_counts()"
   ]
  },
  {
   "cell_type": "code",
   "execution_count": 41,
   "id": "c175e15a",
   "metadata": {},
   "outputs": [
    {
     "data": {
      "text/plain": [
       " 18.0    1840\n",
       " 1.0     1720\n",
       " 2.0     1628\n",
       " 19.0    1590\n",
       " 21.0    1575\n",
       " 17.0    1538\n",
       " 22.0    1517\n",
       " 20.0    1486\n",
       " 16.0    1450\n",
       " 14.0    1369\n",
       "-2.0     1368\n",
       "-1.0     1359\n",
       " 3.0     1358\n",
       "-0.0     1316\n",
       " 23.0    1284\n",
       " 15.0    1233\n",
       " 12.0    1153\n",
       " 13.0    1149\n",
       " 4.0     1090\n",
       "-3.0     1021\n",
       " 11.0    1020\n",
       " 24.0    1001\n",
       " 25.0     953\n",
       "-4.0      921\n",
       " 6.0      919\n",
       " 5.0      911\n",
       " 8.0      891\n",
       " 9.0      862\n",
       " 7.0      857\n",
       " 10.0     847\n",
       " 26.0     806\n",
       "-5.0      762\n",
       "-6.0      736\n",
       "-8.0      692\n",
       " 27.0     679\n",
       "-7.0      676\n",
       " 28.0     541\n",
       "-9.0      520\n",
       "-13.0     442\n",
       "-12.0     441\n",
       "-10.0     437\n",
       "-11.0     435\n",
       "-14.0     404\n",
       "Name: temp, dtype: int64"
      ]
     },
     "execution_count": 41,
     "metadata": {},
     "output_type": "execute_result"
    }
   ],
   "source": [
    "# Remove temperatures that count is under 400 \n",
    "for temperature in df.temp.unique():\n",
    "    if((df.temp.values == temperature).sum() < 400):\n",
    "        df = df.loc[df.temp != temperature] # Save only temperatures is different from selected\n",
    "df.temp.value_counts()"
   ]
  },
  {
   "cell_type": "code",
   "execution_count": 42,
   "id": "10787a53",
   "metadata": {},
   "outputs": [
    {
     "data": {
      "text/html": [
       "<div>\n",
       "<style scoped>\n",
       "    .dataframe tbody tr th:only-of-type {\n",
       "        vertical-align: middle;\n",
       "    }\n",
       "\n",
       "    .dataframe tbody tr th {\n",
       "        vertical-align: top;\n",
       "    }\n",
       "\n",
       "    .dataframe thead th {\n",
       "        text-align: right;\n",
       "    }\n",
       "</style>\n",
       "<table border=\"1\" class=\"dataframe\">\n",
       "  <thead>\n",
       "    <tr style=\"text-align: right;\">\n",
       "      <th></th>\n",
       "      <th>traffic_volume</th>\n",
       "      <th>hour</th>\n",
       "      <th>day_of_week</th>\n",
       "      <th>month</th>\n",
       "      <th>temp</th>\n",
       "      <th>holiday</th>\n",
       "      <th>rain_1h</th>\n",
       "      <th>clouds_all</th>\n",
       "      <th>weather_Clouds</th>\n",
       "      <th>weather_Mist</th>\n",
       "      <th>weather_Rain</th>\n",
       "      <th>weather_Snow</th>\n",
       "      <th>weather_other</th>\n",
       "    </tr>\n",
       "  </thead>\n",
       "  <tbody>\n",
       "    <tr>\n",
       "      <th>count</th>\n",
       "      <td>44797.000000</td>\n",
       "      <td>44797.000000</td>\n",
       "      <td>44797.000000</td>\n",
       "      <td>44797.000000</td>\n",
       "      <td>44797.000000</td>\n",
       "      <td>44797.000000</td>\n",
       "      <td>44797.000000</td>\n",
       "      <td>44797.000000</td>\n",
       "      <td>44797.000000</td>\n",
       "      <td>44797.000000</td>\n",
       "      <td>44797.000000</td>\n",
       "      <td>44797.000000</td>\n",
       "      <td>44797.000000</td>\n",
       "    </tr>\n",
       "    <tr>\n",
       "      <th>mean</th>\n",
       "      <td>3255.856196</td>\n",
       "      <td>11.375159</td>\n",
       "      <td>2.985870</td>\n",
       "      <td>6.618702</td>\n",
       "      <td>9.181106</td>\n",
       "      <td>0.001295</td>\n",
       "      <td>0.109449</td>\n",
       "      <td>50.798156</td>\n",
       "      <td>0.310958</td>\n",
       "      <td>0.130522</td>\n",
       "      <td>0.125499</td>\n",
       "      <td>0.058866</td>\n",
       "      <td>0.110677</td>\n",
       "    </tr>\n",
       "    <tr>\n",
       "      <th>std</th>\n",
       "      <td>1992.446833</td>\n",
       "      <td>6.965494</td>\n",
       "      <td>2.003379</td>\n",
       "      <td>3.300168</td>\n",
       "      <td>11.014517</td>\n",
       "      <td>0.035959</td>\n",
       "      <td>0.624463</td>\n",
       "      <td>38.978401</td>\n",
       "      <td>0.462891</td>\n",
       "      <td>0.336881</td>\n",
       "      <td>0.331288</td>\n",
       "      <td>0.235376</td>\n",
       "      <td>0.313735</td>\n",
       "    </tr>\n",
       "    <tr>\n",
       "      <th>min</th>\n",
       "      <td>0.000000</td>\n",
       "      <td>0.000000</td>\n",
       "      <td>0.000000</td>\n",
       "      <td>1.000000</td>\n",
       "      <td>-14.000000</td>\n",
       "      <td>0.000000</td>\n",
       "      <td>0.000000</td>\n",
       "      <td>0.000000</td>\n",
       "      <td>0.000000</td>\n",
       "      <td>0.000000</td>\n",
       "      <td>0.000000</td>\n",
       "      <td>0.000000</td>\n",
       "      <td>0.000000</td>\n",
       "    </tr>\n",
       "    <tr>\n",
       "      <th>25%</th>\n",
       "      <td>1179.000000</td>\n",
       "      <td>5.000000</td>\n",
       "      <td>1.000000</td>\n",
       "      <td>4.000000</td>\n",
       "      <td>0.000000</td>\n",
       "      <td>0.000000</td>\n",
       "      <td>0.000000</td>\n",
       "      <td>1.000000</td>\n",
       "      <td>0.000000</td>\n",
       "      <td>0.000000</td>\n",
       "      <td>0.000000</td>\n",
       "      <td>0.000000</td>\n",
       "      <td>0.000000</td>\n",
       "    </tr>\n",
       "    <tr>\n",
       "      <th>50%</th>\n",
       "      <td>3355.000000</td>\n",
       "      <td>11.000000</td>\n",
       "      <td>3.000000</td>\n",
       "      <td>7.000000</td>\n",
       "      <td>10.000000</td>\n",
       "      <td>0.000000</td>\n",
       "      <td>0.000000</td>\n",
       "      <td>68.000000</td>\n",
       "      <td>0.000000</td>\n",
       "      <td>0.000000</td>\n",
       "      <td>0.000000</td>\n",
       "      <td>0.000000</td>\n",
       "      <td>0.000000</td>\n",
       "    </tr>\n",
       "    <tr>\n",
       "      <th>75%</th>\n",
       "      <td>4941.000000</td>\n",
       "      <td>17.000000</td>\n",
       "      <td>5.000000</td>\n",
       "      <td>9.000000</td>\n",
       "      <td>19.000000</td>\n",
       "      <td>0.000000</td>\n",
       "      <td>0.000000</td>\n",
       "      <td>90.000000</td>\n",
       "      <td>1.000000</td>\n",
       "      <td>0.000000</td>\n",
       "      <td>0.000000</td>\n",
       "      <td>0.000000</td>\n",
       "      <td>0.000000</td>\n",
       "    </tr>\n",
       "    <tr>\n",
       "      <th>max</th>\n",
       "      <td>7280.000000</td>\n",
       "      <td>23.000000</td>\n",
       "      <td>6.000000</td>\n",
       "      <td>12.000000</td>\n",
       "      <td>28.000000</td>\n",
       "      <td>1.000000</td>\n",
       "      <td>6.000000</td>\n",
       "      <td>100.000000</td>\n",
       "      <td>1.000000</td>\n",
       "      <td>1.000000</td>\n",
       "      <td>1.000000</td>\n",
       "      <td>1.000000</td>\n",
       "      <td>1.000000</td>\n",
       "    </tr>\n",
       "  </tbody>\n",
       "</table>\n",
       "</div>"
      ],
      "text/plain": [
       "       traffic_volume          hour   day_of_week         month          temp  \\\n",
       "count    44797.000000  44797.000000  44797.000000  44797.000000  44797.000000   \n",
       "mean      3255.856196     11.375159      2.985870      6.618702      9.181106   \n",
       "std       1992.446833      6.965494      2.003379      3.300168     11.014517   \n",
       "min          0.000000      0.000000      0.000000      1.000000    -14.000000   \n",
       "25%       1179.000000      5.000000      1.000000      4.000000      0.000000   \n",
       "50%       3355.000000     11.000000      3.000000      7.000000     10.000000   \n",
       "75%       4941.000000     17.000000      5.000000      9.000000     19.000000   \n",
       "max       7280.000000     23.000000      6.000000     12.000000     28.000000   \n",
       "\n",
       "            holiday       rain_1h    clouds_all  weather_Clouds  weather_Mist  \\\n",
       "count  44797.000000  44797.000000  44797.000000    44797.000000  44797.000000   \n",
       "mean       0.001295      0.109449     50.798156        0.310958      0.130522   \n",
       "std        0.035959      0.624463     38.978401        0.462891      0.336881   \n",
       "min        0.000000      0.000000      0.000000        0.000000      0.000000   \n",
       "25%        0.000000      0.000000      1.000000        0.000000      0.000000   \n",
       "50%        0.000000      0.000000     68.000000        0.000000      0.000000   \n",
       "75%        0.000000      0.000000     90.000000        1.000000      0.000000   \n",
       "max        1.000000      6.000000    100.000000        1.000000      1.000000   \n",
       "\n",
       "       weather_Rain  weather_Snow  weather_other  \n",
       "count  44797.000000  44797.000000   44797.000000  \n",
       "mean       0.125499      0.058866       0.110677  \n",
       "std        0.331288      0.235376       0.313735  \n",
       "min        0.000000      0.000000       0.000000  \n",
       "25%        0.000000      0.000000       0.000000  \n",
       "50%        0.000000      0.000000       0.000000  \n",
       "75%        0.000000      0.000000       0.000000  \n",
       "max        1.000000      1.000000       1.000000  "
      ]
     },
     "execution_count": 42,
     "metadata": {},
     "output_type": "execute_result"
    }
   ],
   "source": [
    "df.describe()"
   ]
  },
  {
   "cell_type": "markdown",
   "id": "ce5b391d",
   "metadata": {},
   "source": [
    "## Saved cleaned dataframe"
   ]
  },
  {
   "cell_type": "code",
   "execution_count": 43,
   "id": "fd886d6d",
   "metadata": {},
   "outputs": [],
   "source": [
    "df.to_csv('Dataset/Project_APi47025_cleaned.csv',index=False)"
   ]
  },
  {
   "cell_type": "code",
   "execution_count": 44,
   "id": "9dc25b7a",
   "metadata": {},
   "outputs": [
    {
     "data": {
      "text/html": [
       "<div>\n",
       "<style scoped>\n",
       "    .dataframe tbody tr th:only-of-type {\n",
       "        vertical-align: middle;\n",
       "    }\n",
       "\n",
       "    .dataframe tbody tr th {\n",
       "        vertical-align: top;\n",
       "    }\n",
       "\n",
       "    .dataframe thead th {\n",
       "        text-align: right;\n",
       "    }\n",
       "</style>\n",
       "<table border=\"1\" class=\"dataframe\">\n",
       "  <thead>\n",
       "    <tr style=\"text-align: right;\">\n",
       "      <th></th>\n",
       "      <th>traffic_volume</th>\n",
       "      <th>hour</th>\n",
       "      <th>day_of_week</th>\n",
       "      <th>month</th>\n",
       "      <th>temp</th>\n",
       "      <th>holiday</th>\n",
       "      <th>rain_1h</th>\n",
       "      <th>clouds_all</th>\n",
       "      <th>weather_Clouds</th>\n",
       "      <th>weather_Mist</th>\n",
       "      <th>weather_Rain</th>\n",
       "      <th>weather_Snow</th>\n",
       "      <th>weather_other</th>\n",
       "    </tr>\n",
       "  </thead>\n",
       "  <tbody>\n",
       "    <tr>\n",
       "      <th>traffic_volume</th>\n",
       "      <td>1.000000</td>\n",
       "      <td>0.348531</td>\n",
       "      <td>-0.152164</td>\n",
       "      <td>-0.012662</td>\n",
       "      <td>0.103115</td>\n",
       "      <td>-0.043624</td>\n",
       "      <td>-0.015611</td>\n",
       "      <td>0.068872</td>\n",
       "      <td>0.118855</td>\n",
       "      <td>-0.061021</td>\n",
       "      <td>0.010034</td>\n",
       "      <td>-0.029444</td>\n",
       "      <td>-0.015236</td>\n",
       "    </tr>\n",
       "    <tr>\n",
       "      <th>hour</th>\n",
       "      <td>0.348531</td>\n",
       "      <td>1.000000</td>\n",
       "      <td>-0.005885</td>\n",
       "      <td>-0.009312</td>\n",
       "      <td>0.087980</td>\n",
       "      <td>-0.058801</td>\n",
       "      <td>-0.012232</td>\n",
       "      <td>0.058608</td>\n",
       "      <td>0.101444</td>\n",
       "      <td>-0.101826</td>\n",
       "      <td>0.012623</td>\n",
       "      <td>-0.004402</td>\n",
       "      <td>-0.029461</td>\n",
       "    </tr>\n",
       "    <tr>\n",
       "      <th>day_of_week</th>\n",
       "      <td>-0.152164</td>\n",
       "      <td>-0.005885</td>\n",
       "      <td>1.000000</td>\n",
       "      <td>0.011502</td>\n",
       "      <td>-0.018958</td>\n",
       "      <td>-0.032283</td>\n",
       "      <td>-0.007597</td>\n",
       "      <td>-0.038041</td>\n",
       "      <td>0.003150</td>\n",
       "      <td>-0.015327</td>\n",
       "      <td>-0.015726</td>\n",
       "      <td>-0.016462</td>\n",
       "      <td>-0.014453</td>\n",
       "    </tr>\n",
       "    <tr>\n",
       "      <th>month</th>\n",
       "      <td>-0.012662</td>\n",
       "      <td>-0.009312</td>\n",
       "      <td>0.011502</td>\n",
       "      <td>1.000000</td>\n",
       "      <td>0.190061</td>\n",
       "      <td>0.005665</td>\n",
       "      <td>0.029805</td>\n",
       "      <td>-0.036124</td>\n",
       "      <td>-0.033793</td>\n",
       "      <td>0.016976</td>\n",
       "      <td>0.020125</td>\n",
       "      <td>-0.025448</td>\n",
       "      <td>-0.002642</td>\n",
       "    </tr>\n",
       "    <tr>\n",
       "      <th>temp</th>\n",
       "      <td>0.103115</td>\n",
       "      <td>0.087980</td>\n",
       "      <td>-0.018958</td>\n",
       "      <td>0.190061</td>\n",
       "      <td>1.000000</td>\n",
       "      <td>-0.008877</td>\n",
       "      <td>0.120748</td>\n",
       "      <td>-0.187818</td>\n",
       "      <td>-0.000849</td>\n",
       "      <td>-0.085501</td>\n",
       "      <td>0.157316</td>\n",
       "      <td>-0.302134</td>\n",
       "      <td>0.032701</td>\n",
       "    </tr>\n",
       "    <tr>\n",
       "      <th>holiday</th>\n",
       "      <td>-0.043624</td>\n",
       "      <td>-0.058801</td>\n",
       "      <td>-0.032283</td>\n",
       "      <td>0.005665</td>\n",
       "      <td>-0.008877</td>\n",
       "      <td>1.000000</td>\n",
       "      <td>-0.002334</td>\n",
       "      <td>-0.006407</td>\n",
       "      <td>-0.001389</td>\n",
       "      <td>0.004477</td>\n",
       "      <td>-0.004271</td>\n",
       "      <td>0.001545</td>\n",
       "      <td>-0.002808</td>\n",
       "    </tr>\n",
       "    <tr>\n",
       "      <th>rain_1h</th>\n",
       "      <td>-0.015611</td>\n",
       "      <td>-0.012232</td>\n",
       "      <td>-0.007597</td>\n",
       "      <td>0.029805</td>\n",
       "      <td>0.120748</td>\n",
       "      <td>-0.002334</td>\n",
       "      <td>1.000000</td>\n",
       "      <td>0.110432</td>\n",
       "      <td>-0.117744</td>\n",
       "      <td>0.049879</td>\n",
       "      <td>0.196463</td>\n",
       "      <td>-0.038367</td>\n",
       "      <td>0.088688</td>\n",
       "    </tr>\n",
       "    <tr>\n",
       "      <th>clouds_all</th>\n",
       "      <td>0.068872</td>\n",
       "      <td>0.058608</td>\n",
       "      <td>-0.038041</td>\n",
       "      <td>-0.036124</td>\n",
       "      <td>-0.187818</td>\n",
       "      <td>-0.006407</td>\n",
       "      <td>0.110432</td>\n",
       "      <td>1.000000</td>\n",
       "      <td>0.240217</td>\n",
       "      <td>0.153795</td>\n",
       "      <td>0.213980</td>\n",
       "      <td>0.207805</td>\n",
       "      <td>0.159512</td>\n",
       "    </tr>\n",
       "    <tr>\n",
       "      <th>weather_Clouds</th>\n",
       "      <td>0.118855</td>\n",
       "      <td>0.101444</td>\n",
       "      <td>0.003150</td>\n",
       "      <td>-0.033793</td>\n",
       "      <td>-0.000849</td>\n",
       "      <td>-0.001389</td>\n",
       "      <td>-0.117744</td>\n",
       "      <td>0.240217</td>\n",
       "      <td>1.000000</td>\n",
       "      <td>-0.260280</td>\n",
       "      <td>-0.254489</td>\n",
       "      <td>-0.168009</td>\n",
       "      <td>-0.236989</td>\n",
       "    </tr>\n",
       "    <tr>\n",
       "      <th>weather_Mist</th>\n",
       "      <td>-0.061021</td>\n",
       "      <td>-0.101826</td>\n",
       "      <td>-0.015327</td>\n",
       "      <td>0.016976</td>\n",
       "      <td>-0.085501</td>\n",
       "      <td>0.004477</td>\n",
       "      <td>0.049879</td>\n",
       "      <td>0.153795</td>\n",
       "      <td>-0.260280</td>\n",
       "      <td>1.000000</td>\n",
       "      <td>-0.146776</td>\n",
       "      <td>-0.096899</td>\n",
       "      <td>-0.136682</td>\n",
       "    </tr>\n",
       "    <tr>\n",
       "      <th>weather_Rain</th>\n",
       "      <td>0.010034</td>\n",
       "      <td>0.012623</td>\n",
       "      <td>-0.015726</td>\n",
       "      <td>0.020125</td>\n",
       "      <td>0.157316</td>\n",
       "      <td>-0.004271</td>\n",
       "      <td>0.196463</td>\n",
       "      <td>0.213980</td>\n",
       "      <td>-0.254489</td>\n",
       "      <td>-0.146776</td>\n",
       "      <td>1.000000</td>\n",
       "      <td>-0.094743</td>\n",
       "      <td>-0.133641</td>\n",
       "    </tr>\n",
       "    <tr>\n",
       "      <th>weather_Snow</th>\n",
       "      <td>-0.029444</td>\n",
       "      <td>-0.004402</td>\n",
       "      <td>-0.016462</td>\n",
       "      <td>-0.025448</td>\n",
       "      <td>-0.302134</td>\n",
       "      <td>0.001545</td>\n",
       "      <td>-0.038367</td>\n",
       "      <td>0.207805</td>\n",
       "      <td>-0.168009</td>\n",
       "      <td>-0.096899</td>\n",
       "      <td>-0.094743</td>\n",
       "      <td>1.000000</td>\n",
       "      <td>-0.088227</td>\n",
       "    </tr>\n",
       "    <tr>\n",
       "      <th>weather_other</th>\n",
       "      <td>-0.015236</td>\n",
       "      <td>-0.029461</td>\n",
       "      <td>-0.014453</td>\n",
       "      <td>-0.002642</td>\n",
       "      <td>0.032701</td>\n",
       "      <td>-0.002808</td>\n",
       "      <td>0.088688</td>\n",
       "      <td>0.159512</td>\n",
       "      <td>-0.236989</td>\n",
       "      <td>-0.136682</td>\n",
       "      <td>-0.133641</td>\n",
       "      <td>-0.088227</td>\n",
       "      <td>1.000000</td>\n",
       "    </tr>\n",
       "  </tbody>\n",
       "</table>\n",
       "</div>"
      ],
      "text/plain": [
       "                traffic_volume      hour  day_of_week     month      temp  \\\n",
       "traffic_volume        1.000000  0.348531    -0.152164 -0.012662  0.103115   \n",
       "hour                  0.348531  1.000000    -0.005885 -0.009312  0.087980   \n",
       "day_of_week          -0.152164 -0.005885     1.000000  0.011502 -0.018958   \n",
       "month                -0.012662 -0.009312     0.011502  1.000000  0.190061   \n",
       "temp                  0.103115  0.087980    -0.018958  0.190061  1.000000   \n",
       "holiday              -0.043624 -0.058801    -0.032283  0.005665 -0.008877   \n",
       "rain_1h              -0.015611 -0.012232    -0.007597  0.029805  0.120748   \n",
       "clouds_all            0.068872  0.058608    -0.038041 -0.036124 -0.187818   \n",
       "weather_Clouds        0.118855  0.101444     0.003150 -0.033793 -0.000849   \n",
       "weather_Mist         -0.061021 -0.101826    -0.015327  0.016976 -0.085501   \n",
       "weather_Rain          0.010034  0.012623    -0.015726  0.020125  0.157316   \n",
       "weather_Snow         -0.029444 -0.004402    -0.016462 -0.025448 -0.302134   \n",
       "weather_other        -0.015236 -0.029461    -0.014453 -0.002642  0.032701   \n",
       "\n",
       "                 holiday   rain_1h  clouds_all  weather_Clouds  weather_Mist  \\\n",
       "traffic_volume -0.043624 -0.015611    0.068872        0.118855     -0.061021   \n",
       "hour           -0.058801 -0.012232    0.058608        0.101444     -0.101826   \n",
       "day_of_week    -0.032283 -0.007597   -0.038041        0.003150     -0.015327   \n",
       "month           0.005665  0.029805   -0.036124       -0.033793      0.016976   \n",
       "temp           -0.008877  0.120748   -0.187818       -0.000849     -0.085501   \n",
       "holiday         1.000000 -0.002334   -0.006407       -0.001389      0.004477   \n",
       "rain_1h        -0.002334  1.000000    0.110432       -0.117744      0.049879   \n",
       "clouds_all     -0.006407  0.110432    1.000000        0.240217      0.153795   \n",
       "weather_Clouds -0.001389 -0.117744    0.240217        1.000000     -0.260280   \n",
       "weather_Mist    0.004477  0.049879    0.153795       -0.260280      1.000000   \n",
       "weather_Rain   -0.004271  0.196463    0.213980       -0.254489     -0.146776   \n",
       "weather_Snow    0.001545 -0.038367    0.207805       -0.168009     -0.096899   \n",
       "weather_other  -0.002808  0.088688    0.159512       -0.236989     -0.136682   \n",
       "\n",
       "                weather_Rain  weather_Snow  weather_other  \n",
       "traffic_volume      0.010034     -0.029444      -0.015236  \n",
       "hour                0.012623     -0.004402      -0.029461  \n",
       "day_of_week        -0.015726     -0.016462      -0.014453  \n",
       "month               0.020125     -0.025448      -0.002642  \n",
       "temp                0.157316     -0.302134       0.032701  \n",
       "holiday            -0.004271      0.001545      -0.002808  \n",
       "rain_1h             0.196463     -0.038367       0.088688  \n",
       "clouds_all          0.213980      0.207805       0.159512  \n",
       "weather_Clouds     -0.254489     -0.168009      -0.236989  \n",
       "weather_Mist       -0.146776     -0.096899      -0.136682  \n",
       "weather_Rain        1.000000     -0.094743      -0.133641  \n",
       "weather_Snow       -0.094743      1.000000      -0.088227  \n",
       "weather_other      -0.133641     -0.088227       1.000000  "
      ]
     },
     "execution_count": 44,
     "metadata": {},
     "output_type": "execute_result"
    }
   ],
   "source": [
    "df.corr()"
   ]
  },
  {
   "cell_type": "markdown",
   "id": "41771b67",
   "metadata": {},
   "source": [
    "* correlation is showing that there is no individual feature that have a strong correlation with traffic volume"
   ]
  },
  {
   "cell_type": "code",
   "execution_count": 45,
   "id": "136c9cb7",
   "metadata": {},
   "outputs": [
    {
     "name": "stdout",
     "output_type": "stream",
     "text": [
      "AxesSubplot(0.125,0.1925;0.62x0.62)\n"
     ]
    },
    {
     "data": {
      "image/png": "[encoded data removed]",
      "text/plain": [
       "<Figure size 1080x1080 with 2 Axes>"
      ]
     },
     "metadata": {
      "needs_background": "light"
     },
     "output_type": "display_data"
    }
   ],
   "source": [
    "plt.figure(figsize=(15,15))\n",
    "sns.set(font_scale=1)\n",
    "print(sns.heatmap(df.corr(),\n",
    "           cbar=True,\n",
    "           annot=False,\n",
    "           square=True,\n",
    "           yticklabels=df.columns,\n",
    "            xticklabels=df.columns))\n",
    "plt.savefig('Report/heatmap.png', dpi=400, bbox_inches='tight')"
   ]
  },
  {
   "cell_type": "code",
   "execution_count": 46,
   "id": "99bd2ade",
   "metadata": {},
   "outputs": [
    {
     "data": {
      "text/plain": [
       "<seaborn.axisgrid.FacetGrid at 0x1ddf2245310>"
      ]
     },
     "execution_count": 46,
     "metadata": {},
     "output_type": "execute_result"
    },
    {
     "data": {
      "image/png": "[encoded data removed]",
      "text/plain": [
       "<Figure size 432x288 with 1 Axes>"
      ]
     },
     "metadata": {},
     "output_type": "display_data"
    },
    {
     "data": {
      "image/png": "[encoded data removed]",
      "text/plain": [
       "<Figure size 360x360 with 1 Axes>"
      ]
     },
     "metadata": {},
     "output_type": "display_data"
    }
   ],
   "source": [
    "sns.boxplot(data=df.traffic_volume)\n",
    "sns.displot(df.traffic_volume)"
   ]
  },
  {
   "cell_type": "markdown",
   "id": "1313325c",
   "metadata": {},
   "source": [
    "* traffic volume has a good distribution"
   ]
  },
  {
   "cell_type": "code",
   "execution_count": 47,
   "id": "57ccc013",
   "metadata": {},
   "outputs": [
    {
     "data": {
      "text/plain": [
       "<seaborn.axisgrid.FacetGrid at 0x1ddf3934f10>"
      ]
     },
     "execution_count": 47,
     "metadata": {},
     "output_type": "execute_result"
    },
    {
     "data": {
      "image/png": "[encoded data removed]",
      "text/plain": [
       "<Figure size 432x288 with 1 Axes>"
      ]
     },
     "metadata": {},
     "output_type": "display_data"
    },
    {
     "data": {
      "image/png": "[encoded data removed]",
      "text/plain": [
       "<Figure size 360x360 with 1 Axes>"
      ]
     },
     "metadata": {},
     "output_type": "display_data"
    }
   ],
   "source": [
    "sns.boxplot(data=df.hour)\n",
    "sns.displot(df.hour)"
   ]
  },
  {
   "cell_type": "markdown",
   "id": "77db043c",
   "metadata": {},
   "source": [
    "* Hour has a good distribution value"
   ]
  },
  {
   "cell_type": "code",
   "execution_count": 48,
   "id": "7240b951",
   "metadata": {},
   "outputs": [
    {
     "data": {
      "text/plain": [
       "<seaborn.axisgrid.FacetGrid at 0x1ddf225eca0>"
      ]
     },
     "execution_count": 48,
     "metadata": {},
     "output_type": "execute_result"
    },
    {
     "data": {
      "image/png": "[encoded data removed]",
      "text/plain": [
       "<Figure size 432x288 with 1 Axes>"
      ]
     },
     "metadata": {},
     "output_type": "display_data"
    },
    {
     "data": {
      "image/png": "[encoded data removed]",
      "text/plain": [
       "<Figure size 360x360 with 1 Axes>"
      ]
     },
     "metadata": {},
     "output_type": "display_data"
    }
   ],
   "source": [
    "sns.boxplot(data=df.day_of_week)\n",
    "sns.displot(df.day_of_week)"
   ]
  },
  {
   "cell_type": "markdown",
   "id": "a7a60b5d",
   "metadata": {},
   "source": [
    "* Day_of_week has good distribution, because data was got from each hour during all the days of week"
   ]
  },
  {
   "cell_type": "code",
   "execution_count": 49,
   "id": "18d1050a",
   "metadata": {},
   "outputs": [
    {
     "data": {
      "text/plain": [
       "<seaborn.axisgrid.FacetGrid at 0x1ddf3821640>"
      ]
     },
     "execution_count": 49,
     "metadata": {},
     "output_type": "execute_result"
    },
    {
     "data": {
      "image/png": "[encoded data removed]",
      "text/plain": [
       "<Figure size 432x288 with 1 Axes>"
      ]
     },
     "metadata": {},
     "output_type": "display_data"
    },
    {
     "data": {
      "image/png": "[encoded data removed]",
      "text/plain": [
       "<Figure size 360x360 with 1 Axes>"
      ]
     },
     "metadata": {},
     "output_type": "display_data"
    }
   ],
   "source": [
    "sns.boxplot(data=df.month)\n",
    "sns.displot(df.month)"
   ]
  },
  {
   "cell_type": "markdown",
   "id": "0be644ba",
   "metadata": {},
   "source": [
    "* Month has a good distribution value"
   ]
  },
  {
   "cell_type": "code",
   "execution_count": 50,
   "id": "ae540e75",
   "metadata": {},
   "outputs": [
    {
     "data": {
      "text/plain": [
       "<seaborn.axisgrid.FacetGrid at 0x1ddf16166a0>"
      ]
     },
     "execution_count": 50,
     "metadata": {},
     "output_type": "execute_result"
    },
    {
     "data": {
      "image/png": "[encoded data removed]",
      "text/plain": [
       "<Figure size 432x288 with 1 Axes>"
      ]
     },
     "metadata": {},
     "output_type": "display_data"
    },
    {
     "data": {
      "image/png": "[encoded data removed]",
      "text/plain": [
       "<Figure size 360x360 with 1 Axes>"
      ]
     },
     "metadata": {},
     "output_type": "display_data"
    }
   ],
   "source": [
    "sns.boxplot(data=df.temp)\n",
    "sns.displot(df.temp)"
   ]
  },
  {
   "cell_type": "markdown",
   "id": "53d722eb",
   "metadata": {},
   "source": [
    "* Temperature has a good distribution value"
   ]
  },
  {
   "cell_type": "code",
   "execution_count": 51,
   "id": "ecb14a6f",
   "metadata": {},
   "outputs": [
    {
     "data": {
      "text/plain": [
       "<seaborn.axisgrid.FacetGrid at 0x1ddf1ea80d0>"
      ]
     },
     "execution_count": 51,
     "metadata": {},
     "output_type": "execute_result"
    },
    {
     "data": {
      "image/png": "[encoded data removed]",
      "text/plain": [
       "<Figure size 432x288 with 1 Axes>"
      ]
     },
     "metadata": {},
     "output_type": "display_data"
    },
    {
     "data": {
      "image/png": "[encoded data removed]",
      "text/plain": [
       "<Figure size 360x360 with 1 Axes>"
      ]
     },
     "metadata": {},
     "output_type": "display_data"
    }
   ],
   "source": [
    "sns.boxplot(data=df.holiday)\n",
    "sns.displot(df.holiday)"
   ]
  },
  {
   "cell_type": "markdown",
   "id": "3aa3e446",
   "metadata": {},
   "source": [
    "* There are just few values in holidays, the biggest data is from regular days as you can see in the picture"
   ]
  },
  {
   "cell_type": "code",
   "execution_count": 52,
   "id": "957eaaaa",
   "metadata": {},
   "outputs": [
    {
     "data": {
      "text/plain": [
       "<seaborn.axisgrid.FacetGrid at 0x1ddf15179a0>"
      ]
     },
     "execution_count": 52,
     "metadata": {},
     "output_type": "execute_result"
    },
    {
     "data": {
      "image/png": "[encoded data removed]",
      "text/plain": [
       "<Figure size 432x288 with 1 Axes>"
      ]
     },
     "metadata": {},
     "output_type": "display_data"
    },
    {
     "data": {
      "image/png": "[encoded data removed]",
      "text/plain": [
       "<Figure size 360x360 with 1 Axes>"
      ]
     },
     "metadata": {},
     "output_type": "display_data"
    }
   ],
   "source": [
    "sns.boxplot(data=df.rain_1h)\n",
    "sns.displot(df.rain_1h)"
   ]
  },
  {
   "cell_type": "markdown",
   "id": "6c9e56ba",
   "metadata": {},
   "source": [
    "* The main data in rain is concentrated in value 0"
   ]
  },
  {
   "cell_type": "code",
   "execution_count": 53,
   "id": "fb7ff4b7",
   "metadata": {},
   "outputs": [
    {
     "data": {
      "text/plain": [
       "<seaborn.axisgrid.FacetGrid at 0x1ddf1fc2e80>"
      ]
     },
     "execution_count": 53,
     "metadata": {},
     "output_type": "execute_result"
    },
    {
     "data": {
      "image/png": "[encoded data removed]",
      "text/plain": [
       "<Figure size 432x288 with 1 Axes>"
      ]
     },
     "metadata": {},
     "output_type": "display_data"
    },
    {
     "data": {
      "image/png": "[encoded data removed]",
      "text/plain": [
       "<Figure size 360x360 with 1 Axes>"
      ]
     },
     "metadata": {},
     "output_type": "display_data"
    }
   ],
   "source": [
    "sns.boxplot(data=df.clouds_all)\n",
    "sns.displot(df.clouds_all)"
   ]
  },
  {
   "cell_type": "markdown",
   "id": "353b0f2f",
   "metadata": {},
   "source": [
    "* Clouds_all feature has a good distribution"
   ]
  },
  {
   "cell_type": "code",
   "execution_count": 54,
   "id": "a72462ee",
   "metadata": {},
   "outputs": [
    {
     "data": {
      "text/plain": [
       "<AxesSubplot:xlabel='hour', ylabel='traffic_volume'>"
      ]
     },
     "execution_count": 54,
     "metadata": {},
     "output_type": "execute_result"
    },
    {
     "data": {
      "image/png": "[encoded data removed]",
      "text/plain": [
       "<Figure size 432x288 with 1 Axes>"
      ]
     },
     "metadata": {},
     "output_type": "display_data"
    }
   ],
   "source": [
    "sns.scatterplot(x=df.hour, y=df.traffic_volume)"
   ]
  },
  {
   "cell_type": "markdown",
   "id": "e59e2bf4",
   "metadata": {},
   "source": [
    "* Hour can affect the traffic volume. The bigger traffic is during 8am to 8pm"
   ]
  },
  {
   "cell_type": "code",
   "execution_count": 55,
   "id": "e2df4019",
   "metadata": {},
   "outputs": [
    {
     "data": {
      "text/plain": [
       "<AxesSubplot:xlabel='day_of_week', ylabel='traffic_volume'>"
      ]
     },
     "execution_count": 55,
     "metadata": {},
     "output_type": "execute_result"
    },
    {
     "data": {
      "image/png": "[encoded data removed]",
      "text/plain": [
       "<Figure size 432x288 with 1 Axes>"
      ]
     },
     "metadata": {},
     "output_type": "display_data"
    }
   ],
   "source": [
    "sns.scatterplot(x=df.day_of_week, y=df.traffic_volume)"
   ]
  },
  {
   "cell_type": "markdown",
   "id": "09e76559",
   "metadata": {},
   "source": [
    "* Saturday(5) and Sunday(6) have less traffic volume"
   ]
  },
  {
   "cell_type": "code",
   "execution_count": 56,
   "id": "7d577220",
   "metadata": {},
   "outputs": [
    {
     "data": {
      "text/plain": [
       "<AxesSubplot:xlabel='month', ylabel='traffic_volume'>"
      ]
     },
     "execution_count": 56,
     "metadata": {},
     "output_type": "execute_result"
    },
    {
     "data": {
      "image/png": "[encoded data removed]",
      "text/plain": [
       "<Figure size 432x288 with 1 Axes>"
      ]
     },
     "metadata": {},
     "output_type": "display_data"
    }
   ],
   "source": [
    "sns.scatterplot(x=df.month, y=df.traffic_volume)"
   ]
  },
  {
   "cell_type": "markdown",
   "id": "6d260ec3",
   "metadata": {},
   "source": [
    "* Month seems that have a constant distribution, without a variation"
   ]
  },
  {
   "cell_type": "code",
   "execution_count": 57,
   "id": "da9d7227",
   "metadata": {},
   "outputs": [
    {
     "data": {
      "text/plain": [
       "<AxesSubplot:xlabel='temp', ylabel='traffic_volume'>"
      ]
     },
     "execution_count": 57,
     "metadata": {},
     "output_type": "execute_result"
    },
    {
     "data": {
      "image/png": "[encoded data removed]",
      "text/plain": [
       "<Figure size 432x288 with 1 Axes>"
      ]
     },
     "metadata": {},
     "output_type": "display_data"
    }
   ],
   "source": [
    "sns.scatterplot(x=df.temp, y=df.traffic_volume)\n"
   ]
  },
  {
   "cell_type": "markdown",
   "id": "3dc3f34b",
   "metadata": {},
   "source": [
    "* Temperature has no affect in traffic volume"
   ]
  },
  {
   "cell_type": "code",
   "execution_count": 58,
   "id": "c376c8a7",
   "metadata": {},
   "outputs": [
    {
     "data": {
      "text/plain": [
       "<AxesSubplot:xlabel='holiday', ylabel='traffic_volume'>"
      ]
     },
     "execution_count": 58,
     "metadata": {},
     "output_type": "execute_result"
    },
    {
     "data": {
      "image/png": "[encoded data removed]",
      "text/plain": [
       "<Figure size 432x288 with 1 Axes>"
      ]
     },
     "metadata": {},
     "output_type": "display_data"
    }
   ],
   "source": [
    "sns.scatterplot(x=df.holiday, y=df.traffic_volume)\n"
   ]
  },
  {
   "cell_type": "markdown",
   "id": "187a6fc4",
   "metadata": {},
   "source": [
    "* Just few values in holiday, so it is hard to correlate traffic with holiday"
   ]
  },
  {
   "cell_type": "code",
   "execution_count": 59,
   "id": "cb2bf73b",
   "metadata": {},
   "outputs": [
    {
     "data": {
      "text/plain": [
       "<AxesSubplot:xlabel='rain_1h', ylabel='traffic_volume'>"
      ]
     },
     "execution_count": 59,
     "metadata": {},
     "output_type": "execute_result"
    },
    {
     "data": {
      "image/png": "[encoded data removed]",
      "text/plain": [
       "<Figure size 432x288 with 1 Axes>"
      ]
     },
     "metadata": {},
     "output_type": "display_data"
    }
   ],
   "source": [
    "sns.scatterplot(x=df.rain_1h, y=df.traffic_volume)\n"
   ]
  },
  {
   "cell_type": "markdown",
   "id": "bce9d8bd",
   "metadata": {},
   "source": [
    "* rain_1h has no affect in traffic volume"
   ]
  },
  {
   "cell_type": "code",
   "execution_count": 60,
   "id": "aa190f5e",
   "metadata": {},
   "outputs": [
    {
     "data": {
      "text/plain": [
       "<AxesSubplot:xlabel='clouds_all', ylabel='traffic_volume'>"
      ]
     },
     "execution_count": 60,
     "metadata": {},
     "output_type": "execute_result"
    },
    {
     "data": {
      "image/png": "[encoded data removed]",
      "text/plain": [
       "<Figure size 432x288 with 1 Axes>"
      ]
     },
     "metadata": {},
     "output_type": "display_data"
    }
   ],
   "source": [
    "sns.scatterplot(x=df.clouds_all, y=df.traffic_volume)\n"
   ]
  },
  {
   "cell_type": "markdown",
   "id": "03ccae2d",
   "metadata": {},
   "source": [
    "* clouds_all has no affect in traffic volume"
   ]
  },
  {
   "cell_type": "markdown",
   "id": "d89e1215",
   "metadata": {},
   "source": [
    "## Create models"
   ]
  },
  {
   "cell_type": "code",
   "execution_count": 61,
   "id": "54d44633",
   "metadata": {},
   "outputs": [],
   "source": [
    "# Save price in target variable\n",
    "target = df.traffic_volume\n",
    "\n",
    "# remove price from copy dataframe\n",
    "features = df.drop('traffic_volume', axis=1)"
   ]
  },
  {
   "cell_type": "markdown",
   "id": "589e9fb5",
   "metadata": {},
   "source": [
    "## Variance threshold"
   ]
  },
  {
   "cell_type": "code",
   "execution_count": 62,
   "id": "f7505fcb",
   "metadata": {},
   "outputs": [
    {
     "data": {
      "text/html": [
       "<div>\n",
       "<style scoped>\n",
       "    .dataframe tbody tr th:only-of-type {\n",
       "        vertical-align: middle;\n",
       "    }\n",
       "\n",
       "    .dataframe tbody tr th {\n",
       "        vertical-align: top;\n",
       "    }\n",
       "\n",
       "    .dataframe thead th {\n",
       "        text-align: right;\n",
       "    }\n",
       "</style>\n",
       "<table border=\"1\" class=\"dataframe\">\n",
       "  <thead>\n",
       "    <tr style=\"text-align: right;\">\n",
       "      <th></th>\n",
       "      <th>hour</th>\n",
       "      <th>day_of_week</th>\n",
       "      <th>month</th>\n",
       "      <th>temp</th>\n",
       "      <th>rain_1h</th>\n",
       "      <th>clouds_all</th>\n",
       "      <th>weather_Clouds</th>\n",
       "      <th>weather_Mist</th>\n",
       "      <th>weather_Rain</th>\n",
       "    </tr>\n",
       "  </thead>\n",
       "  <tbody>\n",
       "    <tr>\n",
       "      <th>0</th>\n",
       "      <td>9</td>\n",
       "      <td>1</td>\n",
       "      <td>10</td>\n",
       "      <td>15.0</td>\n",
       "      <td>0.0</td>\n",
       "      <td>40</td>\n",
       "      <td>1</td>\n",
       "      <td>0</td>\n",
       "      <td>0</td>\n",
       "    </tr>\n",
       "    <tr>\n",
       "      <th>1</th>\n",
       "      <td>10</td>\n",
       "      <td>1</td>\n",
       "      <td>10</td>\n",
       "      <td>16.0</td>\n",
       "      <td>0.0</td>\n",
       "      <td>75</td>\n",
       "      <td>1</td>\n",
       "      <td>0</td>\n",
       "      <td>0</td>\n",
       "    </tr>\n",
       "    <tr>\n",
       "      <th>2</th>\n",
       "      <td>11</td>\n",
       "      <td>1</td>\n",
       "      <td>10</td>\n",
       "      <td>16.0</td>\n",
       "      <td>0.0</td>\n",
       "      <td>90</td>\n",
       "      <td>1</td>\n",
       "      <td>0</td>\n",
       "      <td>0</td>\n",
       "    </tr>\n",
       "    <tr>\n",
       "      <th>3</th>\n",
       "      <td>12</td>\n",
       "      <td>1</td>\n",
       "      <td>10</td>\n",
       "      <td>17.0</td>\n",
       "      <td>0.0</td>\n",
       "      <td>90</td>\n",
       "      <td>1</td>\n",
       "      <td>0</td>\n",
       "      <td>0</td>\n",
       "    </tr>\n",
       "    <tr>\n",
       "      <th>4</th>\n",
       "      <td>13</td>\n",
       "      <td>1</td>\n",
       "      <td>10</td>\n",
       "      <td>18.0</td>\n",
       "      <td>0.0</td>\n",
       "      <td>75</td>\n",
       "      <td>1</td>\n",
       "      <td>0</td>\n",
       "      <td>0</td>\n",
       "    </tr>\n",
       "  </tbody>\n",
       "</table>\n",
       "</div>"
      ],
      "text/plain": [
       "   hour  day_of_week  month  temp  rain_1h  clouds_all  weather_Clouds  \\\n",
       "0     9            1     10  15.0      0.0          40               1   \n",
       "1    10            1     10  16.0      0.0          75               1   \n",
       "2    11            1     10  16.0      0.0          90               1   \n",
       "3    12            1     10  17.0      0.0          90               1   \n",
       "4    13            1     10  18.0      0.0          75               1   \n",
       "\n",
       "   weather_Mist  weather_Rain  \n",
       "0             0             0  \n",
       "1             0             0  \n",
       "2             0             0  \n",
       "3             0             0  \n",
       "4             0             0  "
      ]
     },
     "execution_count": 62,
     "metadata": {},
     "output_type": "execute_result"
    }
   ],
   "source": [
    "vt = VarianceThreshold(threshold=0.1) # Considerind threshold between 0.1 and 0.2\n",
    "vt.fit(features) # Using DataFrame whithout price\n",
    "df_vt = features.iloc[:,vt.get_support()]\n",
    "df_vt.head()"
   ]
  },
  {
   "cell_type": "markdown",
   "id": "e23ddb1f",
   "metadata": {},
   "source": [
    "## KBest feature selection"
   ]
  },
  {
   "cell_type": "code",
   "execution_count": 63,
   "id": "d92c0141",
   "metadata": {},
   "outputs": [
    {
     "data": {
      "text/html": [
       "<div>\n",
       "<style scoped>\n",
       "    .dataframe tbody tr th:only-of-type {\n",
       "        vertical-align: middle;\n",
       "    }\n",
       "\n",
       "    .dataframe tbody tr th {\n",
       "        vertical-align: top;\n",
       "    }\n",
       "\n",
       "    .dataframe thead th {\n",
       "        text-align: right;\n",
       "    }\n",
       "</style>\n",
       "<table border=\"1\" class=\"dataframe\">\n",
       "  <thead>\n",
       "    <tr style=\"text-align: right;\">\n",
       "      <th></th>\n",
       "      <th>hour</th>\n",
       "      <th>day_of_week</th>\n",
       "      <th>temp</th>\n",
       "      <th>holiday</th>\n",
       "      <th>rain_1h</th>\n",
       "      <th>clouds_all</th>\n",
       "      <th>weather_Clouds</th>\n",
       "      <th>weather_Mist</th>\n",
       "      <th>weather_Snow</th>\n",
       "      <th>weather_other</th>\n",
       "    </tr>\n",
       "  </thead>\n",
       "  <tbody>\n",
       "    <tr>\n",
       "      <th>0</th>\n",
       "      <td>9</td>\n",
       "      <td>1</td>\n",
       "      <td>15.0</td>\n",
       "      <td>0</td>\n",
       "      <td>0.0</td>\n",
       "      <td>40</td>\n",
       "      <td>1</td>\n",
       "      <td>0</td>\n",
       "      <td>0</td>\n",
       "      <td>0</td>\n",
       "    </tr>\n",
       "    <tr>\n",
       "      <th>1</th>\n",
       "      <td>10</td>\n",
       "      <td>1</td>\n",
       "      <td>16.0</td>\n",
       "      <td>0</td>\n",
       "      <td>0.0</td>\n",
       "      <td>75</td>\n",
       "      <td>1</td>\n",
       "      <td>0</td>\n",
       "      <td>0</td>\n",
       "      <td>0</td>\n",
       "    </tr>\n",
       "    <tr>\n",
       "      <th>2</th>\n",
       "      <td>11</td>\n",
       "      <td>1</td>\n",
       "      <td>16.0</td>\n",
       "      <td>0</td>\n",
       "      <td>0.0</td>\n",
       "      <td>90</td>\n",
       "      <td>1</td>\n",
       "      <td>0</td>\n",
       "      <td>0</td>\n",
       "      <td>0</td>\n",
       "    </tr>\n",
       "    <tr>\n",
       "      <th>3</th>\n",
       "      <td>12</td>\n",
       "      <td>1</td>\n",
       "      <td>17.0</td>\n",
       "      <td>0</td>\n",
       "      <td>0.0</td>\n",
       "      <td>90</td>\n",
       "      <td>1</td>\n",
       "      <td>0</td>\n",
       "      <td>0</td>\n",
       "      <td>0</td>\n",
       "    </tr>\n",
       "    <tr>\n",
       "      <th>4</th>\n",
       "      <td>13</td>\n",
       "      <td>1</td>\n",
       "      <td>18.0</td>\n",
       "      <td>0</td>\n",
       "      <td>0.0</td>\n",
       "      <td>75</td>\n",
       "      <td>1</td>\n",
       "      <td>0</td>\n",
       "      <td>0</td>\n",
       "      <td>0</td>\n",
       "    </tr>\n",
       "  </tbody>\n",
       "</table>\n",
       "</div>"
      ],
      "text/plain": [
       "   hour  day_of_week  temp  holiday  rain_1h  clouds_all  weather_Clouds  \\\n",
       "0     9            1  15.0        0      0.0          40               1   \n",
       "1    10            1  16.0        0      0.0          75               1   \n",
       "2    11            1  16.0        0      0.0          90               1   \n",
       "3    12            1  17.0        0      0.0          90               1   \n",
       "4    13            1  18.0        0      0.0          75               1   \n",
       "\n",
       "   weather_Mist  weather_Snow  weather_other  \n",
       "0             0             0              0  \n",
       "1             0             0              0  \n",
       "2             0             0              0  \n",
       "3             0             0              0  \n",
       "4             0             0              0  "
      ]
     },
     "execution_count": 63,
     "metadata": {},
     "output_type": "execute_result"
    }
   ],
   "source": [
    "kbest = SelectKBest(score_func=f_regression, k=10) # select 10 features\n",
    "\n",
    "X_train, X_test, y_train, y_test = train_test_split(features, target, test_size=0.25, random_state=42)\n",
    "\n",
    "kbest.fit_transform(X_train, y_train)\n",
    "df_selKBest = features.iloc[:,kbest.get_support()]\n",
    "df_selKBest.head()"
   ]
  },
  {
   "cell_type": "markdown",
   "id": "1cc862b2",
   "metadata": {},
   "source": [
    "## Randon Forest as estimator"
   ]
  },
  {
   "cell_type": "code",
   "execution_count": 64,
   "id": "a2d9b209",
   "metadata": {},
   "outputs": [
    {
     "data": {
      "text/html": [
       "<div>\n",
       "<style scoped>\n",
       "    .dataframe tbody tr th:only-of-type {\n",
       "        vertical-align: middle;\n",
       "    }\n",
       "\n",
       "    .dataframe tbody tr th {\n",
       "        vertical-align: top;\n",
       "    }\n",
       "\n",
       "    .dataframe thead th {\n",
       "        text-align: right;\n",
       "    }\n",
       "</style>\n",
       "<table border=\"1\" class=\"dataframe\">\n",
       "  <thead>\n",
       "    <tr style=\"text-align: right;\">\n",
       "      <th></th>\n",
       "      <th>hour</th>\n",
       "      <th>day_of_week</th>\n",
       "      <th>temp</th>\n",
       "      <th>rain_1h</th>\n",
       "      <th>clouds_all</th>\n",
       "    </tr>\n",
       "  </thead>\n",
       "  <tbody>\n",
       "    <tr>\n",
       "      <th>0</th>\n",
       "      <td>9</td>\n",
       "      <td>1</td>\n",
       "      <td>15.0</td>\n",
       "      <td>0.0</td>\n",
       "      <td>40</td>\n",
       "    </tr>\n",
       "    <tr>\n",
       "      <th>1</th>\n",
       "      <td>10</td>\n",
       "      <td>1</td>\n",
       "      <td>16.0</td>\n",
       "      <td>0.0</td>\n",
       "      <td>75</td>\n",
       "    </tr>\n",
       "    <tr>\n",
       "      <th>2</th>\n",
       "      <td>11</td>\n",
       "      <td>1</td>\n",
       "      <td>16.0</td>\n",
       "      <td>0.0</td>\n",
       "      <td>90</td>\n",
       "    </tr>\n",
       "    <tr>\n",
       "      <th>3</th>\n",
       "      <td>12</td>\n",
       "      <td>1</td>\n",
       "      <td>17.0</td>\n",
       "      <td>0.0</td>\n",
       "      <td>90</td>\n",
       "    </tr>\n",
       "    <tr>\n",
       "      <th>4</th>\n",
       "      <td>13</td>\n",
       "      <td>1</td>\n",
       "      <td>18.0</td>\n",
       "      <td>0.0</td>\n",
       "      <td>75</td>\n",
       "    </tr>\n",
       "  </tbody>\n",
       "</table>\n",
       "</div>"
      ],
      "text/plain": [
       "   hour  day_of_week  temp  rain_1h  clouds_all\n",
       "0     9            1  15.0      0.0          40\n",
       "1    10            1  16.0      0.0          75\n",
       "2    11            1  16.0      0.0          90\n",
       "3    12            1  17.0      0.0          90\n",
       "4    13            1  18.0      0.0          75"
      ]
     },
     "execution_count": 64,
     "metadata": {},
     "output_type": "execute_result"
    }
   ],
   "source": [
    "sfm_selec = SelectFromModel(estimator=RandomForestClassifier(n_estimators=100, max_leaf_nodes=8)).fit(features, target)\n",
    "sfm_selec.transform(features)\n",
    "sfm_df = features.iloc[:,sfm_selec.get_support()]\n",
    "sfm_df.head()"
   ]
  },
  {
   "cell_type": "markdown",
   "id": "ef98ae4b",
   "metadata": {},
   "source": [
    "## Support methods to run pipeline"
   ]
  },
  {
   "cell_type": "code",
   "execution_count": 65,
   "id": "d0ebc291",
   "metadata": {},
   "outputs": [],
   "source": [
    "name=[]\n",
    "models_result=[]\n",
    "y_preds=[]\n",
    "r2=[]\n",
    "rmse=[]\n",
    "estimator=[]\n",
    "y_test_plot=[]\n",
    "dataframes=[]\n",
    "\n",
    "def runPipeline(models, dataframe, X_train, X_test, y_train, y_test, estimatorName):    \n",
    "    for model in models:\n",
    "        pipe = Pipeline([('preprocessor', PolynomialFeatures(degree=2, include_bias=False, interaction_only=False)),\n",
    "                         ('regressor', model)])\n",
    "        pipe.fit(X_train, y_train)\n",
    "        y_pred = pipe.predict(X_test)\n",
    "        y_preds.append(y_pred)\n",
    "        r2.append(pipe.score(X_test, y_test))\n",
    "        rmse.append(mean_squared_error(y_test, y_pred, squared=False))\n",
    "        models_result.append(pipe)\n",
    "        name.append(model.__class__.__name__)\n",
    "        estimator.append(estimatorName)\n",
    "        y_test_plot.append(y_test)\n",
    "        dataframes.append(dataframe)"
   ]
  },
  {
   "cell_type": "markdown",
   "id": "58ff8d22",
   "metadata": {},
   "source": [
    "## Create Pipeline with Random Forest estimator"
   ]
  },
  {
   "cell_type": "code",
   "execution_count": 66,
   "id": "7a6c1656",
   "metadata": {},
   "outputs": [
    {
     "name": "stdout",
     "output_type": "stream",
     "text": [
      "Learning rate set to 0.5\n",
      "0:\tlearn: 1173.0307581\ttotal: 188ms\tremaining: 9.23s\n",
      "1:\tlearn: 801.0944312\ttotal: 197ms\tremaining: 4.73s\n",
      "2:\tlearn: 648.2577491\ttotal: 205ms\tremaining: 3.21s\n",
      "3:\tlearn: 578.8520324\ttotal: 213ms\tremaining: 2.45s\n",
      "4:\tlearn: 552.7022522\ttotal: 221ms\tremaining: 1.99s\n",
      "5:\tlearn: 536.1406716\ttotal: 229ms\tremaining: 1.68s\n",
      "6:\tlearn: 526.6949958\ttotal: 237ms\tremaining: 1.46s\n",
      "7:\tlearn: 519.9274625\ttotal: 244ms\tremaining: 1.28s\n",
      "8:\tlearn: 515.6824472\ttotal: 251ms\tremaining: 1.14s\n",
      "9:\tlearn: 511.7958669\ttotal: 258ms\tremaining: 1.03s\n",
      "10:\tlearn: 506.5398084\ttotal: 265ms\tremaining: 939ms\n",
      "11:\tlearn: 503.6902832\ttotal: 272ms\tremaining: 862ms\n",
      "12:\tlearn: 501.3361415\ttotal: 278ms\tremaining: 793ms\n",
      "13:\tlearn: 497.8643555\ttotal: 286ms\tremaining: 735ms\n",
      "14:\tlearn: 495.8218568\ttotal: 292ms\tremaining: 682ms\n",
      "15:\tlearn: 493.9251795\ttotal: 300ms\tremaining: 637ms\n",
      "16:\tlearn: 493.5459460\ttotal: 306ms\tremaining: 594ms\n",
      "17:\tlearn: 491.3978682\ttotal: 313ms\tremaining: 556ms\n",
      "18:\tlearn: 490.1837687\ttotal: 319ms\tremaining: 521ms\n",
      "19:\tlearn: 487.9279435\ttotal: 327ms\tremaining: 490ms\n",
      "20:\tlearn: 487.3989803\ttotal: 334ms\tremaining: 461ms\n",
      "21:\tlearn: 486.4470102\ttotal: 341ms\tremaining: 434ms\n",
      "22:\tlearn: 484.7636222\ttotal: 349ms\tremaining: 409ms\n",
      "23:\tlearn: 483.7786579\ttotal: 356ms\tremaining: 385ms\n",
      "24:\tlearn: 483.1492356\ttotal: 362ms\tremaining: 362ms\n",
      "25:\tlearn: 481.7029251\ttotal: 369ms\tremaining: 341ms\n",
      "26:\tlearn: 480.8882679\ttotal: 376ms\tremaining: 321ms\n",
      "27:\tlearn: 479.7617042\ttotal: 384ms\tremaining: 302ms\n",
      "28:\tlearn: 478.6529389\ttotal: 392ms\tremaining: 284ms\n",
      "29:\tlearn: 478.1412749\ttotal: 399ms\tremaining: 266ms\n",
      "30:\tlearn: 476.8227046\ttotal: 407ms\tremaining: 249ms\n",
      "31:\tlearn: 476.1981633\ttotal: 415ms\tremaining: 233ms\n",
      "32:\tlearn: 475.0248513\ttotal: 422ms\tremaining: 217ms\n",
      "33:\tlearn: 474.0083819\ttotal: 429ms\tremaining: 202ms\n",
      "34:\tlearn: 473.2447996\ttotal: 436ms\tremaining: 187ms\n",
      "35:\tlearn: 472.8026890\ttotal: 443ms\tremaining: 172ms\n",
      "36:\tlearn: 471.8631699\ttotal: 449ms\tremaining: 158ms\n",
      "37:\tlearn: 471.4002004\ttotal: 458ms\tremaining: 145ms\n",
      "38:\tlearn: 470.5718897\ttotal: 465ms\tremaining: 131ms\n",
      "39:\tlearn: 468.7077623\ttotal: 473ms\tremaining: 118ms\n",
      "40:\tlearn: 467.8815747\ttotal: 481ms\tremaining: 106ms\n",
      "41:\tlearn: 467.4406268\ttotal: 488ms\tremaining: 93ms\n",
      "42:\tlearn: 466.8755271\ttotal: 495ms\tremaining: 80.6ms\n",
      "43:\tlearn: 466.1125889\ttotal: 503ms\tremaining: 68.6ms\n",
      "44:\tlearn: 465.7372078\ttotal: 510ms\tremaining: 56.7ms\n",
      "45:\tlearn: 465.1747903\ttotal: 518ms\tremaining: 45ms\n",
      "46:\tlearn: 464.2659147\ttotal: 525ms\tremaining: 33.5ms\n",
      "47:\tlearn: 463.2838745\ttotal: 532ms\tremaining: 22.2ms\n",
      "48:\tlearn: 462.9574148\ttotal: 539ms\tremaining: 11ms\n",
      "49:\tlearn: 462.6394601\ttotal: 547ms\tremaining: 0us\n"
     ]
    }
   ],
   "source": [
    "# Load models list\n",
    "models=[LinearRegression(),DecisionTreeRegressor(max_depth=3), GradientBoostingRegressor(), \n",
    "        RandomForestRegressor(n_estimators=100, max_depth=3),AdaBoostRegressor(n_estimators=50), \n",
    "        CatBoostRegressor(n_estimators=50)]\n",
    "\n",
    "XRF_train, XRF_test, yRF_train, yRF_test = train_test_split(sfm_df, target, test_size=0.25)\n",
    "runPipeline(models, sfm_df, XRF_train, XRF_test, yRF_train, yRF_test, \"Random Forest\")"
   ]
  },
  {
   "cell_type": "markdown",
   "id": "943630e1",
   "metadata": {},
   "source": [
    "## Create Pipeline with KBest estimator"
   ]
  },
  {
   "cell_type": "code",
   "execution_count": 67,
   "id": "939e3fdc",
   "metadata": {},
   "outputs": [
    {
     "name": "stdout",
     "output_type": "stream",
     "text": [
      "Learning rate set to 0.5\n",
      "0:\tlearn: 1187.0464422\ttotal: 9.29ms\tremaining: 455ms\n",
      "1:\tlearn: 839.8148852\ttotal: 17.5ms\tremaining: 421ms\n",
      "2:\tlearn: 674.6410859\ttotal: 25.7ms\tremaining: 402ms\n",
      "3:\tlearn: 609.8747686\ttotal: 33.4ms\tremaining: 385ms\n",
      "4:\tlearn: 570.9244168\ttotal: 41.8ms\tremaining: 376ms\n",
      "5:\tlearn: 551.7925233\ttotal: 49.3ms\tremaining: 362ms\n",
      "6:\tlearn: 538.6273759\ttotal: 57.5ms\tremaining: 353ms\n",
      "7:\tlearn: 529.5187202\ttotal: 65.5ms\tremaining: 344ms\n",
      "8:\tlearn: 520.1192746\ttotal: 73.5ms\tremaining: 335ms\n",
      "9:\tlearn: 514.4547337\ttotal: 81.3ms\tremaining: 325ms\n",
      "10:\tlearn: 507.3462516\ttotal: 89.6ms\tremaining: 318ms\n",
      "11:\tlearn: 504.6594122\ttotal: 97.1ms\tremaining: 308ms\n",
      "12:\tlearn: 502.4597653\ttotal: 105ms\tremaining: 299ms\n",
      "13:\tlearn: 499.0452243\ttotal: 112ms\tremaining: 289ms\n",
      "14:\tlearn: 496.5627377\ttotal: 120ms\tremaining: 280ms\n",
      "15:\tlearn: 494.7589951\ttotal: 128ms\tremaining: 272ms\n",
      "16:\tlearn: 491.4563708\ttotal: 135ms\tremaining: 263ms\n",
      "17:\tlearn: 490.5298859\ttotal: 143ms\tremaining: 254ms\n",
      "18:\tlearn: 487.2140098\ttotal: 150ms\tremaining: 245ms\n",
      "19:\tlearn: 486.3963951\ttotal: 158ms\tremaining: 236ms\n",
      "20:\tlearn: 485.2567556\ttotal: 165ms\tremaining: 228ms\n",
      "21:\tlearn: 483.0034132\ttotal: 174ms\tremaining: 222ms\n",
      "22:\tlearn: 481.9397110\ttotal: 183ms\tremaining: 214ms\n",
      "23:\tlearn: 481.1635039\ttotal: 192ms\tremaining: 208ms\n",
      "24:\tlearn: 479.2118615\ttotal: 200ms\tremaining: 200ms\n",
      "25:\tlearn: 477.7372804\ttotal: 208ms\tremaining: 192ms\n",
      "26:\tlearn: 475.9037207\ttotal: 217ms\tremaining: 185ms\n",
      "27:\tlearn: 475.0006020\ttotal: 224ms\tremaining: 176ms\n",
      "28:\tlearn: 474.0298552\ttotal: 232ms\tremaining: 168ms\n",
      "29:\tlearn: 472.5452508\ttotal: 240ms\tremaining: 160ms\n",
      "30:\tlearn: 471.7885106\ttotal: 248ms\tremaining: 152ms\n",
      "31:\tlearn: 471.7474167\ttotal: 254ms\tremaining: 143ms\n",
      "32:\tlearn: 470.5317916\ttotal: 262ms\tremaining: 135ms\n",
      "33:\tlearn: 469.2725469\ttotal: 270ms\tremaining: 127ms\n",
      "34:\tlearn: 468.5190357\ttotal: 277ms\tremaining: 119ms\n",
      "35:\tlearn: 467.6529053\ttotal: 285ms\tremaining: 111ms\n",
      "36:\tlearn: 466.6707679\ttotal: 293ms\tremaining: 103ms\n",
      "37:\tlearn: 464.4497995\ttotal: 301ms\tremaining: 94.9ms\n",
      "38:\tlearn: 464.2817196\ttotal: 308ms\tremaining: 86.8ms\n",
      "39:\tlearn: 461.4959126\ttotal: 316ms\tremaining: 78.9ms\n",
      "40:\tlearn: 460.7297763\ttotal: 323ms\tremaining: 71ms\n",
      "41:\tlearn: 459.5383914\ttotal: 331ms\tremaining: 63.1ms\n",
      "42:\tlearn: 458.6759233\ttotal: 339ms\tremaining: 55.2ms\n",
      "43:\tlearn: 457.6303892\ttotal: 346ms\tremaining: 47.2ms\n",
      "44:\tlearn: 457.0347530\ttotal: 355ms\tremaining: 39.5ms\n",
      "45:\tlearn: 456.3217696\ttotal: 366ms\tremaining: 31.8ms\n",
      "46:\tlearn: 455.3149632\ttotal: 375ms\tremaining: 23.9ms\n",
      "47:\tlearn: 454.6661109\ttotal: 383ms\tremaining: 15.9ms\n",
      "48:\tlearn: 453.8047948\ttotal: 391ms\tremaining: 7.97ms\n",
      "49:\tlearn: 453.2200246\ttotal: 398ms\tremaining: 0us\n"
     ]
    }
   ],
   "source": [
    "# Load models list\n",
    "models=[LinearRegression(),DecisionTreeRegressor(max_depth=3), GradientBoostingRegressor(), \n",
    "        RandomForestRegressor(n_estimators=100, max_depth=3),AdaBoostRegressor(n_estimators=50), \n",
    "        CatBoostRegressor(n_estimators=50)]\n",
    "\n",
    "XKB_train, XKB_test, yKB_train, yKB_test = train_test_split(df_selKBest, target, test_size=0.25)\n",
    "runPipeline(models, df_selKBest, XKB_train, XKB_test, yKB_train, yKB_test, \"KBest\")"
   ]
  },
  {
   "cell_type": "markdown",
   "id": "e4c69599",
   "metadata": {},
   "source": [
    "## Create Pipeline with Variance Treshold estimator"
   ]
  },
  {
   "cell_type": "code",
   "execution_count": 68,
   "id": "0bc61a88",
   "metadata": {},
   "outputs": [
    {
     "name": "stdout",
     "output_type": "stream",
     "text": [
      "Learning rate set to 0.5\n",
      "0:\tlearn: 1181.2631574\ttotal: 10.1ms\tremaining: 494ms\n",
      "1:\tlearn: 835.5473646\ttotal: 18.7ms\tremaining: 449ms\n",
      "2:\tlearn: 676.9537833\ttotal: 27.4ms\tremaining: 429ms\n",
      "3:\tlearn: 609.3097054\ttotal: 36.2ms\tremaining: 416ms\n",
      "4:\tlearn: 567.3936122\ttotal: 44.8ms\tremaining: 403ms\n",
      "5:\tlearn: 550.7180206\ttotal: 53ms\tremaining: 389ms\n",
      "6:\tlearn: 536.2515611\ttotal: 61.3ms\tremaining: 376ms\n",
      "7:\tlearn: 526.9676699\ttotal: 69.8ms\tremaining: 367ms\n",
      "8:\tlearn: 518.1819222\ttotal: 78.1ms\tremaining: 356ms\n",
      "9:\tlearn: 512.9911130\ttotal: 86.6ms\tremaining: 346ms\n",
      "10:\tlearn: 507.3502159\ttotal: 94.7ms\tremaining: 336ms\n",
      "11:\tlearn: 501.6017369\ttotal: 104ms\tremaining: 328ms\n",
      "12:\tlearn: 498.4233038\ttotal: 111ms\tremaining: 317ms\n",
      "13:\tlearn: 495.8951735\ttotal: 120ms\tremaining: 307ms\n",
      "14:\tlearn: 492.9510094\ttotal: 127ms\tremaining: 297ms\n",
      "15:\tlearn: 488.9055073\ttotal: 137ms\tremaining: 290ms\n",
      "16:\tlearn: 484.1947710\ttotal: 145ms\tremaining: 282ms\n",
      "17:\tlearn: 480.9880407\ttotal: 154ms\tremaining: 273ms\n",
      "18:\tlearn: 479.1915359\ttotal: 162ms\tremaining: 264ms\n",
      "19:\tlearn: 474.8103569\ttotal: 170ms\tremaining: 256ms\n",
      "20:\tlearn: 473.3846204\ttotal: 179ms\tremaining: 247ms\n",
      "21:\tlearn: 472.6963798\ttotal: 187ms\tremaining: 238ms\n",
      "22:\tlearn: 470.4181041\ttotal: 197ms\tremaining: 231ms\n",
      "23:\tlearn: 468.7999642\ttotal: 205ms\tremaining: 223ms\n",
      "24:\tlearn: 465.1499668\ttotal: 214ms\tremaining: 214ms\n",
      "25:\tlearn: 463.7428838\ttotal: 224ms\tremaining: 206ms\n",
      "26:\tlearn: 462.3111974\ttotal: 236ms\tremaining: 201ms\n",
      "27:\tlearn: 460.6340525\ttotal: 245ms\tremaining: 192ms\n",
      "28:\tlearn: 459.4307358\ttotal: 256ms\tremaining: 185ms\n",
      "29:\tlearn: 458.4389151\ttotal: 266ms\tremaining: 177ms\n",
      "30:\tlearn: 456.8542747\ttotal: 276ms\tremaining: 169ms\n",
      "31:\tlearn: 455.6358246\ttotal: 286ms\tremaining: 161ms\n",
      "32:\tlearn: 454.5789063\ttotal: 295ms\tremaining: 152ms\n",
      "33:\tlearn: 452.9976593\ttotal: 304ms\tremaining: 143ms\n",
      "34:\tlearn: 451.9253290\ttotal: 313ms\tremaining: 134ms\n",
      "35:\tlearn: 450.3173455\ttotal: 322ms\tremaining: 125ms\n",
      "36:\tlearn: 448.9044010\ttotal: 331ms\tremaining: 116ms\n",
      "37:\tlearn: 446.6916647\ttotal: 340ms\tremaining: 107ms\n",
      "38:\tlearn: 445.6214441\ttotal: 349ms\tremaining: 98.5ms\n",
      "39:\tlearn: 444.4463103\ttotal: 359ms\tremaining: 89.8ms\n",
      "40:\tlearn: 442.7653391\ttotal: 369ms\tremaining: 81ms\n",
      "41:\tlearn: 441.7121421\ttotal: 378ms\tremaining: 72ms\n",
      "42:\tlearn: 439.9613283\ttotal: 387ms\tremaining: 63ms\n",
      "43:\tlearn: 439.6060850\ttotal: 395ms\tremaining: 53.9ms\n",
      "44:\tlearn: 438.5304283\ttotal: 404ms\tremaining: 44.9ms\n",
      "45:\tlearn: 437.5771678\ttotal: 413ms\tremaining: 35.9ms\n",
      "46:\tlearn: 436.4996312\ttotal: 420ms\tremaining: 26.8ms\n",
      "47:\tlearn: 436.1082288\ttotal: 428ms\tremaining: 17.8ms\n",
      "48:\tlearn: 435.3532047\ttotal: 435ms\tremaining: 8.89ms\n",
      "49:\tlearn: 434.6105440\ttotal: 443ms\tremaining: 0us\n"
     ]
    }
   ],
   "source": [
    "# Load models list\n",
    "models=[LinearRegression(),DecisionTreeRegressor(max_depth=3), GradientBoostingRegressor(), \n",
    "        RandomForestRegressor(n_estimators=100, max_depth=3),AdaBoostRegressor(n_estimators=50), \n",
    "        CatBoostRegressor(n_estimators=50)]\n",
    "\n",
    "XVT_train, XVT_test, yVT_train, yVT_test = train_test_split(df_vt, target, test_size=0.25)\n",
    "runPipeline(models, df_vt, XVT_train, XVT_test, yVT_train, yVT_test, \"Variance Treshold\")"
   ]
  },
  {
   "cell_type": "code",
   "execution_count": 69,
   "id": "b3e998f6",
   "metadata": {},
   "outputs": [
    {
     "data": {
      "text/html": [
       "<div>\n",
       "<style scoped>\n",
       "    .dataframe tbody tr th:only-of-type {\n",
       "        vertical-align: middle;\n",
       "    }\n",
       "\n",
       "    .dataframe tbody tr th {\n",
       "        vertical-align: top;\n",
       "    }\n",
       "\n",
       "    .dataframe thead th {\n",
       "        text-align: right;\n",
       "    }\n",
       "</style>\n",
       "<table border=\"1\" class=\"dataframe\">\n",
       "  <thead>\n",
       "    <tr style=\"text-align: right;\">\n",
       "      <th></th>\n",
       "      <th>Model</th>\n",
       "      <th>Estimator</th>\n",
       "      <th>R2 Score</th>\n",
       "      <th>RMSE</th>\n",
       "    </tr>\n",
       "  </thead>\n",
       "  <tbody>\n",
       "    <tr>\n",
       "      <th>0</th>\n",
       "      <td>LinearRegression</td>\n",
       "      <td>Random Forest</td>\n",
       "      <td>0.702484</td>\n",
       "      <td>1087.181496</td>\n",
       "    </tr>\n",
       "    <tr>\n",
       "      <th>1</th>\n",
       "      <td>DecisionTreeRegressor</td>\n",
       "      <td>Random Forest</td>\n",
       "      <td>0.837033</td>\n",
       "      <td>804.631940</td>\n",
       "    </tr>\n",
       "    <tr>\n",
       "      <th>2</th>\n",
       "      <td>GradientBoostingRegressor</td>\n",
       "      <td>Random Forest</td>\n",
       "      <td>0.932539</td>\n",
       "      <td>517.694259</td>\n",
       "    </tr>\n",
       "    <tr>\n",
       "      <th>3</th>\n",
       "      <td>RandomForestRegressor</td>\n",
       "      <td>Random Forest</td>\n",
       "      <td>0.837029</td>\n",
       "      <td>804.640680</td>\n",
       "    </tr>\n",
       "    <tr>\n",
       "      <th>4</th>\n",
       "      <td>AdaBoostRegressor</td>\n",
       "      <td>Random Forest</td>\n",
       "      <td>0.816545</td>\n",
       "      <td>853.712794</td>\n",
       "    </tr>\n",
       "    <tr>\n",
       "      <th>5</th>\n",
       "      <td>CatBoostRegressor</td>\n",
       "      <td>Random Forest</td>\n",
       "      <td>0.944344</td>\n",
       "      <td>470.222786</td>\n",
       "    </tr>\n",
       "    <tr>\n",
       "      <th>6</th>\n",
       "      <td>LinearRegression</td>\n",
       "      <td>KBest</td>\n",
       "      <td>0.701406</td>\n",
       "      <td>1086.771352</td>\n",
       "    </tr>\n",
       "    <tr>\n",
       "      <th>7</th>\n",
       "      <td>DecisionTreeRegressor</td>\n",
       "      <td>KBest</td>\n",
       "      <td>0.832340</td>\n",
       "      <td>814.352701</td>\n",
       "    </tr>\n",
       "    <tr>\n",
       "      <th>8</th>\n",
       "      <td>GradientBoostingRegressor</td>\n",
       "      <td>KBest</td>\n",
       "      <td>0.930227</td>\n",
       "      <td>525.341233</td>\n",
       "    </tr>\n",
       "    <tr>\n",
       "      <th>9</th>\n",
       "      <td>RandomForestRegressor</td>\n",
       "      <td>KBest</td>\n",
       "      <td>0.832340</td>\n",
       "      <td>814.353919</td>\n",
       "    </tr>\n",
       "    <tr>\n",
       "      <th>10</th>\n",
       "      <td>AdaBoostRegressor</td>\n",
       "      <td>KBest</td>\n",
       "      <td>0.825847</td>\n",
       "      <td>829.971316</td>\n",
       "    </tr>\n",
       "    <tr>\n",
       "      <th>11</th>\n",
       "      <td>CatBoostRegressor</td>\n",
       "      <td>KBest</td>\n",
       "      <td>0.940941</td>\n",
       "      <td>483.327833</td>\n",
       "    </tr>\n",
       "    <tr>\n",
       "      <th>12</th>\n",
       "      <td>LinearRegression</td>\n",
       "      <td>Variance Treshold</td>\n",
       "      <td>0.709606</td>\n",
       "      <td>1066.478863</td>\n",
       "    </tr>\n",
       "    <tr>\n",
       "      <th>13</th>\n",
       "      <td>DecisionTreeRegressor</td>\n",
       "      <td>Variance Treshold</td>\n",
       "      <td>0.840248</td>\n",
       "      <td>791.010965</td>\n",
       "    </tr>\n",
       "    <tr>\n",
       "      <th>14</th>\n",
       "      <td>GradientBoostingRegressor</td>\n",
       "      <td>Variance Treshold</td>\n",
       "      <td>0.934109</td>\n",
       "      <td>508.008231</td>\n",
       "    </tr>\n",
       "    <tr>\n",
       "      <th>15</th>\n",
       "      <td>RandomForestRegressor</td>\n",
       "      <td>Variance Treshold</td>\n",
       "      <td>0.840248</td>\n",
       "      <td>791.008954</td>\n",
       "    </tr>\n",
       "    <tr>\n",
       "      <th>16</th>\n",
       "      <td>AdaBoostRegressor</td>\n",
       "      <td>Variance Treshold</td>\n",
       "      <td>0.820542</td>\n",
       "      <td>838.377772</td>\n",
       "    </tr>\n",
       "    <tr>\n",
       "      <th>17</th>\n",
       "      <td>CatBoostRegressor</td>\n",
       "      <td>Variance Treshold</td>\n",
       "      <td>0.948872</td>\n",
       "      <td>447.493434</td>\n",
       "    </tr>\n",
       "  </tbody>\n",
       "</table>\n",
       "</div>"
      ],
      "text/plain": [
       "                        Model          Estimator  R2 Score         RMSE\n",
       "0            LinearRegression      Random Forest  0.702484  1087.181496\n",
       "1       DecisionTreeRegressor      Random Forest  0.837033   804.631940\n",
       "2   GradientBoostingRegressor      Random Forest  0.932539   517.694259\n",
       "3       RandomForestRegressor      Random Forest  0.837029   804.640680\n",
       "4           AdaBoostRegressor      Random Forest  0.816545   853.712794\n",
       "5           CatBoostRegressor      Random Forest  0.944344   470.222786\n",
       "6            LinearRegression              KBest  0.701406  1086.771352\n",
       "7       DecisionTreeRegressor              KBest  0.832340   814.352701\n",
       "8   GradientBoostingRegressor              KBest  0.930227   525.341233\n",
       "9       RandomForestRegressor              KBest  0.832340   814.353919\n",
       "10          AdaBoostRegressor              KBest  0.825847   829.971316\n",
       "11          CatBoostRegressor              KBest  0.940941   483.327833\n",
       "12           LinearRegression  Variance Treshold  0.709606  1066.478863\n",
       "13      DecisionTreeRegressor  Variance Treshold  0.840248   791.010965\n",
       "14  GradientBoostingRegressor  Variance Treshold  0.934109   508.008231\n",
       "15      RandomForestRegressor  Variance Treshold  0.840248   791.008954\n",
       "16          AdaBoostRegressor  Variance Treshold  0.820542   838.377772\n",
       "17          CatBoostRegressor  Variance Treshold  0.948872   447.493434"
      ]
     },
     "execution_count": 69,
     "metadata": {},
     "output_type": "execute_result"
    }
   ],
   "source": [
    "res_df = pd.DataFrame(zip(name, estimator, r2, rmse), columns=['Model','Estimator','R2 Score','RMSE'])\n",
    "res_df"
   ]
  },
  {
   "cell_type": "code",
   "execution_count": 70,
   "id": "f95532cd",
   "metadata": {},
   "outputs": [
    {
     "name": "stdout",
     "output_type": "stream",
     "text": [
      "The best model is CatBoostRegressor using estimator Variance Treshold in position 17\n"
     ]
    }
   ],
   "source": [
    "# Find the better model with max R2 Score\n",
    "index_best = res_df.iloc[res_df['R2 Score'].idxmax()].name\n",
    "best_model = models_result[index_best]\n",
    "best_predict = y_preds[index_best]\n",
    "y_test_selected = y_test_plot[index_best]\n",
    "selected_dataframe = dataframes[index_best]\n",
    "\n",
    "print(\"The best model is %s using estimator %s in position %d\"% (name[index_best], estimator[index_best], index_best))"
   ]
  },
  {
   "cell_type": "markdown",
   "id": "f36ebb3e",
   "metadata": {},
   "source": [
    "## Plot the best model"
   ]
  },
  {
   "cell_type": "code",
   "execution_count": 71,
   "id": "c6ad5405",
   "metadata": {},
   "outputs": [
    {
     "data": {
      "text/plain": [
       "<matplotlib.collections.PathCollection at 0x1ddf4a4edc0>"
      ]
     },
     "execution_count": 71,
     "metadata": {},
     "output_type": "execute_result"
    },
    {
     "data": {
      "image/png": "[encoded data removed]",
      "text/plain": [
       "<Figure size 432x288 with 1 Axes>"
      ]
     },
     "metadata": {},
     "output_type": "display_data"
    }
   ],
   "source": [
    "plt.scatter(best_predict, y_test_selected, alpha=0.4, color='b')"
   ]
  },
  {
   "cell_type": "markdown",
   "id": "488dd0f0",
   "metadata": {},
   "source": [
    "* There are some outliers that is not predicted"
   ]
  },
  {
   "cell_type": "markdown",
   "id": "25c71f1e",
   "metadata": {},
   "source": [
    "## Out of sample Prediction"
   ]
  },
  {
   "cell_type": "code",
   "execution_count": 72,
   "id": "30798219",
   "metadata": {},
   "outputs": [
    {
     "data": {
      "text/plain": [
       "(44797, 9)"
      ]
     },
     "execution_count": 72,
     "metadata": {},
     "output_type": "execute_result"
    }
   ],
   "source": [
    "# Get dataset from best estimator\n",
    "selected_dataframe.shape"
   ]
  },
  {
   "cell_type": "code",
   "execution_count": 73,
   "id": "7c04224a",
   "metadata": {},
   "outputs": [
    {
     "data": {
      "text/html": [
       "<div>\n",
       "<style scoped>\n",
       "    .dataframe tbody tr th:only-of-type {\n",
       "        vertical-align: middle;\n",
       "    }\n",
       "\n",
       "    .dataframe tbody tr th {\n",
       "        vertical-align: top;\n",
       "    }\n",
       "\n",
       "    .dataframe thead th {\n",
       "        text-align: right;\n",
       "    }\n",
       "</style>\n",
       "<table border=\"1\" class=\"dataframe\">\n",
       "  <thead>\n",
       "    <tr style=\"text-align: right;\">\n",
       "      <th></th>\n",
       "      <th>hour</th>\n",
       "      <th>day_of_week</th>\n",
       "      <th>month</th>\n",
       "      <th>temp</th>\n",
       "      <th>rain_1h</th>\n",
       "      <th>clouds_all</th>\n",
       "      <th>weather_Clouds</th>\n",
       "      <th>weather_Mist</th>\n",
       "      <th>weather_Rain</th>\n",
       "    </tr>\n",
       "  </thead>\n",
       "  <tbody>\n",
       "    <tr>\n",
       "      <th>count</th>\n",
       "      <td>44797.000000</td>\n",
       "      <td>44797.000000</td>\n",
       "      <td>44797.000000</td>\n",
       "      <td>44797.000000</td>\n",
       "      <td>44797.000000</td>\n",
       "      <td>44797.000000</td>\n",
       "      <td>44797.000000</td>\n",
       "      <td>44797.000000</td>\n",
       "      <td>44797.000000</td>\n",
       "    </tr>\n",
       "    <tr>\n",
       "      <th>mean</th>\n",
       "      <td>11.375159</td>\n",
       "      <td>2.985870</td>\n",
       "      <td>6.618702</td>\n",
       "      <td>9.181106</td>\n",
       "      <td>0.109449</td>\n",
       "      <td>50.798156</td>\n",
       "      <td>0.310958</td>\n",
       "      <td>0.130522</td>\n",
       "      <td>0.125499</td>\n",
       "    </tr>\n",
       "    <tr>\n",
       "      <th>std</th>\n",
       "      <td>6.965494</td>\n",
       "      <td>2.003379</td>\n",
       "      <td>3.300168</td>\n",
       "      <td>11.014517</td>\n",
       "      <td>0.624463</td>\n",
       "      <td>38.978401</td>\n",
       "      <td>0.462891</td>\n",
       "      <td>0.336881</td>\n",
       "      <td>0.331288</td>\n",
       "    </tr>\n",
       "    <tr>\n",
       "      <th>min</th>\n",
       "      <td>0.000000</td>\n",
       "      <td>0.000000</td>\n",
       "      <td>1.000000</td>\n",
       "      <td>-14.000000</td>\n",
       "      <td>0.000000</td>\n",
       "      <td>0.000000</td>\n",
       "      <td>0.000000</td>\n",
       "      <td>0.000000</td>\n",
       "      <td>0.000000</td>\n",
       "    </tr>\n",
       "    <tr>\n",
       "      <th>25%</th>\n",
       "      <td>5.000000</td>\n",
       "      <td>1.000000</td>\n",
       "      <td>4.000000</td>\n",
       "      <td>0.000000</td>\n",
       "      <td>0.000000</td>\n",
       "      <td>1.000000</td>\n",
       "      <td>0.000000</td>\n",
       "      <td>0.000000</td>\n",
       "      <td>0.000000</td>\n",
       "    </tr>\n",
       "    <tr>\n",
       "      <th>50%</th>\n",
       "      <td>11.000000</td>\n",
       "      <td>3.000000</td>\n",
       "      <td>7.000000</td>\n",
       "      <td>10.000000</td>\n",
       "      <td>0.000000</td>\n",
       "      <td>68.000000</td>\n",
       "      <td>0.000000</td>\n",
       "      <td>0.000000</td>\n",
       "      <td>0.000000</td>\n",
       "    </tr>\n",
       "    <tr>\n",
       "      <th>75%</th>\n",
       "      <td>17.000000</td>\n",
       "      <td>5.000000</td>\n",
       "      <td>9.000000</td>\n",
       "      <td>19.000000</td>\n",
       "      <td>0.000000</td>\n",
       "      <td>90.000000</td>\n",
       "      <td>1.000000</td>\n",
       "      <td>0.000000</td>\n",
       "      <td>0.000000</td>\n",
       "    </tr>\n",
       "    <tr>\n",
       "      <th>max</th>\n",
       "      <td>23.000000</td>\n",
       "      <td>6.000000</td>\n",
       "      <td>12.000000</td>\n",
       "      <td>28.000000</td>\n",
       "      <td>6.000000</td>\n",
       "      <td>100.000000</td>\n",
       "      <td>1.000000</td>\n",
       "      <td>1.000000</td>\n",
       "      <td>1.000000</td>\n",
       "    </tr>\n",
       "  </tbody>\n",
       "</table>\n",
       "</div>"
      ],
      "text/plain": [
       "               hour   day_of_week         month          temp       rain_1h  \\\n",
       "count  44797.000000  44797.000000  44797.000000  44797.000000  44797.000000   \n",
       "mean      11.375159      2.985870      6.618702      9.181106      0.109449   \n",
       "std        6.965494      2.003379      3.300168     11.014517      0.624463   \n",
       "min        0.000000      0.000000      1.000000    -14.000000      0.000000   \n",
       "25%        5.000000      1.000000      4.000000      0.000000      0.000000   \n",
       "50%       11.000000      3.000000      7.000000     10.000000      0.000000   \n",
       "75%       17.000000      5.000000      9.000000     19.000000      0.000000   \n",
       "max       23.000000      6.000000     12.000000     28.000000      6.000000   \n",
       "\n",
       "         clouds_all  weather_Clouds  weather_Mist  weather_Rain  \n",
       "count  44797.000000    44797.000000  44797.000000  44797.000000  \n",
       "mean      50.798156        0.310958      0.130522      0.125499  \n",
       "std       38.978401        0.462891      0.336881      0.331288  \n",
       "min        0.000000        0.000000      0.000000      0.000000  \n",
       "25%        1.000000        0.000000      0.000000      0.000000  \n",
       "50%       68.000000        0.000000      0.000000      0.000000  \n",
       "75%       90.000000        1.000000      0.000000      0.000000  \n",
       "max      100.000000        1.000000      1.000000      1.000000  "
      ]
     },
     "execution_count": 73,
     "metadata": {},
     "output_type": "execute_result"
    }
   ],
   "source": [
    "selected_dataframe.describe()"
   ]
  },
  {
   "cell_type": "code",
   "execution_count": 74,
   "id": "46a805cf",
   "metadata": {},
   "outputs": [],
   "source": [
    "# Create sinthetic dataFrame from 75%\n",
    "df_synthetic = pd.DataFrame([selected_dataframe.describe().loc['75%',:].values], columns=selected_dataframe.columns)"
   ]
  },
  {
   "cell_type": "code",
   "execution_count": 75,
   "id": "ee282fb5",
   "metadata": {},
   "outputs": [
    {
     "name": "stdout",
     "output_type": "stream",
     "text": [
      "The traffic volume prediction is 4364\n"
     ]
    }
   ],
   "source": [
    "#predict using best model\n",
    "print(\"The traffic volume prediction is %d\" %(best_model.predict(df_synthetic)))"
   ]
  },
  {
   "cell_type": "markdown",
   "id": "456acdab",
   "metadata": {},
   "source": [
    "## Using classification"
   ]
  },
  {
   "cell_type": "markdown",
   "id": "0b137afa",
   "metadata": {},
   "source": [
    "* Classification will be used to validate if it is ok to use the road, or if is better to go to other route\n",
    "* A new column will be added to dataframe to indicate if the route should be used or avoided."
   ]
  },
  {
   "cell_type": "code",
   "execution_count": 76,
   "id": "becb10df",
   "metadata": {},
   "outputs": [
    {
     "data": {
      "text/html": [
       "<div>\n",
       "<style scoped>\n",
       "    .dataframe tbody tr th:only-of-type {\n",
       "        vertical-align: middle;\n",
       "    }\n",
       "\n",
       "    .dataframe tbody tr th {\n",
       "        vertical-align: top;\n",
       "    }\n",
       "\n",
       "    .dataframe thead th {\n",
       "        text-align: right;\n",
       "    }\n",
       "</style>\n",
       "<table border=\"1\" class=\"dataframe\">\n",
       "  <thead>\n",
       "    <tr style=\"text-align: right;\">\n",
       "      <th></th>\n",
       "      <th>traffic_volume</th>\n",
       "      <th>hour</th>\n",
       "      <th>day_of_week</th>\n",
       "      <th>month</th>\n",
       "      <th>temp</th>\n",
       "      <th>holiday</th>\n",
       "      <th>rain_1h</th>\n",
       "      <th>clouds_all</th>\n",
       "      <th>weather_Clouds</th>\n",
       "      <th>weather_Mist</th>\n",
       "      <th>weather_Rain</th>\n",
       "      <th>weather_Snow</th>\n",
       "      <th>weather_other</th>\n",
       "      <th>use_route</th>\n",
       "    </tr>\n",
       "  </thead>\n",
       "  <tbody>\n",
       "    <tr>\n",
       "      <th>0</th>\n",
       "      <td>5545</td>\n",
       "      <td>9</td>\n",
       "      <td>1</td>\n",
       "      <td>10</td>\n",
       "      <td>15.0</td>\n",
       "      <td>0</td>\n",
       "      <td>0.0</td>\n",
       "      <td>40</td>\n",
       "      <td>1</td>\n",
       "      <td>0</td>\n",
       "      <td>0</td>\n",
       "      <td>0</td>\n",
       "      <td>0</td>\n",
       "      <td>1</td>\n",
       "    </tr>\n",
       "    <tr>\n",
       "      <th>1</th>\n",
       "      <td>4516</td>\n",
       "      <td>10</td>\n",
       "      <td>1</td>\n",
       "      <td>10</td>\n",
       "      <td>16.0</td>\n",
       "      <td>0</td>\n",
       "      <td>0.0</td>\n",
       "      <td>75</td>\n",
       "      <td>1</td>\n",
       "      <td>0</td>\n",
       "      <td>0</td>\n",
       "      <td>0</td>\n",
       "      <td>0</td>\n",
       "      <td>1</td>\n",
       "    </tr>\n",
       "    <tr>\n",
       "      <th>2</th>\n",
       "      <td>4767</td>\n",
       "      <td>11</td>\n",
       "      <td>1</td>\n",
       "      <td>10</td>\n",
       "      <td>16.0</td>\n",
       "      <td>0</td>\n",
       "      <td>0.0</td>\n",
       "      <td>90</td>\n",
       "      <td>1</td>\n",
       "      <td>0</td>\n",
       "      <td>0</td>\n",
       "      <td>0</td>\n",
       "      <td>0</td>\n",
       "      <td>1</td>\n",
       "    </tr>\n",
       "    <tr>\n",
       "      <th>3</th>\n",
       "      <td>5026</td>\n",
       "      <td>12</td>\n",
       "      <td>1</td>\n",
       "      <td>10</td>\n",
       "      <td>17.0</td>\n",
       "      <td>0</td>\n",
       "      <td>0.0</td>\n",
       "      <td>90</td>\n",
       "      <td>1</td>\n",
       "      <td>0</td>\n",
       "      <td>0</td>\n",
       "      <td>0</td>\n",
       "      <td>0</td>\n",
       "      <td>1</td>\n",
       "    </tr>\n",
       "    <tr>\n",
       "      <th>4</th>\n",
       "      <td>4918</td>\n",
       "      <td>13</td>\n",
       "      <td>1</td>\n",
       "      <td>10</td>\n",
       "      <td>18.0</td>\n",
       "      <td>0</td>\n",
       "      <td>0.0</td>\n",
       "      <td>75</td>\n",
       "      <td>1</td>\n",
       "      <td>0</td>\n",
       "      <td>0</td>\n",
       "      <td>0</td>\n",
       "      <td>0</td>\n",
       "      <td>1</td>\n",
       "    </tr>\n",
       "  </tbody>\n",
       "</table>\n",
       "</div>"
      ],
      "text/plain": [
       "   traffic_volume  hour  day_of_week  month  temp  holiday  rain_1h  \\\n",
       "0            5545     9            1     10  15.0        0      0.0   \n",
       "1            4516    10            1     10  16.0        0      0.0   \n",
       "2            4767    11            1     10  16.0        0      0.0   \n",
       "3            5026    12            1     10  17.0        0      0.0   \n",
       "4            4918    13            1     10  18.0        0      0.0   \n",
       "\n",
       "   clouds_all  weather_Clouds  weather_Mist  weather_Rain  weather_Snow  \\\n",
       "0          40               1             0             0             0   \n",
       "1          75               1             0             0             0   \n",
       "2          90               1             0             0             0   \n",
       "3          90               1             0             0             0   \n",
       "4          75               1             0             0             0   \n",
       "\n",
       "   weather_other  use_route  \n",
       "0              0          1  \n",
       "1              0          1  \n",
       "2              0          1  \n",
       "3              0          1  \n",
       "4              0          1  "
      ]
     },
     "execution_count": 76,
     "metadata": {},
     "output_type": "execute_result"
    }
   ],
   "source": [
    "# Add new column called use_route with defaul value = 1\n",
    "df['use_route'] = 1\n",
    "df.head()"
   ]
  },
  {
   "cell_type": "code",
   "execution_count": 77,
   "id": "e794b316",
   "metadata": {},
   "outputs": [
    {
     "data": {
      "text/html": [
       "<div>\n",
       "<style scoped>\n",
       "    .dataframe tbody tr th:only-of-type {\n",
       "        vertical-align: middle;\n",
       "    }\n",
       "\n",
       "    .dataframe tbody tr th {\n",
       "        vertical-align: top;\n",
       "    }\n",
       "\n",
       "    .dataframe thead th {\n",
       "        text-align: right;\n",
       "    }\n",
       "</style>\n",
       "<table border=\"1\" class=\"dataframe\">\n",
       "  <thead>\n",
       "    <tr style=\"text-align: right;\">\n",
       "      <th></th>\n",
       "      <th>traffic_volume</th>\n",
       "      <th>hour</th>\n",
       "      <th>day_of_week</th>\n",
       "      <th>month</th>\n",
       "      <th>temp</th>\n",
       "      <th>holiday</th>\n",
       "      <th>rain_1h</th>\n",
       "      <th>clouds_all</th>\n",
       "      <th>weather_Clouds</th>\n",
       "      <th>weather_Mist</th>\n",
       "      <th>weather_Rain</th>\n",
       "      <th>weather_Snow</th>\n",
       "      <th>weather_other</th>\n",
       "      <th>use_route</th>\n",
       "    </tr>\n",
       "  </thead>\n",
       "  <tbody>\n",
       "    <tr>\n",
       "      <th>count</th>\n",
       "      <td>44797.000000</td>\n",
       "      <td>44797.000000</td>\n",
       "      <td>44797.000000</td>\n",
       "      <td>44797.000000</td>\n",
       "      <td>44797.000000</td>\n",
       "      <td>44797.000000</td>\n",
       "      <td>44797.000000</td>\n",
       "      <td>44797.000000</td>\n",
       "      <td>44797.000000</td>\n",
       "      <td>44797.000000</td>\n",
       "      <td>44797.000000</td>\n",
       "      <td>44797.000000</td>\n",
       "      <td>44797.000000</td>\n",
       "      <td>44797.0</td>\n",
       "    </tr>\n",
       "    <tr>\n",
       "      <th>mean</th>\n",
       "      <td>3255.856196</td>\n",
       "      <td>11.375159</td>\n",
       "      <td>2.985870</td>\n",
       "      <td>6.618702</td>\n",
       "      <td>9.181106</td>\n",
       "      <td>0.001295</td>\n",
       "      <td>0.109449</td>\n",
       "      <td>50.798156</td>\n",
       "      <td>0.310958</td>\n",
       "      <td>0.130522</td>\n",
       "      <td>0.125499</td>\n",
       "      <td>0.058866</td>\n",
       "      <td>0.110677</td>\n",
       "      <td>1.0</td>\n",
       "    </tr>\n",
       "    <tr>\n",
       "      <th>std</th>\n",
       "      <td>1992.446833</td>\n",
       "      <td>6.965494</td>\n",
       "      <td>2.003379</td>\n",
       "      <td>3.300168</td>\n",
       "      <td>11.014517</td>\n",
       "      <td>0.035959</td>\n",
       "      <td>0.624463</td>\n",
       "      <td>38.978401</td>\n",
       "      <td>0.462891</td>\n",
       "      <td>0.336881</td>\n",
       "      <td>0.331288</td>\n",
       "      <td>0.235376</td>\n",
       "      <td>0.313735</td>\n",
       "      <td>0.0</td>\n",
       "    </tr>\n",
       "    <tr>\n",
       "      <th>min</th>\n",
       "      <td>0.000000</td>\n",
       "      <td>0.000000</td>\n",
       "      <td>0.000000</td>\n",
       "      <td>1.000000</td>\n",
       "      <td>-14.000000</td>\n",
       "      <td>0.000000</td>\n",
       "      <td>0.000000</td>\n",
       "      <td>0.000000</td>\n",
       "      <td>0.000000</td>\n",
       "      <td>0.000000</td>\n",
       "      <td>0.000000</td>\n",
       "      <td>0.000000</td>\n",
       "      <td>0.000000</td>\n",
       "      <td>1.0</td>\n",
       "    </tr>\n",
       "    <tr>\n",
       "      <th>20%</th>\n",
       "      <td>856.000000</td>\n",
       "      <td>4.000000</td>\n",
       "      <td>1.000000</td>\n",
       "      <td>3.000000</td>\n",
       "      <td>-1.000000</td>\n",
       "      <td>0.000000</td>\n",
       "      <td>0.000000</td>\n",
       "      <td>1.000000</td>\n",
       "      <td>0.000000</td>\n",
       "      <td>0.000000</td>\n",
       "      <td>0.000000</td>\n",
       "      <td>0.000000</td>\n",
       "      <td>0.000000</td>\n",
       "      <td>1.0</td>\n",
       "    </tr>\n",
       "    <tr>\n",
       "      <th>40%</th>\n",
       "      <td>2732.000000</td>\n",
       "      <td>9.000000</td>\n",
       "      <td>2.000000</td>\n",
       "      <td>5.000000</td>\n",
       "      <td>5.000000</td>\n",
       "      <td>0.000000</td>\n",
       "      <td>0.000000</td>\n",
       "      <td>40.000000</td>\n",
       "      <td>0.000000</td>\n",
       "      <td>0.000000</td>\n",
       "      <td>0.000000</td>\n",
       "      <td>0.000000</td>\n",
       "      <td>0.000000</td>\n",
       "      <td>1.0</td>\n",
       "    </tr>\n",
       "    <tr>\n",
       "      <th>50%</th>\n",
       "      <td>3355.000000</td>\n",
       "      <td>11.000000</td>\n",
       "      <td>3.000000</td>\n",
       "      <td>7.000000</td>\n",
       "      <td>10.000000</td>\n",
       "      <td>0.000000</td>\n",
       "      <td>0.000000</td>\n",
       "      <td>68.000000</td>\n",
       "      <td>0.000000</td>\n",
       "      <td>0.000000</td>\n",
       "      <td>0.000000</td>\n",
       "      <td>0.000000</td>\n",
       "      <td>0.000000</td>\n",
       "      <td>1.0</td>\n",
       "    </tr>\n",
       "    <tr>\n",
       "      <th>60%</th>\n",
       "      <td>4263.000000</td>\n",
       "      <td>14.000000</td>\n",
       "      <td>4.000000</td>\n",
       "      <td>8.000000</td>\n",
       "      <td>14.000000</td>\n",
       "      <td>0.000000</td>\n",
       "      <td>0.000000</td>\n",
       "      <td>75.000000</td>\n",
       "      <td>0.000000</td>\n",
       "      <td>0.000000</td>\n",
       "      <td>0.000000</td>\n",
       "      <td>0.000000</td>\n",
       "      <td>0.000000</td>\n",
       "      <td>1.0</td>\n",
       "    </tr>\n",
       "    <tr>\n",
       "      <th>80%</th>\n",
       "      <td>5185.000000</td>\n",
       "      <td>19.000000</td>\n",
       "      <td>5.000000</td>\n",
       "      <td>10.000000</td>\n",
       "      <td>20.000000</td>\n",
       "      <td>0.000000</td>\n",
       "      <td>0.000000</td>\n",
       "      <td>90.000000</td>\n",
       "      <td>1.000000</td>\n",
       "      <td>0.000000</td>\n",
       "      <td>0.000000</td>\n",
       "      <td>0.000000</td>\n",
       "      <td>0.000000</td>\n",
       "      <td>1.0</td>\n",
       "    </tr>\n",
       "    <tr>\n",
       "      <th>90%</th>\n",
       "      <td>5824.000000</td>\n",
       "      <td>21.000000</td>\n",
       "      <td>6.000000</td>\n",
       "      <td>11.000000</td>\n",
       "      <td>23.000000</td>\n",
       "      <td>0.000000</td>\n",
       "      <td>0.000000</td>\n",
       "      <td>90.000000</td>\n",
       "      <td>1.000000</td>\n",
       "      <td>1.000000</td>\n",
       "      <td>1.000000</td>\n",
       "      <td>0.000000</td>\n",
       "      <td>1.000000</td>\n",
       "      <td>1.0</td>\n",
       "    </tr>\n",
       "    <tr>\n",
       "      <th>max</th>\n",
       "      <td>7280.000000</td>\n",
       "      <td>23.000000</td>\n",
       "      <td>6.000000</td>\n",
       "      <td>12.000000</td>\n",
       "      <td>28.000000</td>\n",
       "      <td>1.000000</td>\n",
       "      <td>6.000000</td>\n",
       "      <td>100.000000</td>\n",
       "      <td>1.000000</td>\n",
       "      <td>1.000000</td>\n",
       "      <td>1.000000</td>\n",
       "      <td>1.000000</td>\n",
       "      <td>1.000000</td>\n",
       "      <td>1.0</td>\n",
       "    </tr>\n",
       "  </tbody>\n",
       "</table>\n",
       "</div>"
      ],
      "text/plain": [
       "       traffic_volume          hour   day_of_week         month          temp  \\\n",
       "count    44797.000000  44797.000000  44797.000000  44797.000000  44797.000000   \n",
       "mean      3255.856196     11.375159      2.985870      6.618702      9.181106   \n",
       "std       1992.446833      6.965494      2.003379      3.300168     11.014517   \n",
       "min          0.000000      0.000000      0.000000      1.000000    -14.000000   \n",
       "20%        856.000000      4.000000      1.000000      3.000000     -1.000000   \n",
       "40%       2732.000000      9.000000      2.000000      5.000000      5.000000   \n",
       "50%       3355.000000     11.000000      3.000000      7.000000     10.000000   \n",
       "60%       4263.000000     14.000000      4.000000      8.000000     14.000000   \n",
       "80%       5185.000000     19.000000      5.000000     10.000000     20.000000   \n",
       "90%       5824.000000     21.000000      6.000000     11.000000     23.000000   \n",
       "max       7280.000000     23.000000      6.000000     12.000000     28.000000   \n",
       "\n",
       "            holiday       rain_1h    clouds_all  weather_Clouds  weather_Mist  \\\n",
       "count  44797.000000  44797.000000  44797.000000    44797.000000  44797.000000   \n",
       "mean       0.001295      0.109449     50.798156        0.310958      0.130522   \n",
       "std        0.035959      0.624463     38.978401        0.462891      0.336881   \n",
       "min        0.000000      0.000000      0.000000        0.000000      0.000000   \n",
       "20%        0.000000      0.000000      1.000000        0.000000      0.000000   \n",
       "40%        0.000000      0.000000     40.000000        0.000000      0.000000   \n",
       "50%        0.000000      0.000000     68.000000        0.000000      0.000000   \n",
       "60%        0.000000      0.000000     75.000000        0.000000      0.000000   \n",
       "80%        0.000000      0.000000     90.000000        1.000000      0.000000   \n",
       "90%        0.000000      0.000000     90.000000        1.000000      1.000000   \n",
       "max        1.000000      6.000000    100.000000        1.000000      1.000000   \n",
       "\n",
       "       weather_Rain  weather_Snow  weather_other  use_route  \n",
       "count  44797.000000  44797.000000   44797.000000    44797.0  \n",
       "mean       0.125499      0.058866       0.110677        1.0  \n",
       "std        0.331288      0.235376       0.313735        0.0  \n",
       "min        0.000000      0.000000       0.000000        1.0  \n",
       "20%        0.000000      0.000000       0.000000        1.0  \n",
       "40%        0.000000      0.000000       0.000000        1.0  \n",
       "50%        0.000000      0.000000       0.000000        1.0  \n",
       "60%        0.000000      0.000000       0.000000        1.0  \n",
       "80%        0.000000      0.000000       0.000000        1.0  \n",
       "90%        1.000000      0.000000       1.000000        1.0  \n",
       "max        1.000000      1.000000       1.000000        1.0  "
      ]
     },
     "execution_count": 77,
     "metadata": {},
     "output_type": "execute_result"
    }
   ],
   "source": [
    "df.describe(percentiles=[0.20, 0.40, 0.60, 0.80, 0.90])"
   ]
  },
  {
   "cell_type": "markdown",
   "id": "a9d0d69f",
   "metadata": {},
   "source": [
    "* 80% of traffic volume (5185) will be used as point of decision to use or not this route. Values under and equal 80% will be considered good to use the route with value 1. Values over 80% will be indicated to avoid the route with value 0."
   ]
  },
  {
   "cell_type": "code",
   "execution_count": 78,
   "id": "8dceccfd",
   "metadata": {},
   "outputs": [
    {
     "data": {
      "text/plain": [
       "1    35848\n",
       "0     8949\n",
       "Name: use_route, dtype: int64"
      ]
     },
     "execution_count": 78,
     "metadata": {},
     "output_type": "execute_result"
    }
   ],
   "source": [
    "def checkUseRouteValue(traffic):\n",
    "    if(traffic<=5185):\n",
    "        return 1\n",
    "    else:\n",
    "        return 0\n",
    "\n",
    "df.use_route = df.traffic_volume.apply(checkUseRouteValue)\n",
    "df.use_route.value_counts()"
   ]
  },
  {
   "cell_type": "code",
   "execution_count": 79,
   "id": "0b3abea9",
   "metadata": {},
   "outputs": [
    {
     "data": {
      "text/plain": [
       "(44797, 13)"
      ]
     },
     "execution_count": 79,
     "metadata": {},
     "output_type": "execute_result"
    }
   ],
   "source": [
    "# Split features and target\n",
    "target_clf=df['use_route']\n",
    "features_clf=df.drop(['use_route'], axis=1)\n",
    "features_clf.shape"
   ]
  },
  {
   "cell_type": "markdown",
   "id": "bc89cec3",
   "metadata": {},
   "source": [
    "# Grid Search with cross validation"
   ]
  },
  {
   "cell_type": "code",
   "execution_count": 80,
   "id": "49975db6",
   "metadata": {},
   "outputs": [
    {
     "name": "stdout",
     "output_type": "stream",
     "text": [
      "Best parameters: {'C': 1, 'degree': 4, 'gamma': 1, 'kernel': 'poly'}\n",
      "Best model score: 0.9999702380952382\n"
     ]
    }
   ],
   "source": [
    "X_train, X_test, y_train, y_test = train_test_split(features_clf, target_clf, test_size=0.25)\n",
    "\n",
    "grid_parameters = {'kernel': ['linear', 'poly'],'gamma': [1, 0.1, 0.01, 0.001],\n",
    "                   'C': [1, 10, 50],'degree':[3,4]}\n",
    "\n",
    "clf = GridSearchCV(SVC(random_state=42),grid_parameters, cv=5, scoring='accuracy')\n",
    "clf.fit(X_train, y_train)\n",
    "\n",
    "print(\"Best parameters:\", clf.best_params_)\n",
    "print(\"Best model score:\", clf.best_score_)\n",
    "\n",
    "# Save the best model\n",
    "best_model=clf.best_estimator_"
   ]
  },
  {
   "cell_type": "markdown",
   "id": "e0bd7003",
   "metadata": {},
   "source": [
    "* SVC model is overfitting the dataset. Chose another Classifier to check the model score "
   ]
  },
  {
   "cell_type": "markdown",
   "id": "0f53d7e3",
   "metadata": {},
   "source": [
    "## KNeighbors Classifier"
   ]
  },
  {
   "cell_type": "code",
   "execution_count": 81,
   "id": "00df96ca",
   "metadata": {},
   "outputs": [
    {
     "name": "stdout",
     "output_type": "stream",
     "text": [
      "model score: 0.9616964285714286\n"
     ]
    }
   ],
   "source": [
    "pipe = Pipeline([(\"scaler\", RobustScaler()),(\"classifier\", KNeighborsClassifier(3))])\n",
    "pipe.fit(X_train, y_train)\n",
    "best_model = pipe\n",
    "score = pipe.score(X_test, y_test)\n",
    "print(\"model score:\", score)"
   ]
  },
  {
   "cell_type": "markdown",
   "id": "aea0bb7f",
   "metadata": {},
   "source": [
    "* KNeighbors is giving a better model score to not overfitting the dataset, for this reason this model will be used for predictions if the route is good to use or not "
   ]
  },
  {
   "cell_type": "code",
   "execution_count": 82,
   "id": "0d29be79",
   "metadata": {},
   "outputs": [
    {
     "data": {
      "text/plain": [
       "<AxesSubplot:xlabel='Predicted', ylabel='Actual'>"
      ]
     },
     "execution_count": 82,
     "metadata": {},
     "output_type": "execute_result"
    },
    {
     "data": {
      "image/png": "[encoded data removed]",
      "text/plain": [
       "<Figure size 288x288 with 1 Axes>"
      ]
     },
     "metadata": {},
     "output_type": "display_data"
    }
   ],
   "source": [
    "y_pred=best_model.predict(X_test)\n",
    "\n",
    "data = confusion_matrix(y_test, y_pred)\n",
    "df_cm = pd.DataFrame(data, columns=np.unique(y_test), index = np.unique(y_test))\n",
    "\n",
    "df_cm.index.name = 'Actual'\n",
    "df_cm.columns.name = 'Predicted'\n",
    "plt.figure(figsize = (4,4))\n",
    "sns.heatmap(df_cm, annot=True,cbar=False,\n",
    "          vmax=500, square=True, fmt=\"d\", cmap=\"Blues\")"
   ]
  },
  {
   "cell_type": "code",
   "execution_count": 83,
   "id": "b38bf05e",
   "metadata": {},
   "outputs": [
    {
     "name": "stdout",
     "output_type": "stream",
     "text": [
      "              precision    recall  f1-score   support\n",
      "\n",
      "           0       0.92      0.88      0.90      2256\n",
      "           1       0.97      0.98      0.98      8944\n",
      "\n",
      "    accuracy                           0.96     11200\n",
      "   macro avg       0.95      0.93      0.94     11200\n",
      "weighted avg       0.96      0.96      0.96     11200\n",
      "\n"
     ]
    }
   ],
   "source": [
    "print(classification_report(y_test, y_pred))"
   ]
  },
  {
   "cell_type": "markdown",
   "id": "9a0dd940",
   "metadata": {},
   "source": [
    "## Out of sample Calssification"
   ]
  },
  {
   "cell_type": "code",
   "execution_count": 84,
   "id": "47f66051",
   "metadata": {},
   "outputs": [
    {
     "data": {
      "text/html": [
       "<div>\n",
       "<style scoped>\n",
       "    .dataframe tbody tr th:only-of-type {\n",
       "        vertical-align: middle;\n",
       "    }\n",
       "\n",
       "    .dataframe tbody tr th {\n",
       "        vertical-align: top;\n",
       "    }\n",
       "\n",
       "    .dataframe thead th {\n",
       "        text-align: right;\n",
       "    }\n",
       "</style>\n",
       "<table border=\"1\" class=\"dataframe\">\n",
       "  <thead>\n",
       "    <tr style=\"text-align: right;\">\n",
       "      <th></th>\n",
       "      <th>traffic_volume</th>\n",
       "      <th>hour</th>\n",
       "      <th>day_of_week</th>\n",
       "      <th>month</th>\n",
       "      <th>temp</th>\n",
       "      <th>holiday</th>\n",
       "      <th>rain_1h</th>\n",
       "      <th>clouds_all</th>\n",
       "      <th>weather_Clouds</th>\n",
       "      <th>weather_Mist</th>\n",
       "      <th>weather_Rain</th>\n",
       "      <th>weather_Snow</th>\n",
       "      <th>weather_other</th>\n",
       "    </tr>\n",
       "  </thead>\n",
       "  <tbody>\n",
       "    <tr>\n",
       "      <th>count</th>\n",
       "      <td>44797.000000</td>\n",
       "      <td>44797.000000</td>\n",
       "      <td>44797.000000</td>\n",
       "      <td>44797.000000</td>\n",
       "      <td>44797.000000</td>\n",
       "      <td>44797.000000</td>\n",
       "      <td>44797.000000</td>\n",
       "      <td>44797.000000</td>\n",
       "      <td>44797.000000</td>\n",
       "      <td>44797.000000</td>\n",
       "      <td>44797.000000</td>\n",
       "      <td>44797.000000</td>\n",
       "      <td>44797.000000</td>\n",
       "    </tr>\n",
       "    <tr>\n",
       "      <th>mean</th>\n",
       "      <td>3255.856196</td>\n",
       "      <td>11.375159</td>\n",
       "      <td>2.985870</td>\n",
       "      <td>6.618702</td>\n",
       "      <td>9.181106</td>\n",
       "      <td>0.001295</td>\n",
       "      <td>0.109449</td>\n",
       "      <td>50.798156</td>\n",
       "      <td>0.310958</td>\n",
       "      <td>0.130522</td>\n",
       "      <td>0.125499</td>\n",
       "      <td>0.058866</td>\n",
       "      <td>0.110677</td>\n",
       "    </tr>\n",
       "    <tr>\n",
       "      <th>std</th>\n",
       "      <td>1992.446833</td>\n",
       "      <td>6.965494</td>\n",
       "      <td>2.003379</td>\n",
       "      <td>3.300168</td>\n",
       "      <td>11.014517</td>\n",
       "      <td>0.035959</td>\n",
       "      <td>0.624463</td>\n",
       "      <td>38.978401</td>\n",
       "      <td>0.462891</td>\n",
       "      <td>0.336881</td>\n",
       "      <td>0.331288</td>\n",
       "      <td>0.235376</td>\n",
       "      <td>0.313735</td>\n",
       "    </tr>\n",
       "    <tr>\n",
       "      <th>min</th>\n",
       "      <td>0.000000</td>\n",
       "      <td>0.000000</td>\n",
       "      <td>0.000000</td>\n",
       "      <td>1.000000</td>\n",
       "      <td>-14.000000</td>\n",
       "      <td>0.000000</td>\n",
       "      <td>0.000000</td>\n",
       "      <td>0.000000</td>\n",
       "      <td>0.000000</td>\n",
       "      <td>0.000000</td>\n",
       "      <td>0.000000</td>\n",
       "      <td>0.000000</td>\n",
       "      <td>0.000000</td>\n",
       "    </tr>\n",
       "    <tr>\n",
       "      <th>20%</th>\n",
       "      <td>856.000000</td>\n",
       "      <td>4.000000</td>\n",
       "      <td>1.000000</td>\n",
       "      <td>3.000000</td>\n",
       "      <td>-1.000000</td>\n",
       "      <td>0.000000</td>\n",
       "      <td>0.000000</td>\n",
       "      <td>1.000000</td>\n",
       "      <td>0.000000</td>\n",
       "      <td>0.000000</td>\n",
       "      <td>0.000000</td>\n",
       "      <td>0.000000</td>\n",
       "      <td>0.000000</td>\n",
       "    </tr>\n",
       "    <tr>\n",
       "      <th>40%</th>\n",
       "      <td>2732.000000</td>\n",
       "      <td>9.000000</td>\n",
       "      <td>2.000000</td>\n",
       "      <td>5.000000</td>\n",
       "      <td>5.000000</td>\n",
       "      <td>0.000000</td>\n",
       "      <td>0.000000</td>\n",
       "      <td>40.000000</td>\n",
       "      <td>0.000000</td>\n",
       "      <td>0.000000</td>\n",
       "      <td>0.000000</td>\n",
       "      <td>0.000000</td>\n",
       "      <td>0.000000</td>\n",
       "    </tr>\n",
       "    <tr>\n",
       "      <th>50%</th>\n",
       "      <td>3355.000000</td>\n",
       "      <td>11.000000</td>\n",
       "      <td>3.000000</td>\n",
       "      <td>7.000000</td>\n",
       "      <td>10.000000</td>\n",
       "      <td>0.000000</td>\n",
       "      <td>0.000000</td>\n",
       "      <td>68.000000</td>\n",
       "      <td>0.000000</td>\n",
       "      <td>0.000000</td>\n",
       "      <td>0.000000</td>\n",
       "      <td>0.000000</td>\n",
       "      <td>0.000000</td>\n",
       "    </tr>\n",
       "    <tr>\n",
       "      <th>60%</th>\n",
       "      <td>4263.000000</td>\n",
       "      <td>14.000000</td>\n",
       "      <td>4.000000</td>\n",
       "      <td>8.000000</td>\n",
       "      <td>14.000000</td>\n",
       "      <td>0.000000</td>\n",
       "      <td>0.000000</td>\n",
       "      <td>75.000000</td>\n",
       "      <td>0.000000</td>\n",
       "      <td>0.000000</td>\n",
       "      <td>0.000000</td>\n",
       "      <td>0.000000</td>\n",
       "      <td>0.000000</td>\n",
       "    </tr>\n",
       "    <tr>\n",
       "      <th>80%</th>\n",
       "      <td>5185.000000</td>\n",
       "      <td>19.000000</td>\n",
       "      <td>5.000000</td>\n",
       "      <td>10.000000</td>\n",
       "      <td>20.000000</td>\n",
       "      <td>0.000000</td>\n",
       "      <td>0.000000</td>\n",
       "      <td>90.000000</td>\n",
       "      <td>1.000000</td>\n",
       "      <td>0.000000</td>\n",
       "      <td>0.000000</td>\n",
       "      <td>0.000000</td>\n",
       "      <td>0.000000</td>\n",
       "    </tr>\n",
       "    <tr>\n",
       "      <th>90%</th>\n",
       "      <td>5824.000000</td>\n",
       "      <td>21.000000</td>\n",
       "      <td>6.000000</td>\n",
       "      <td>11.000000</td>\n",
       "      <td>23.000000</td>\n",
       "      <td>0.000000</td>\n",
       "      <td>0.000000</td>\n",
       "      <td>90.000000</td>\n",
       "      <td>1.000000</td>\n",
       "      <td>1.000000</td>\n",
       "      <td>1.000000</td>\n",
       "      <td>0.000000</td>\n",
       "      <td>1.000000</td>\n",
       "    </tr>\n",
       "    <tr>\n",
       "      <th>max</th>\n",
       "      <td>7280.000000</td>\n",
       "      <td>23.000000</td>\n",
       "      <td>6.000000</td>\n",
       "      <td>12.000000</td>\n",
       "      <td>28.000000</td>\n",
       "      <td>1.000000</td>\n",
       "      <td>6.000000</td>\n",
       "      <td>100.000000</td>\n",
       "      <td>1.000000</td>\n",
       "      <td>1.000000</td>\n",
       "      <td>1.000000</td>\n",
       "      <td>1.000000</td>\n",
       "      <td>1.000000</td>\n",
       "    </tr>\n",
       "  </tbody>\n",
       "</table>\n",
       "</div>"
      ],
      "text/plain": [
       "       traffic_volume          hour   day_of_week         month          temp  \\\n",
       "count    44797.000000  44797.000000  44797.000000  44797.000000  44797.000000   \n",
       "mean      3255.856196     11.375159      2.985870      6.618702      9.181106   \n",
       "std       1992.446833      6.965494      2.003379      3.300168     11.014517   \n",
       "min          0.000000      0.000000      0.000000      1.000000    -14.000000   \n",
       "20%        856.000000      4.000000      1.000000      3.000000     -1.000000   \n",
       "40%       2732.000000      9.000000      2.000000      5.000000      5.000000   \n",
       "50%       3355.000000     11.000000      3.000000      7.000000     10.000000   \n",
       "60%       4263.000000     14.000000      4.000000      8.000000     14.000000   \n",
       "80%       5185.000000     19.000000      5.000000     10.000000     20.000000   \n",
       "90%       5824.000000     21.000000      6.000000     11.000000     23.000000   \n",
       "max       7280.000000     23.000000      6.000000     12.000000     28.000000   \n",
       "\n",
       "            holiday       rain_1h    clouds_all  weather_Clouds  weather_Mist  \\\n",
       "count  44797.000000  44797.000000  44797.000000    44797.000000  44797.000000   \n",
       "mean       0.001295      0.109449     50.798156        0.310958      0.130522   \n",
       "std        0.035959      0.624463     38.978401        0.462891      0.336881   \n",
       "min        0.000000      0.000000      0.000000        0.000000      0.000000   \n",
       "20%        0.000000      0.000000      1.000000        0.000000      0.000000   \n",
       "40%        0.000000      0.000000     40.000000        0.000000      0.000000   \n",
       "50%        0.000000      0.000000     68.000000        0.000000      0.000000   \n",
       "60%        0.000000      0.000000     75.000000        0.000000      0.000000   \n",
       "80%        0.000000      0.000000     90.000000        1.000000      0.000000   \n",
       "90%        0.000000      0.000000     90.000000        1.000000      1.000000   \n",
       "max        1.000000      6.000000    100.000000        1.000000      1.000000   \n",
       "\n",
       "       weather_Rain  weather_Snow  weather_other  \n",
       "count  44797.000000  44797.000000   44797.000000  \n",
       "mean       0.125499      0.058866       0.110677  \n",
       "std        0.331288      0.235376       0.313735  \n",
       "min        0.000000      0.000000       0.000000  \n",
       "20%        0.000000      0.000000       0.000000  \n",
       "40%        0.000000      0.000000       0.000000  \n",
       "50%        0.000000      0.000000       0.000000  \n",
       "60%        0.000000      0.000000       0.000000  \n",
       "80%        0.000000      0.000000       0.000000  \n",
       "90%        1.000000      0.000000       1.000000  \n",
       "max        1.000000      1.000000       1.000000  "
      ]
     },
     "execution_count": 84,
     "metadata": {},
     "output_type": "execute_result"
    }
   ],
   "source": [
    "features_clf.describe(percentiles=[0.20, 0.40, 0.60, 0.80, 0.90])"
   ]
  },
  {
   "cell_type": "code",
   "execution_count": 85,
   "id": "789d6438",
   "metadata": {},
   "outputs": [
    {
     "data": {
      "text/html": [
       "<div>\n",
       "<style scoped>\n",
       "    .dataframe tbody tr th:only-of-type {\n",
       "        vertical-align: middle;\n",
       "    }\n",
       "\n",
       "    .dataframe tbody tr th {\n",
       "        vertical-align: top;\n",
       "    }\n",
       "\n",
       "    .dataframe thead th {\n",
       "        text-align: right;\n",
       "    }\n",
       "</style>\n",
       "<table border=\"1\" class=\"dataframe\">\n",
       "  <thead>\n",
       "    <tr style=\"text-align: right;\">\n",
       "      <th></th>\n",
       "      <th>traffic_volume</th>\n",
       "      <th>hour</th>\n",
       "      <th>day_of_week</th>\n",
       "      <th>month</th>\n",
       "      <th>temp</th>\n",
       "      <th>holiday</th>\n",
       "      <th>rain_1h</th>\n",
       "      <th>clouds_all</th>\n",
       "      <th>weather_Clouds</th>\n",
       "      <th>weather_Mist</th>\n",
       "      <th>weather_Rain</th>\n",
       "      <th>weather_Snow</th>\n",
       "      <th>weather_other</th>\n",
       "    </tr>\n",
       "  </thead>\n",
       "  <tbody>\n",
       "    <tr>\n",
       "      <th>0</th>\n",
       "      <td>1179.0</td>\n",
       "      <td>5.0</td>\n",
       "      <td>1.0</td>\n",
       "      <td>4.0</td>\n",
       "      <td>0.0</td>\n",
       "      <td>0.0</td>\n",
       "      <td>0.0</td>\n",
       "      <td>1.0</td>\n",
       "      <td>0.0</td>\n",
       "      <td>0.0</td>\n",
       "      <td>0.0</td>\n",
       "      <td>0.0</td>\n",
       "      <td>0.0</td>\n",
       "    </tr>\n",
       "    <tr>\n",
       "      <th>1</th>\n",
       "      <td>4941.0</td>\n",
       "      <td>17.0</td>\n",
       "      <td>5.0</td>\n",
       "      <td>9.0</td>\n",
       "      <td>19.0</td>\n",
       "      <td>0.0</td>\n",
       "      <td>0.0</td>\n",
       "      <td>90.0</td>\n",
       "      <td>1.0</td>\n",
       "      <td>0.0</td>\n",
       "      <td>0.0</td>\n",
       "      <td>0.0</td>\n",
       "      <td>0.0</td>\n",
       "    </tr>\n",
       "    <tr>\n",
       "      <th>2</th>\n",
       "      <td>7280.0</td>\n",
       "      <td>23.0</td>\n",
       "      <td>6.0</td>\n",
       "      <td>12.0</td>\n",
       "      <td>28.0</td>\n",
       "      <td>1.0</td>\n",
       "      <td>6.0</td>\n",
       "      <td>100.0</td>\n",
       "      <td>1.0</td>\n",
       "      <td>1.0</td>\n",
       "      <td>1.0</td>\n",
       "      <td>1.0</td>\n",
       "      <td>1.0</td>\n",
       "    </tr>\n",
       "  </tbody>\n",
       "</table>\n",
       "</div>"
      ],
      "text/plain": [
       "   traffic_volume  hour  day_of_week  month  temp  holiday  rain_1h  \\\n",
       "0          1179.0   5.0          1.0    4.0   0.0      0.0      0.0   \n",
       "1          4941.0  17.0          5.0    9.0  19.0      0.0      0.0   \n",
       "2          7280.0  23.0          6.0   12.0  28.0      1.0      6.0   \n",
       "\n",
       "   clouds_all  weather_Clouds  weather_Mist  weather_Rain  weather_Snow  \\\n",
       "0         1.0             0.0           0.0           0.0           0.0   \n",
       "1        90.0             1.0           0.0           0.0           0.0   \n",
       "2       100.0             1.0           1.0           1.0           1.0   \n",
       "\n",
       "   weather_other  \n",
       "0            0.0  \n",
       "1            0.0  \n",
       "2            1.0  "
      ]
     },
     "execution_count": 85,
     "metadata": {},
     "output_type": "execute_result"
    }
   ],
   "source": [
    "df_synthetic1 = pd.DataFrame([features_clf.describe().loc['25%',:].values], columns=features_clf.columns)\n",
    "df_synthetic2 = pd.DataFrame([features_clf.describe().loc['75%',:].values], columns=features_clf.columns)\n",
    "df_synthetic3 = pd.DataFrame([features_clf.describe().loc['max',:].values], columns=features_clf.columns)\n",
    "df_synthetic = pd.concat([df_synthetic1, df_synthetic2, df_synthetic3])\n",
    "df_synthetic.reset_index(drop=True, inplace=True)\n",
    "df_synthetic"
   ]
  },
  {
   "cell_type": "code",
   "execution_count": 86,
   "id": "698e7396",
   "metadata": {},
   "outputs": [
    {
     "name": "stdout",
     "output_type": "stream",
     "text": [
      "For row number 0 it is good to use the route\n",
      "For row number 1 it is good to use the route\n",
      "For row number 2 it is good to use the route\n"
     ]
    }
   ],
   "source": [
    "# Predict using selected model\n",
    "y_prediction = best_model.predict(df_synthetic)\n",
    "rowNumber = 0;\n",
    "for value in y_prediction:\n",
    "    if(value == 1):\n",
    "        print(\"For row number %d it is good to use the route\"%(rowNumber))\n",
    "    else:\n",
    "        print(\"For row number %d it is better to avoid the route\"%(rowNumber))\n",
    "    rowNumber += 1"
   ]
  },
  {
   "cell_type": "code",
   "execution_count": null,
   "id": "df7d38f2",
   "metadata": {},
   "outputs": [],
   "source": []
  }
 ],
 "metadata": {
  "kernelspec": {
   "display_name": "Python 3 (ipykernel)",
   "language": "python",
   "name": "python3"
  },
  "language_info": {
   "codemirror_mode": {
    "name": "ipython",
    "version": 3
   },
   "file_extension": ".py",
   "mimetype": "text/x-python",
   "name": "python",
   "nbconvert_exporter": "python",
   "pygments_lexer": "ipython3",
   "version": "3.9.12"
  }
 },
 "nbformat": 4,
 "nbformat_minor": 5
}
