{
 "cells": [
  {
   "cell_type": "markdown",
   "id": "66144058",
   "metadata": {},
   "source": [
    "# Lab 4 - Andre Piccolo - 300347025"
   ]
  },
  {
   "cell_type": "markdown",
   "id": "c64c7eb4",
   "metadata": {},
   "source": [
    "## Import libray"
   ]
  },
  {
   "cell_type": "code",
   "execution_count": 309,
   "id": "3480e679",
   "metadata": {},
   "outputs": [],
   "source": [
    "import numpy as np\n",
    "import pandas as pd\n",
    "import seaborn as sns\n",
    "import matplotlib.pyplot as plt\n",
    "from sklearn.model_selection import train_test_split\n",
    "from sklearn.feature_selection import SelectFromModel\n",
    "from sklearn.ensemble import RandomForestClassifier\n",
    "from sklearn.preprocessing import PolynomialFeatures\n",
    "from sklearn.pipeline import Pipeline\n",
    "from sklearn.preprocessing import RobustScaler\n",
    "from sklearn.linear_model import LinearRegression\n",
    "from sklearn.linear_model import SGDRegressor\n",
    "from sklearn.tree import DecisionTreeRegressor\n",
    "from sklearn.ensemble import GradientBoostingRegressor\n",
    "from sklearn.ensemble import RandomForestRegressor\n",
    "from sklearn.ensemble import AdaBoostRegressor\n",
    "from xgboost import XGBRegressor\n",
    "from catboost import CatBoostRegressor\n",
    "from sklearn.metrics import mean_squared_error"
   ]
  },
  {
   "cell_type": "markdown",
   "id": "1a35aadc",
   "metadata": {},
   "source": [
    "## Read Data"
   ]
  },
  {
   "cell_type": "code",
   "execution_count": 310,
   "id": "291b086e",
   "metadata": {},
   "outputs": [
    {
     "data": {
      "text/html": [
       "<div>\n",
       "<style scoped>\n",
       "    .dataframe tbody tr th:only-of-type {\n",
       "        vertical-align: middle;\n",
       "    }\n",
       "\n",
       "    .dataframe tbody tr th {\n",
       "        vertical-align: top;\n",
       "    }\n",
       "\n",
       "    .dataframe thead th {\n",
       "        text-align: right;\n",
       "    }\n",
       "</style>\n",
       "<table border=\"1\" class=\"dataframe\">\n",
       "  <thead>\n",
       "    <tr style=\"text-align: right;\">\n",
       "      <th></th>\n",
       "      <th>year</th>\n",
       "      <th>make</th>\n",
       "      <th>body</th>\n",
       "      <th>transmission</th>\n",
       "      <th>condition</th>\n",
       "      <th>odometer</th>\n",
       "      <th>color</th>\n",
       "      <th>interior</th>\n",
       "      <th>mmr</th>\n",
       "      <th>sellingprice</th>\n",
       "    </tr>\n",
       "  </thead>\n",
       "  <tbody>\n",
       "    <tr>\n",
       "      <th>0</th>\n",
       "      <td>2013</td>\n",
       "      <td>Ford</td>\n",
       "      <td>coupe</td>\n",
       "      <td>automatic</td>\n",
       "      <td>2.2</td>\n",
       "      <td>36941</td>\n",
       "      <td>silver</td>\n",
       "      <td>black</td>\n",
       "      <td>15000</td>\n",
       "      <td>12800</td>\n",
       "    </tr>\n",
       "    <tr>\n",
       "      <th>1</th>\n",
       "      <td>2013</td>\n",
       "      <td>Dodge</td>\n",
       "      <td>sedan</td>\n",
       "      <td>automatic</td>\n",
       "      <td>3.7</td>\n",
       "      <td>27601</td>\n",
       "      <td>white</td>\n",
       "      <td>tan</td>\n",
       "      <td>13100</td>\n",
       "      <td>14800</td>\n",
       "    </tr>\n",
       "    <tr>\n",
       "      <th>2</th>\n",
       "      <td>2014</td>\n",
       "      <td>Ford</td>\n",
       "      <td>sedan</td>\n",
       "      <td>automatic</td>\n",
       "      <td>3.5</td>\n",
       "      <td>14184</td>\n",
       "      <td>silver</td>\n",
       "      <td>black</td>\n",
       "      <td>17700</td>\n",
       "      <td>16500</td>\n",
       "    </tr>\n",
       "    <tr>\n",
       "      <th>3</th>\n",
       "      <td>2006</td>\n",
       "      <td>Nissan</td>\n",
       "      <td>suv</td>\n",
       "      <td>automatic</td>\n",
       "      <td>4.3</td>\n",
       "      <td>193516</td>\n",
       "      <td>silver</td>\n",
       "      <td>black</td>\n",
       "      <td>3175</td>\n",
       "      <td>4400</td>\n",
       "    </tr>\n",
       "    <tr>\n",
       "      <th>4</th>\n",
       "      <td>2005</td>\n",
       "      <td>Saturn</td>\n",
       "      <td>sedan</td>\n",
       "      <td>automatic</td>\n",
       "      <td>3.8</td>\n",
       "      <td>104969</td>\n",
       "      <td>white</td>\n",
       "      <td>gray</td>\n",
       "      <td>2500</td>\n",
       "      <td>2900</td>\n",
       "    </tr>\n",
       "  </tbody>\n",
       "</table>\n",
       "</div>"
      ],
      "text/plain": [
       "   year    make   body transmission  condition  odometer   color interior  \\\n",
       "0  2013    Ford  coupe    automatic        2.2     36941  silver    black   \n",
       "1  2013   Dodge  sedan    automatic        3.7     27601   white      tan   \n",
       "2  2014    Ford  sedan    automatic        3.5     14184  silver    black   \n",
       "3  2006  Nissan    suv    automatic        4.3    193516  silver    black   \n",
       "4  2005  Saturn  sedan    automatic        3.8    104969   white     gray   \n",
       "\n",
       "     mmr  sellingprice  \n",
       "0  15000         12800  \n",
       "1  13100         14800  \n",
       "2  17700         16500  \n",
       "3   3175          4400  \n",
       "4   2500          2900  "
      ]
     },
     "execution_count": 310,
     "metadata": {},
     "output_type": "execute_result"
    }
   ],
   "source": [
    "df = pd.read_csv('car_auction.csv')\n",
    "df.head()"
   ]
  },
  {
   "cell_type": "code",
   "execution_count": 311,
   "id": "0311f31f",
   "metadata": {},
   "outputs": [
    {
     "data": {
      "text/plain": [
       "year            0\n",
       "make            0\n",
       "body            0\n",
       "transmission    0\n",
       "condition       0\n",
       "odometer        0\n",
       "color           0\n",
       "interior        0\n",
       "mmr             0\n",
       "sellingprice    0\n",
       "dtype: int64"
      ]
     },
     "execution_count": 311,
     "metadata": {},
     "output_type": "execute_result"
    }
   ],
   "source": [
    "df.isnull().sum()"
   ]
  },
  {
   "cell_type": "markdown",
   "id": "777ad0e5",
   "metadata": {},
   "source": [
    "## Prepare Dataset"
   ]
  },
  {
   "cell_type": "code",
   "execution_count": 312,
   "id": "f3d89ca6",
   "metadata": {},
   "outputs": [
    {
     "name": "stdout",
     "output_type": "stream",
     "text": [
      "<class 'pandas.core.frame.DataFrame'>\n",
      "RangeIndex: 106550 entries, 0 to 106549\n",
      "Data columns (total 73 columns):\n",
      " #   Column               Non-Null Count   Dtype  \n",
      "---  ------               --------------   -----  \n",
      " 0   year                 106550 non-null  int64  \n",
      " 1   condition            106550 non-null  float64\n",
      " 2   odometer             106550 non-null  int64  \n",
      " 3   mmr                  106550 non-null  int64  \n",
      " 4   sellingprice         106550 non-null  int64  \n",
      " 5   make_Aston Martin    106550 non-null  uint8  \n",
      " 6   make_Audi            106550 non-null  uint8  \n",
      " 7   make_BMW             106550 non-null  uint8  \n",
      " 8   make_Bentley         106550 non-null  uint8  \n",
      " 9   make_Buick           106550 non-null  uint8  \n",
      " 10  make_Cadillac        106550 non-null  uint8  \n",
      " 11  make_Chevrolet       106550 non-null  uint8  \n",
      " 12  make_Chrysler        106550 non-null  uint8  \n",
      " 13  make_Dodge           106550 non-null  uint8  \n",
      " 14  make_FIAT            106550 non-null  uint8  \n",
      " 15  make_Ferrari         106550 non-null  uint8  \n",
      " 16  make_Ford            106550 non-null  uint8  \n",
      " 17  make_GMC             106550 non-null  uint8  \n",
      " 18  make_Geo             106550 non-null  uint8  \n",
      " 19  make_HUMMER          106550 non-null  uint8  \n",
      " 20  make_Honda           106550 non-null  uint8  \n",
      " 21  make_Hyundai         106550 non-null  uint8  \n",
      " 22  make_Infiniti        106550 non-null  uint8  \n",
      " 23  make_Isuzu           106550 non-null  uint8  \n",
      " 24  make_Jaguar          106550 non-null  uint8  \n",
      " 25  make_Jeep            106550 non-null  uint8  \n",
      " 26  make_Kia             106550 non-null  uint8  \n",
      " 27  make_Lamborghini     106550 non-null  uint8  \n",
      " 28  make_Land Rover      106550 non-null  uint8  \n",
      " 29  make_Lexus           106550 non-null  uint8  \n",
      " 30  make_Lincoln         106550 non-null  uint8  \n",
      " 31  make_MINI            106550 non-null  uint8  \n",
      " 32  make_Maserati        106550 non-null  uint8  \n",
      " 33  make_Mazda           106550 non-null  uint8  \n",
      " 34  make_Mercedes-Benz   106550 non-null  uint8  \n",
      " 35  make_Mercury         106550 non-null  uint8  \n",
      " 36  make_Mitsubishi      106550 non-null  uint8  \n",
      " 37  make_Nissan          106550 non-null  uint8  \n",
      " 38  make_Oldsmobile      106550 non-null  uint8  \n",
      " 39  make_Plymouth        106550 non-null  uint8  \n",
      " 40  make_Pontiac         106550 non-null  uint8  \n",
      " 41  make_Porsche         106550 non-null  uint8  \n",
      " 42  make_Ram             106550 non-null  uint8  \n",
      " 43  make_Rolls-Royce     106550 non-null  uint8  \n",
      " 44  make_Saab            106550 non-null  uint8  \n",
      " 45  make_Saturn          106550 non-null  uint8  \n",
      " 46  make_Scion           106550 non-null  uint8  \n",
      " 47  make_Subaru          106550 non-null  uint8  \n",
      " 48  make_Suzuki          106550 non-null  uint8  \n",
      " 49  make_Tesla           106550 non-null  uint8  \n",
      " 50  make_Toyota          106550 non-null  uint8  \n",
      " 51  make_Volkswagen      106550 non-null  uint8  \n",
      " 52  make_Volvo           106550 non-null  uint8  \n",
      " 53  make_smart           106550 non-null  uint8  \n",
      " 54  body_coupe           106550 non-null  uint8  \n",
      " 55  body_hatchback       106550 non-null  uint8  \n",
      " 56  body_minivan         106550 non-null  uint8  \n",
      " 57  body_sedan           106550 non-null  uint8  \n",
      " 58  body_suv             106550 non-null  uint8  \n",
      " 59  body_truck           106550 non-null  uint8  \n",
      " 60  body_van             106550 non-null  uint8  \n",
      " 61  body_wagon           106550 non-null  uint8  \n",
      " 62  transmission_manual  106550 non-null  uint8  \n",
      " 63  color_blue           106550 non-null  uint8  \n",
      " 64  color_gray           106550 non-null  uint8  \n",
      " 65  color_other          106550 non-null  uint8  \n",
      " 66  color_red            106550 non-null  uint8  \n",
      " 67  color_silver         106550 non-null  uint8  \n",
      " 68  color_white          106550 non-null  uint8  \n",
      " 69  interior_black       106550 non-null  uint8  \n",
      " 70  interior_gray        106550 non-null  uint8  \n",
      " 71  interior_other       106550 non-null  uint8  \n",
      " 72  interior_tan         106550 non-null  uint8  \n",
      "dtypes: float64(1), int64(4), uint8(68)\n",
      "memory usage: 11.0 MB\n"
     ]
    }
   ],
   "source": [
    "# Create dummies for object categories\n",
    "df = pd.get_dummies(df, drop_first=True)\n",
    "df.info()"
   ]
  },
  {
   "cell_type": "markdown",
   "id": "930041c3",
   "metadata": {},
   "source": [
    "## Feature Selection"
   ]
  },
  {
   "cell_type": "code",
   "execution_count": 313,
   "id": "36353489",
   "metadata": {},
   "outputs": [
    {
     "data": {
      "text/plain": [
       "(106550, 72)"
      ]
     },
     "execution_count": 313,
     "metadata": {},
     "output_type": "execute_result"
    }
   ],
   "source": [
    "target=df['sellingprice']\n",
    "features=df.drop(['sellingprice'], axis=1)\n",
    "features.shape"
   ]
  },
  {
   "cell_type": "markdown",
   "id": "f23cb23c",
   "metadata": {},
   "source": [
    "## Select From Model using Random Forest as estimator"
   ]
  },
  {
   "cell_type": "code",
   "execution_count": 314,
   "id": "82fb603b",
   "metadata": {},
   "outputs": [
    {
     "data": {
      "text/plain": [
       "(106550, 9)"
      ]
     },
     "execution_count": 314,
     "metadata": {},
     "output_type": "execute_result"
    }
   ],
   "source": [
    "sfm_selec = SelectFromModel(estimator=RandomForestClassifier(n_estimators=100, max_leaf_nodes=8)).fit(features, target)\n",
    "sfm_df = sfm_selec.transform(features)\n",
    "sfm_df.shape"
   ]
  },
  {
   "cell_type": "markdown",
   "id": "5c23397d",
   "metadata": {},
   "source": [
    "## Load Regression Models"
   ]
  },
  {
   "cell_type": "code",
   "execution_count": 315,
   "id": "85b78de3",
   "metadata": {},
   "outputs": [],
   "source": [
    "models=[]\n",
    "y_preds=[]\n",
    "r2=[]\n",
    "rmse=[]\n",
    "name=[]\n",
    "\n",
    "X_train, X_test, y_train, y_test = train_test_split(sfm_df, target, test_size=0.25)\n",
    "\n",
    "def loadModelInfo(model):\n",
    "    models.append(model)\n",
    "    name.append(model.__class__.__name__)"
   ]
  },
  {
   "cell_type": "markdown",
   "id": "8054d2ca",
   "metadata": {},
   "source": [
    "## Linear Regressor"
   ]
  },
  {
   "cell_type": "code",
   "execution_count": 316,
   "id": "0c6535b8",
   "metadata": {},
   "outputs": [],
   "source": [
    "loadModelInfo(LinearRegression())"
   ]
  },
  {
   "cell_type": "markdown",
   "id": "cfa27c3c",
   "metadata": {},
   "source": [
    "## SGD Regressor"
   ]
  },
  {
   "cell_type": "code",
   "execution_count": 317,
   "id": "0ef12d4c",
   "metadata": {},
   "outputs": [],
   "source": [
    "# Changed the default eta0 because default value is too high resulting in weird values to r2 and rmse\n",
    "# research from this link: https://stackoverflow.com/questions/31443840/sgdregressor-nonsensical-result\n",
    "loadModelInfo(SGDRegressor(eta0=0.001))"
   ]
  },
  {
   "cell_type": "markdown",
   "id": "c7f22f30",
   "metadata": {},
   "source": [
    "## Decision Tree Regressor"
   ]
  },
  {
   "cell_type": "code",
   "execution_count": 318,
   "id": "118f8ddd",
   "metadata": {},
   "outputs": [],
   "source": [
    "loadModelInfo(DecisionTreeRegressor(max_depth=3))"
   ]
  },
  {
   "cell_type": "markdown",
   "id": "832c1c7c",
   "metadata": {},
   "source": [
    "## Gradient Boosting Regressor"
   ]
  },
  {
   "cell_type": "code",
   "execution_count": 319,
   "id": "e8f59f00",
   "metadata": {},
   "outputs": [],
   "source": [
    "loadModelInfo(GradientBoostingRegressor())"
   ]
  },
  {
   "cell_type": "markdown",
   "id": "3613ca89",
   "metadata": {},
   "source": [
    "## Random Forest Regressor"
   ]
  },
  {
   "cell_type": "code",
   "execution_count": 320,
   "id": "675f37c4",
   "metadata": {},
   "outputs": [],
   "source": [
    "loadModelInfo(RandomForestRegressor(n_estimators=100, max_depth=3))"
   ]
  },
  {
   "cell_type": "markdown",
   "id": "ec2347c4",
   "metadata": {},
   "source": [
    "## Ada Boost Regressor"
   ]
  },
  {
   "cell_type": "code",
   "execution_count": 321,
   "id": "0e300998",
   "metadata": {},
   "outputs": [],
   "source": [
    "loadModelInfo(AdaBoostRegressor(n_estimators=50))"
   ]
  },
  {
   "cell_type": "markdown",
   "id": "508b656d",
   "metadata": {},
   "source": [
    "## XGBoost Regressor"
   ]
  },
  {
   "cell_type": "code",
   "execution_count": 322,
   "id": "a9d63c6c",
   "metadata": {},
   "outputs": [],
   "source": [
    "loadModelInfo(XGBRegressor(n_estimators=50))"
   ]
  },
  {
   "cell_type": "markdown",
   "id": "6177ebcc",
   "metadata": {},
   "source": [
    "## CatBoost Regressor"
   ]
  },
  {
   "cell_type": "code",
   "execution_count": 323,
   "id": "885228a9",
   "metadata": {},
   "outputs": [],
   "source": [
    "loadModelInfo(CatBoostRegressor(n_estimators=50))"
   ]
  },
  {
   "cell_type": "markdown",
   "id": "019b73b4",
   "metadata": {},
   "source": [
    "## Create Pipeline"
   ]
  },
  {
   "cell_type": "code",
   "execution_count": 324,
   "id": "6ea09b0b",
   "metadata": {},
   "outputs": [
    {
     "name": "stdout",
     "output_type": "stream",
     "text": [
      "Learning rate set to 0.5\n",
      "0:\tlearn: 5543.1313367\ttotal: 15.5ms\tremaining: 759ms\n",
      "1:\tlearn: 3442.8058035\ttotal: 29.8ms\tremaining: 715ms\n",
      "2:\tlearn: 2502.3372606\ttotal: 44.7ms\tremaining: 700ms\n",
      "3:\tlearn: 2150.0168734\ttotal: 59.3ms\tremaining: 681ms\n",
      "4:\tlearn: 2008.0390012\ttotal: 73ms\tremaining: 657ms\n",
      "5:\tlearn: 1919.4777726\ttotal: 86.6ms\tremaining: 635ms\n",
      "6:\tlearn: 1856.7263982\ttotal: 102ms\tremaining: 624ms\n",
      "7:\tlearn: 1813.5964465\ttotal: 114ms\tremaining: 599ms\n",
      "8:\tlearn: 1792.0853117\ttotal: 127ms\tremaining: 580ms\n",
      "9:\tlearn: 1758.0574142\ttotal: 142ms\tremaining: 569ms\n",
      "10:\tlearn: 1733.8632008\ttotal: 156ms\tremaining: 551ms\n",
      "11:\tlearn: 1701.8839204\ttotal: 168ms\tremaining: 533ms\n",
      "12:\tlearn: 1681.5440410\ttotal: 182ms\tremaining: 519ms\n",
      "13:\tlearn: 1664.9751095\ttotal: 198ms\tremaining: 508ms\n",
      "14:\tlearn: 1655.8813322\ttotal: 211ms\tremaining: 493ms\n",
      "15:\tlearn: 1633.9598245\ttotal: 226ms\tremaining: 481ms\n",
      "16:\tlearn: 1625.9576949\ttotal: 240ms\tremaining: 466ms\n",
      "17:\tlearn: 1618.9953276\ttotal: 253ms\tremaining: 450ms\n",
      "18:\tlearn: 1595.4819586\ttotal: 268ms\tremaining: 437ms\n",
      "19:\tlearn: 1584.2721239\ttotal: 283ms\tremaining: 424ms\n",
      "20:\tlearn: 1576.0129560\ttotal: 300ms\tremaining: 415ms\n",
      "21:\tlearn: 1569.9486613\ttotal: 315ms\tremaining: 400ms\n",
      "22:\tlearn: 1558.9429755\ttotal: 330ms\tremaining: 387ms\n",
      "23:\tlearn: 1550.4431861\ttotal: 346ms\tremaining: 375ms\n",
      "24:\tlearn: 1543.9114473\ttotal: 362ms\tremaining: 362ms\n",
      "25:\tlearn: 1539.5426849\ttotal: 379ms\tremaining: 350ms\n",
      "26:\tlearn: 1530.6401955\ttotal: 392ms\tremaining: 334ms\n",
      "27:\tlearn: 1526.6767396\ttotal: 405ms\tremaining: 318ms\n",
      "28:\tlearn: 1521.2061590\ttotal: 418ms\tremaining: 303ms\n",
      "29:\tlearn: 1516.5587364\ttotal: 434ms\tremaining: 289ms\n",
      "30:\tlearn: 1507.1005558\ttotal: 447ms\tremaining: 274ms\n",
      "31:\tlearn: 1504.2828169\ttotal: 460ms\tremaining: 259ms\n",
      "32:\tlearn: 1495.8189328\ttotal: 475ms\tremaining: 245ms\n",
      "33:\tlearn: 1493.3103629\ttotal: 487ms\tremaining: 229ms\n",
      "34:\tlearn: 1489.5087222\ttotal: 501ms\tremaining: 215ms\n",
      "35:\tlearn: 1485.3627218\ttotal: 514ms\tremaining: 200ms\n",
      "36:\tlearn: 1480.7020703\ttotal: 528ms\tremaining: 185ms\n",
      "37:\tlearn: 1476.5850095\ttotal: 542ms\tremaining: 171ms\n",
      "38:\tlearn: 1473.5077841\ttotal: 556ms\tremaining: 157ms\n",
      "39:\tlearn: 1470.6822212\ttotal: 570ms\tremaining: 143ms\n",
      "40:\tlearn: 1468.3184404\ttotal: 586ms\tremaining: 129ms\n",
      "41:\tlearn: 1464.7802952\ttotal: 600ms\tremaining: 114ms\n",
      "42:\tlearn: 1462.1513058\ttotal: 613ms\tremaining: 99.9ms\n",
      "43:\tlearn: 1459.0823840\ttotal: 629ms\tremaining: 85.7ms\n",
      "44:\tlearn: 1456.7869878\ttotal: 643ms\tremaining: 71.4ms\n",
      "45:\tlearn: 1452.9380445\ttotal: 656ms\tremaining: 57ms\n",
      "46:\tlearn: 1451.6054592\ttotal: 669ms\tremaining: 42.7ms\n",
      "47:\tlearn: 1449.4313232\ttotal: 682ms\tremaining: 28.4ms\n",
      "48:\tlearn: 1447.6314515\ttotal: 695ms\tremaining: 14.2ms\n",
      "49:\tlearn: 1445.3551312\ttotal: 709ms\tremaining: 0us\n"
     ]
    }
   ],
   "source": [
    "for model in models:\n",
    "    pipe = Pipeline([('scaler', RobustScaler()),\n",
    "                     ('preprocessor', PolynomialFeatures(degree=2, include_bias=False, interaction_only=False)),\n",
    "                     ('regressor', model)])\n",
    "    pipe.fit(X_train, y_train)\n",
    "    y_pred = pipe.predict(X_test)\n",
    "    y_preds.append(y_pred)\n",
    "    r2.append(pipe.score(X_test, y_test))\n",
    "    rmse.append(mean_squared_error(y_test, y_pred, squared=False))\n",
    "    "
   ]
  },
  {
   "cell_type": "code",
   "execution_count": 325,
   "id": "a58af81f",
   "metadata": {},
   "outputs": [
    {
     "data": {
      "text/html": [
       "<div>\n",
       "<style scoped>\n",
       "    .dataframe tbody tr th:only-of-type {\n",
       "        vertical-align: middle;\n",
       "    }\n",
       "\n",
       "    .dataframe tbody tr th {\n",
       "        vertical-align: top;\n",
       "    }\n",
       "\n",
       "    .dataframe thead th {\n",
       "        text-align: right;\n",
       "    }\n",
       "</style>\n",
       "<table border=\"1\" class=\"dataframe\">\n",
       "  <thead>\n",
       "    <tr style=\"text-align: right;\">\n",
       "      <th></th>\n",
       "      <th>Model</th>\n",
       "      <th>R2 Score</th>\n",
       "      <th>RMSE</th>\n",
       "    </tr>\n",
       "  </thead>\n",
       "  <tbody>\n",
       "    <tr>\n",
       "      <th>0</th>\n",
       "      <td>LinearRegression</td>\n",
       "      <td>0.976237</td>\n",
       "      <td>1482.549744</td>\n",
       "    </tr>\n",
       "    <tr>\n",
       "      <th>1</th>\n",
       "      <td>SGDRegressor</td>\n",
       "      <td>0.976058</td>\n",
       "      <td>1488.127625</td>\n",
       "    </tr>\n",
       "    <tr>\n",
       "      <th>2</th>\n",
       "      <td>DecisionTreeRegressor</td>\n",
       "      <td>0.926321</td>\n",
       "      <td>2610.549763</td>\n",
       "    </tr>\n",
       "    <tr>\n",
       "      <th>3</th>\n",
       "      <td>GradientBoostingRegressor</td>\n",
       "      <td>0.976460</td>\n",
       "      <td>1475.567011</td>\n",
       "    </tr>\n",
       "    <tr>\n",
       "      <th>4</th>\n",
       "      <td>RandomForestRegressor</td>\n",
       "      <td>0.936174</td>\n",
       "      <td>2429.727220</td>\n",
       "    </tr>\n",
       "    <tr>\n",
       "      <th>5</th>\n",
       "      <td>AdaBoostRegressor</td>\n",
       "      <td>0.843613</td>\n",
       "      <td>3803.284076</td>\n",
       "    </tr>\n",
       "    <tr>\n",
       "      <th>6</th>\n",
       "      <td>XGBRegressor</td>\n",
       "      <td>0.976180</td>\n",
       "      <td>1484.324371</td>\n",
       "    </tr>\n",
       "    <tr>\n",
       "      <th>7</th>\n",
       "      <td>CatBoostRegressor</td>\n",
       "      <td>0.972741</td>\n",
       "      <td>1587.874868</td>\n",
       "    </tr>\n",
       "  </tbody>\n",
       "</table>\n",
       "</div>"
      ],
      "text/plain": [
       "                       Model  R2 Score         RMSE\n",
       "0           LinearRegression  0.976237  1482.549744\n",
       "1               SGDRegressor  0.976058  1488.127625\n",
       "2      DecisionTreeRegressor  0.926321  2610.549763\n",
       "3  GradientBoostingRegressor  0.976460  1475.567011\n",
       "4      RandomForestRegressor  0.936174  2429.727220\n",
       "5          AdaBoostRegressor  0.843613  3803.284076\n",
       "6               XGBRegressor  0.976180  1484.324371\n",
       "7          CatBoostRegressor  0.972741  1587.874868"
      ]
     },
     "execution_count": 325,
     "metadata": {},
     "output_type": "execute_result"
    }
   ],
   "source": [
    "res_df = pd.DataFrame(zip(name, r2, rmse), columns=['Model', 'R2 Score','RMSE'])\n",
    "res_df"
   ]
  },
  {
   "cell_type": "code",
   "execution_count": 326,
   "id": "08ae6533",
   "metadata": {},
   "outputs": [
    {
     "name": "stdout",
     "output_type": "stream",
     "text": [
      "The best model is GradientBoostingRegressor in position 3\n"
     ]
    }
   ],
   "source": [
    "# Find the better model with max R2 Score\n",
    "best_name_model = res_df.loc[res_df['R2 Score'].idxmax(), 'Model']\n",
    "best_model = models[name.index(best_name_model)]\n",
    "best_predict = y_preds[name.index(best_name_model)]\n",
    "print(\"The best model is %s in position %d\"% (best_name_model, name.index(best_name_model)))"
   ]
  },
  {
   "cell_type": "markdown",
   "id": "11d25608",
   "metadata": {},
   "source": [
    "## Plot Best Model"
   ]
  },
  {
   "cell_type": "code",
   "execution_count": 327,
   "id": "46ed61fa",
   "metadata": {},
   "outputs": [
    {
     "data": {
      "text/plain": [
       "<matplotlib.collections.PathCollection at 0x2469c3c8fa0>"
      ]
     },
     "execution_count": 327,
     "metadata": {},
     "output_type": "execute_result"
    },
    {
     "data": {
      "image/png": "[encoded data removed]",
      "text/plain": [
       "<Figure size 432x288 with 1 Axes>"
      ]
     },
     "metadata": {
      "needs_background": "light"
     },
     "output_type": "display_data"
    }
   ],
   "source": [
    "plt.scatter(best_predict, y_test, alpha=0.4, color='b')"
   ]
  },
  {
   "cell_type": "code",
   "execution_count": null,
   "id": "53eeee9a",
   "metadata": {},
   "outputs": [],
   "source": []
  }
 ],
 "metadata": {
  "kernelspec": {
   "display_name": "Python 3 (ipykernel)",
   "language": "python",
   "name": "python3"
  },
  "language_info": {
   "codemirror_mode": {
    "name": "ipython",
    "version": 3
   },
   "file_extension": ".py",
   "mimetype": "text/x-python",
   "name": "python",
   "nbconvert_exporter": "python",
   "pygments_lexer": "ipython3",
   "version": "3.9.12"
  }
 },
 "nbformat": 4,
 "nbformat_minor": 5
}
