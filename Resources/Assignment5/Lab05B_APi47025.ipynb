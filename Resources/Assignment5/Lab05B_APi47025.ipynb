{
 "cells": [
  {
   "cell_type": "markdown",
   "id": "22da49a6",
   "metadata": {},
   "source": [
    "# Lab 5 B - Andre Piccolo - 300347025"
   ]
  },
  {
   "cell_type": "markdown",
   "id": "aa8233c1",
   "metadata": {},
   "source": [
    "## Import Library"
   ]
  },
  {
   "cell_type": "code",
   "execution_count": 91,
   "id": "0c9d0e06",
   "metadata": {},
   "outputs": [],
   "source": [
    "import numpy as np\n",
    "import pandas as pd\n",
    "import seaborn as sns\n",
    "import matplotlib.pyplot as plt\n",
    "from sklearn.preprocessing import MinMaxScaler, StandardScaler, RobustScaler \n",
    "from sklearn.pipeline import Pipeline\n",
    "from sklearn.neural_network import MLPClassifier\n",
    "from sklearn.model_selection import train_test_split\n",
    "from sklearn.metrics import classification_report\n",
    "from sklearn.metrics import confusion_matrix"
   ]
  },
  {
   "cell_type": "markdown",
   "id": "f9e98b5f",
   "metadata": {},
   "source": [
    "## Read Data"
   ]
  },
  {
   "cell_type": "code",
   "execution_count": 92,
   "id": "f3c29256",
   "metadata": {},
   "outputs": [
    {
     "data": {
      "text/html": [
       "<div>\n",
       "<style scoped>\n",
       "    .dataframe tbody tr th:only-of-type {\n",
       "        vertical-align: middle;\n",
       "    }\n",
       "\n",
       "    .dataframe tbody tr th {\n",
       "        vertical-align: top;\n",
       "    }\n",
       "\n",
       "    .dataframe thead th {\n",
       "        text-align: right;\n",
       "    }\n",
       "</style>\n",
       "<table border=\"1\" class=\"dataframe\">\n",
       "  <thead>\n",
       "    <tr style=\"text-align: right;\">\n",
       "      <th></th>\n",
       "      <th>Age</th>\n",
       "      <th>BusinessTravel</th>\n",
       "      <th>DailyRate</th>\n",
       "      <th>Department</th>\n",
       "      <th>DistanceFromHome</th>\n",
       "      <th>Education</th>\n",
       "      <th>EducationField</th>\n",
       "      <th>EnvironmentSatisfaction</th>\n",
       "      <th>Gender</th>\n",
       "      <th>HourlyRate</th>\n",
       "      <th>...</th>\n",
       "      <th>RelationshipSatisfaction</th>\n",
       "      <th>StockOptionLevel</th>\n",
       "      <th>TotalWorkingYears</th>\n",
       "      <th>TrainingTimesLastYear</th>\n",
       "      <th>WorkLifeBalance</th>\n",
       "      <th>YearsAtCompany</th>\n",
       "      <th>YearsInCurrentRole</th>\n",
       "      <th>YearsSinceLastPromotion</th>\n",
       "      <th>YearsWithCurrManager</th>\n",
       "      <th>Attrition</th>\n",
       "    </tr>\n",
       "  </thead>\n",
       "  <tbody>\n",
       "    <tr>\n",
       "      <th>0</th>\n",
       "      <td>41</td>\n",
       "      <td>Travel_Rarely</td>\n",
       "      <td>1102</td>\n",
       "      <td>Sales</td>\n",
       "      <td>1</td>\n",
       "      <td>2</td>\n",
       "      <td>Life Sciences</td>\n",
       "      <td>2</td>\n",
       "      <td>Female</td>\n",
       "      <td>94</td>\n",
       "      <td>...</td>\n",
       "      <td>1</td>\n",
       "      <td>0</td>\n",
       "      <td>8</td>\n",
       "      <td>0</td>\n",
       "      <td>1</td>\n",
       "      <td>6</td>\n",
       "      <td>4</td>\n",
       "      <td>0</td>\n",
       "      <td>5</td>\n",
       "      <td>Yes</td>\n",
       "    </tr>\n",
       "    <tr>\n",
       "      <th>1</th>\n",
       "      <td>49</td>\n",
       "      <td>Travel_Frequently</td>\n",
       "      <td>279</td>\n",
       "      <td>Research &amp; Development</td>\n",
       "      <td>8</td>\n",
       "      <td>1</td>\n",
       "      <td>Life Sciences</td>\n",
       "      <td>3</td>\n",
       "      <td>Male</td>\n",
       "      <td>61</td>\n",
       "      <td>...</td>\n",
       "      <td>4</td>\n",
       "      <td>1</td>\n",
       "      <td>10</td>\n",
       "      <td>3</td>\n",
       "      <td>3</td>\n",
       "      <td>10</td>\n",
       "      <td>7</td>\n",
       "      <td>1</td>\n",
       "      <td>7</td>\n",
       "      <td>No</td>\n",
       "    </tr>\n",
       "    <tr>\n",
       "      <th>2</th>\n",
       "      <td>37</td>\n",
       "      <td>Travel_Rarely</td>\n",
       "      <td>1373</td>\n",
       "      <td>Research &amp; Development</td>\n",
       "      <td>2</td>\n",
       "      <td>2</td>\n",
       "      <td>Other</td>\n",
       "      <td>4</td>\n",
       "      <td>Male</td>\n",
       "      <td>92</td>\n",
       "      <td>...</td>\n",
       "      <td>2</td>\n",
       "      <td>0</td>\n",
       "      <td>7</td>\n",
       "      <td>3</td>\n",
       "      <td>3</td>\n",
       "      <td>0</td>\n",
       "      <td>0</td>\n",
       "      <td>0</td>\n",
       "      <td>0</td>\n",
       "      <td>Yes</td>\n",
       "    </tr>\n",
       "    <tr>\n",
       "      <th>3</th>\n",
       "      <td>33</td>\n",
       "      <td>Travel_Frequently</td>\n",
       "      <td>1392</td>\n",
       "      <td>Research &amp; Development</td>\n",
       "      <td>3</td>\n",
       "      <td>4</td>\n",
       "      <td>Life Sciences</td>\n",
       "      <td>4</td>\n",
       "      <td>Female</td>\n",
       "      <td>56</td>\n",
       "      <td>...</td>\n",
       "      <td>3</td>\n",
       "      <td>0</td>\n",
       "      <td>8</td>\n",
       "      <td>3</td>\n",
       "      <td>3</td>\n",
       "      <td>8</td>\n",
       "      <td>7</td>\n",
       "      <td>3</td>\n",
       "      <td>0</td>\n",
       "      <td>No</td>\n",
       "    </tr>\n",
       "    <tr>\n",
       "      <th>4</th>\n",
       "      <td>27</td>\n",
       "      <td>Travel_Rarely</td>\n",
       "      <td>591</td>\n",
       "      <td>Research &amp; Development</td>\n",
       "      <td>2</td>\n",
       "      <td>1</td>\n",
       "      <td>Medical</td>\n",
       "      <td>1</td>\n",
       "      <td>Male</td>\n",
       "      <td>40</td>\n",
       "      <td>...</td>\n",
       "      <td>4</td>\n",
       "      <td>1</td>\n",
       "      <td>6</td>\n",
       "      <td>3</td>\n",
       "      <td>3</td>\n",
       "      <td>2</td>\n",
       "      <td>2</td>\n",
       "      <td>2</td>\n",
       "      <td>2</td>\n",
       "      <td>No</td>\n",
       "    </tr>\n",
       "  </tbody>\n",
       "</table>\n",
       "<p>5 rows × 31 columns</p>\n",
       "</div>"
      ],
      "text/plain": [
       "   Age     BusinessTravel  DailyRate              Department  \\\n",
       "0   41      Travel_Rarely       1102                   Sales   \n",
       "1   49  Travel_Frequently        279  Research & Development   \n",
       "2   37      Travel_Rarely       1373  Research & Development   \n",
       "3   33  Travel_Frequently       1392  Research & Development   \n",
       "4   27      Travel_Rarely        591  Research & Development   \n",
       "\n",
       "   DistanceFromHome  Education EducationField  EnvironmentSatisfaction  \\\n",
       "0                 1          2  Life Sciences                        2   \n",
       "1                 8          1  Life Sciences                        3   \n",
       "2                 2          2          Other                        4   \n",
       "3                 3          4  Life Sciences                        4   \n",
       "4                 2          1        Medical                        1   \n",
       "\n",
       "   Gender  HourlyRate  ...  RelationshipSatisfaction  StockOptionLevel  \\\n",
       "0  Female          94  ...                         1                 0   \n",
       "1    Male          61  ...                         4                 1   \n",
       "2    Male          92  ...                         2                 0   \n",
       "3  Female          56  ...                         3                 0   \n",
       "4    Male          40  ...                         4                 1   \n",
       "\n",
       "  TotalWorkingYears  TrainingTimesLastYear WorkLifeBalance  YearsAtCompany  \\\n",
       "0                 8                      0               1               6   \n",
       "1                10                      3               3              10   \n",
       "2                 7                      3               3               0   \n",
       "3                 8                      3               3               8   \n",
       "4                 6                      3               3               2   \n",
       "\n",
       "   YearsInCurrentRole YearsSinceLastPromotion YearsWithCurrManager  Attrition  \n",
       "0                   4                       0                    5        Yes  \n",
       "1                   7                       1                    7         No  \n",
       "2                   0                       0                    0        Yes  \n",
       "3                   7                       3                    0         No  \n",
       "4                   2                       2                    2         No  \n",
       "\n",
       "[5 rows x 31 columns]"
      ]
     },
     "execution_count": 92,
     "metadata": {},
     "output_type": "execute_result"
    }
   ],
   "source": [
    "df = pd.read_csv('employee.csv')\n",
    "df.head()"
   ]
  },
  {
   "cell_type": "markdown",
   "id": "535f5af0",
   "metadata": {},
   "source": [
    "## Create dummy features"
   ]
  },
  {
   "cell_type": "code",
   "execution_count": 93,
   "id": "f55f8420",
   "metadata": {},
   "outputs": [
    {
     "name": "stdout",
     "output_type": "stream",
     "text": [
      "<class 'pandas.core.frame.DataFrame'>\n",
      "RangeIndex: 1470 entries, 0 to 1469\n",
      "Data columns (total 44 columns):\n",
      " #   Column                             Non-Null Count  Dtype\n",
      "---  ------                             --------------  -----\n",
      " 0   Age                                1470 non-null   int64\n",
      " 1   DailyRate                          1470 non-null   int64\n",
      " 2   DistanceFromHome                   1470 non-null   int64\n",
      " 3   Education                          1470 non-null   int64\n",
      " 4   EnvironmentSatisfaction            1470 non-null   int64\n",
      " 5   HourlyRate                         1470 non-null   int64\n",
      " 6   JobInvolvement                     1470 non-null   int64\n",
      " 7   JobLevel                           1470 non-null   int64\n",
      " 8   JobSatisfaction                    1470 non-null   int64\n",
      " 9   MonthlyIncome                      1470 non-null   int64\n",
      " 10  NumCompaniesWorked                 1470 non-null   int64\n",
      " 11  PercentSalaryHike                  1470 non-null   int64\n",
      " 12  PerformanceRating                  1470 non-null   int64\n",
      " 13  RelationshipSatisfaction           1470 non-null   int64\n",
      " 14  StockOptionLevel                   1470 non-null   int64\n",
      " 15  TotalWorkingYears                  1470 non-null   int64\n",
      " 16  TrainingTimesLastYear              1470 non-null   int64\n",
      " 17  WorkLifeBalance                    1470 non-null   int64\n",
      " 18  YearsAtCompany                     1470 non-null   int64\n",
      " 19  YearsInCurrentRole                 1470 non-null   int64\n",
      " 20  YearsSinceLastPromotion            1470 non-null   int64\n",
      " 21  YearsWithCurrManager               1470 non-null   int64\n",
      " 22  BusinessTravel_Travel_Frequently   1470 non-null   uint8\n",
      " 23  BusinessTravel_Travel_Rarely       1470 non-null   uint8\n",
      " 24  Department_Research & Development  1470 non-null   uint8\n",
      " 25  Department_Sales                   1470 non-null   uint8\n",
      " 26  EducationField_Life Sciences       1470 non-null   uint8\n",
      " 27  EducationField_Marketing           1470 non-null   uint8\n",
      " 28  EducationField_Medical             1470 non-null   uint8\n",
      " 29  EducationField_Other               1470 non-null   uint8\n",
      " 30  EducationField_Technical Degree    1470 non-null   uint8\n",
      " 31  Gender_Male                        1470 non-null   uint8\n",
      " 32  JobRole_Human Resources            1470 non-null   uint8\n",
      " 33  JobRole_Laboratory Technician      1470 non-null   uint8\n",
      " 34  JobRole_Manager                    1470 non-null   uint8\n",
      " 35  JobRole_Manufacturing Director     1470 non-null   uint8\n",
      " 36  JobRole_Research Director          1470 non-null   uint8\n",
      " 37  JobRole_Research Scientist         1470 non-null   uint8\n",
      " 38  JobRole_Sales Executive            1470 non-null   uint8\n",
      " 39  JobRole_Sales Representative       1470 non-null   uint8\n",
      " 40  MaritalStatus_Married              1470 non-null   uint8\n",
      " 41  MaritalStatus_Single               1470 non-null   uint8\n",
      " 42  OverTime_Yes                       1470 non-null   uint8\n",
      " 43  Attrition_Yes                      1470 non-null   uint8\n",
      "dtypes: int64(22), uint8(22)\n",
      "memory usage: 284.4 KB\n"
     ]
    }
   ],
   "source": [
    "df = pd.get_dummies(df, drop_first=True)\n",
    "df.info()"
   ]
  },
  {
   "cell_type": "markdown",
   "id": "43823a86",
   "metadata": {},
   "source": [
    "## Configuration settings"
   ]
  },
  {
   "cell_type": "code",
   "execution_count": 94,
   "id": "bfa5e5af",
   "metadata": {},
   "outputs": [
    {
     "name": "stdout",
     "output_type": "stream",
     "text": [
      "[[2], [2, 2], [2, 2, 2], [5], [5, 2], [5, 2, 2], [5, 5], [5, 5, 2], [5, 5, 5], [10], [10, 2], [10, 2, 2], [10, 5], [10, 5, 2], [10, 5, 5], [10, 10], [10, 10, 2], [10, 10, 5], [10, 10, 10]]\n"
     ]
    }
   ],
   "source": [
    "layer1_list=[2,5,10]\n",
    "layer2_list=[0,2,5,10]\n",
    "layer3_list=[0,2,5,10]\n",
    "\n",
    "hidden_layer = []\n",
    "\n",
    "for layer1 in layer1_list:\n",
    "    for layer2 in layer2_list:\n",
    "        for layer3 in layer3_list:\n",
    "            if(layer3 <= layer2 & layer2 <= layer1):\n",
    "                if(layer3 == 0):\n",
    "                    if(layer2 == 0):\n",
    "                        hidden_layer.append([layer1,])\n",
    "                    else:\n",
    "                        hidden_layer.append([layer1,layer2])\n",
    "                else:\n",
    "                    hidden_layer.append([layer1, layer2, layer3])\n",
    "print(hidden_layer)"
   ]
  },
  {
   "cell_type": "markdown",
   "id": "54a71e3d",
   "metadata": {},
   "source": [
    "## Train test split"
   ]
  },
  {
   "cell_type": "code",
   "execution_count": 95,
   "id": "3086c28a",
   "metadata": {},
   "outputs": [],
   "source": [
    "target=df['Attrition_Yes']\n",
    "features=df.drop(['Attrition_Yes'], axis=1)\n",
    "\n",
    "X_train, X_test, Y_train, Y_test = train_test_split(features, target, test_size=0.25)"
   ]
  },
  {
   "cell_type": "markdown",
   "id": "a17db413",
   "metadata": {},
   "source": [
    "## Create MLP models using different hidden layer"
   ]
  },
  {
   "cell_type": "code",
   "execution_count": 96,
   "id": "77852b59",
   "metadata": {},
   "outputs": [],
   "source": [
    "models=[]\n",
    "scores=[]\n",
    "y_preds=[]\n",
    "score=[]\n",
    "\n",
    "for layer in hidden_layer:\n",
    "    models.append(MLPClassifier(learning_rate='adaptive' , max_iter=2000, hidden_layer_sizes=layer))"
   ]
  },
  {
   "cell_type": "markdown",
   "id": "45883349",
   "metadata": {},
   "source": [
    "## Create Pipeline with different configurations for MLP classifier"
   ]
  },
  {
   "cell_type": "code",
   "execution_count": 97,
   "id": "0b8232f9",
   "metadata": {},
   "outputs": [
    {
     "name": "stderr",
     "output_type": "stream",
     "text": [
      "C:\\Users\\andre\\anaconda3\\lib\\site-packages\\sklearn\\neural_network\\_multilayer_perceptron.py:692: ConvergenceWarning: Stochastic Optimizer: Maximum iterations (2000) reached and the optimization hasn't converged yet.\n",
      "  warnings.warn(\n"
     ]
    }
   ],
   "source": [
    "for model in models:\n",
    "    pipe = Pipeline([('scaler', MinMaxScaler()),\n",
    "                     ('preprocessor', model)])\n",
    "    pipe.fit(X_train, Y_train)\n",
    "    y_pred = pipe.predict(X_test)\n",
    "    y_preds.append(y_pred)\n",
    "    score.append(pipe.score(X_test, Y_test))"
   ]
  },
  {
   "cell_type": "markdown",
   "id": "71e2fe55",
   "metadata": {},
   "source": [
    "## Find best configuration"
   ]
  },
  {
   "cell_type": "code",
   "execution_count": 98,
   "id": "7fe6f684",
   "metadata": {},
   "outputs": [
    {
     "data": {
      "text/html": [
       "<div>\n",
       "<style scoped>\n",
       "    .dataframe tbody tr th:only-of-type {\n",
       "        vertical-align: middle;\n",
       "    }\n",
       "\n",
       "    .dataframe tbody tr th {\n",
       "        vertical-align: top;\n",
       "    }\n",
       "\n",
       "    .dataframe thead th {\n",
       "        text-align: right;\n",
       "    }\n",
       "</style>\n",
       "<table border=\"1\" class=\"dataframe\">\n",
       "  <thead>\n",
       "    <tr style=\"text-align: right;\">\n",
       "      <th></th>\n",
       "      <th>ANN Hidden Layer</th>\n",
       "      <th>Score</th>\n",
       "    </tr>\n",
       "  </thead>\n",
       "  <tbody>\n",
       "    <tr>\n",
       "      <th>0</th>\n",
       "      <td>[2]</td>\n",
       "      <td>0.866848</td>\n",
       "    </tr>\n",
       "    <tr>\n",
       "      <th>1</th>\n",
       "      <td>[2, 2]</td>\n",
       "      <td>0.869565</td>\n",
       "    </tr>\n",
       "    <tr>\n",
       "      <th>2</th>\n",
       "      <td>[2, 2, 2]</td>\n",
       "      <td>0.850543</td>\n",
       "    </tr>\n",
       "    <tr>\n",
       "      <th>3</th>\n",
       "      <td>[5]</td>\n",
       "      <td>0.864130</td>\n",
       "    </tr>\n",
       "    <tr>\n",
       "      <th>4</th>\n",
       "      <td>[5, 2]</td>\n",
       "      <td>0.853261</td>\n",
       "    </tr>\n",
       "    <tr>\n",
       "      <th>5</th>\n",
       "      <td>[5, 2, 2]</td>\n",
       "      <td>0.853261</td>\n",
       "    </tr>\n",
       "    <tr>\n",
       "      <th>6</th>\n",
       "      <td>[5, 5]</td>\n",
       "      <td>0.834239</td>\n",
       "    </tr>\n",
       "    <tr>\n",
       "      <th>7</th>\n",
       "      <td>[5, 5, 2]</td>\n",
       "      <td>0.885870</td>\n",
       "    </tr>\n",
       "    <tr>\n",
       "      <th>8</th>\n",
       "      <td>[5, 5, 5]</td>\n",
       "      <td>0.847826</td>\n",
       "    </tr>\n",
       "    <tr>\n",
       "      <th>9</th>\n",
       "      <td>[10]</td>\n",
       "      <td>0.826087</td>\n",
       "    </tr>\n",
       "    <tr>\n",
       "      <th>10</th>\n",
       "      <td>[10, 2]</td>\n",
       "      <td>0.834239</td>\n",
       "    </tr>\n",
       "    <tr>\n",
       "      <th>11</th>\n",
       "      <td>[10, 2, 2]</td>\n",
       "      <td>0.820652</td>\n",
       "    </tr>\n",
       "    <tr>\n",
       "      <th>12</th>\n",
       "      <td>[10, 5]</td>\n",
       "      <td>0.815217</td>\n",
       "    </tr>\n",
       "    <tr>\n",
       "      <th>13</th>\n",
       "      <td>[10, 5, 2]</td>\n",
       "      <td>0.831522</td>\n",
       "    </tr>\n",
       "    <tr>\n",
       "      <th>14</th>\n",
       "      <td>[10, 5, 5]</td>\n",
       "      <td>0.847826</td>\n",
       "    </tr>\n",
       "    <tr>\n",
       "      <th>15</th>\n",
       "      <td>[10, 10]</td>\n",
       "      <td>0.804348</td>\n",
       "    </tr>\n",
       "    <tr>\n",
       "      <th>16</th>\n",
       "      <td>[10, 10, 2]</td>\n",
       "      <td>0.839674</td>\n",
       "    </tr>\n",
       "    <tr>\n",
       "      <th>17</th>\n",
       "      <td>[10, 10, 5]</td>\n",
       "      <td>0.809783</td>\n",
       "    </tr>\n",
       "    <tr>\n",
       "      <th>18</th>\n",
       "      <td>[10, 10, 10]</td>\n",
       "      <td>0.812500</td>\n",
       "    </tr>\n",
       "  </tbody>\n",
       "</table>\n",
       "</div>"
      ],
      "text/plain": [
       "   ANN Hidden Layer     Score\n",
       "0               [2]  0.866848\n",
       "1            [2, 2]  0.869565\n",
       "2         [2, 2, 2]  0.850543\n",
       "3               [5]  0.864130\n",
       "4            [5, 2]  0.853261\n",
       "5         [5, 2, 2]  0.853261\n",
       "6            [5, 5]  0.834239\n",
       "7         [5, 5, 2]  0.885870\n",
       "8         [5, 5, 5]  0.847826\n",
       "9              [10]  0.826087\n",
       "10          [10, 2]  0.834239\n",
       "11       [10, 2, 2]  0.820652\n",
       "12          [10, 5]  0.815217\n",
       "13       [10, 5, 2]  0.831522\n",
       "14       [10, 5, 5]  0.847826\n",
       "15         [10, 10]  0.804348\n",
       "16      [10, 10, 2]  0.839674\n",
       "17      [10, 10, 5]  0.809783\n",
       "18     [10, 10, 10]  0.812500"
      ]
     },
     "execution_count": 98,
     "metadata": {},
     "output_type": "execute_result"
    }
   ],
   "source": [
    "res_df = pd.DataFrame(zip(hidden_layer, score), columns=['ANN Hidden Layer', 'Score'])\n",
    "res_df"
   ]
  },
  {
   "cell_type": "code",
   "execution_count": 99,
   "id": "d1af5737",
   "metadata": {},
   "outputs": [
    {
     "name": "stdout",
     "output_type": "stream",
     "text": [
      "The best configuration is [5, 5, 2] in position 7\n"
     ]
    }
   ],
   "source": [
    "# Find the better configuration\n",
    "best_model_position = res_df.loc[res_df['Score'].idxmax(), 'Score']\n",
    "best_predict = y_preds[score.index(best_model_position)]\n",
    "print(\"The best configuration is %s in position %d\"% (res_df.loc[res_df['Score'].idxmax(), 'ANN Hidden Layer'], score.index(best_model_position)))"
   ]
  },
  {
   "cell_type": "markdown",
   "id": "93815a3e",
   "metadata": {},
   "source": [
    "## Confusion Matrix"
   ]
  },
  {
   "cell_type": "code",
   "execution_count": 100,
   "id": "c6b0a0b1",
   "metadata": {},
   "outputs": [
    {
     "data": {
      "text/plain": [
       "<AxesSubplot:xlabel='Predicted', ylabel='Actual'>"
      ]
     },
     "execution_count": 100,
     "metadata": {},
     "output_type": "execute_result"
    },
    {
     "data": {
      "image/png": "[encoded data removed]",
      "text/plain": [
       "<Figure size 288x288 with 1 Axes>"
      ]
     },
     "metadata": {
      "needs_background": "light"
     },
     "output_type": "display_data"
    }
   ],
   "source": [
    "data = confusion_matrix(Y_test, best_predict)\n",
    "df_cm = pd.DataFrame(data, columns=np.unique(Y_test), index = np.unique(Y_test))\n",
    "\n",
    "df_cm.index.name = 'Actual'\n",
    "df_cm.columns.name = 'Predicted'\n",
    "plt.figure(figsize = (4,4))\n",
    "sns.heatmap(df_cm, annot=True,cbar=False,\n",
    "          vmax=500, square=True, fmt=\"d\", cmap=\"Blues\")"
   ]
  },
  {
   "cell_type": "markdown",
   "id": "7afdd574",
   "metadata": {},
   "source": [
    "## Classification Report"
   ]
  },
  {
   "cell_type": "code",
   "execution_count": 101,
   "id": "59ae8c2a",
   "metadata": {},
   "outputs": [
    {
     "name": "stdout",
     "output_type": "stream",
     "text": [
      "              precision    recall  f1-score   support\n",
      "\n",
      "           0       0.90      0.98      0.93       306\n",
      "           1       0.79      0.44      0.56        62\n",
      "\n",
      "    accuracy                           0.89       368\n",
      "   macro avg       0.84      0.71      0.75       368\n",
      "weighted avg       0.88      0.89      0.87       368\n",
      "\n"
     ]
    }
   ],
   "source": [
    "print(classification_report(Y_test, best_predict))"
   ]
  },
  {
   "cell_type": "code",
   "execution_count": null,
   "id": "ec603027",
   "metadata": {},
   "outputs": [],
   "source": []
  }
 ],
 "metadata": {
  "kernelspec": {
   "display_name": "Python 3 (ipykernel)",
   "language": "python",
   "name": "python3"
  },
  "language_info": {
   "codemirror_mode": {
    "name": "ipython",
    "version": 3
   },
   "file_extension": ".py",
   "mimetype": "text/x-python",
   "name": "python",
   "nbconvert_exporter": "python",
   "pygments_lexer": "ipython3",
   "version": "3.9.12"
  }
 },
 "nbformat": 4,
 "nbformat_minor": 5
}
